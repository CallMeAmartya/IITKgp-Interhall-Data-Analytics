{
 "cells": [
  {
   "cell_type": "code",
   "execution_count": 1,
   "metadata": {},
   "outputs": [],
   "source": [
    "import pandas as pd\n",
    "import numpy as np\n",
    "import matplotlib.pyplot as plt\n",
    "%matplotlib inline"
   ]
  },
  {
   "cell_type": "code",
   "execution_count": 2,
   "metadata": {},
   "outputs": [
    {
     "data": {
      "text/html": [
       "<div>\n",
       "<style scoped>\n",
       "    .dataframe tbody tr th:only-of-type {\n",
       "        vertical-align: middle;\n",
       "    }\n",
       "\n",
       "    .dataframe tbody tr th {\n",
       "        vertical-align: top;\n",
       "    }\n",
       "\n",
       "    .dataframe thead th {\n",
       "        text-align: right;\n",
       "    }\n",
       "</style>\n",
       "<table border=\"1\" class=\"dataframe\">\n",
       "  <thead>\n",
       "    <tr style=\"text-align: right;\">\n",
       "      <th></th>\n",
       "      <th>cell_name</th>\n",
       "      <th>4G_rat</th>\n",
       "      <th>par_year</th>\n",
       "      <th>par_month</th>\n",
       "      <th>par_day</th>\n",
       "      <th>par_hour</th>\n",
       "      <th>par_min</th>\n",
       "      <th>subscriber_count</th>\n",
       "      <th>web_browsing_total_bytes</th>\n",
       "      <th>video_total_bytes</th>\n",
       "      <th>...</th>\n",
       "      <th>email_total_bytes</th>\n",
       "      <th>weather_total_bytes</th>\n",
       "      <th>media_total_bytes</th>\n",
       "      <th>mms_total_bytes</th>\n",
       "      <th>others_total_bytes</th>\n",
       "      <th>beam_direction</th>\n",
       "      <th>cell_range</th>\n",
       "      <th>tilt</th>\n",
       "      <th>ran_vendor</th>\n",
       "      <th>Congestion_Type</th>\n",
       "    </tr>\n",
       "  </thead>\n",
       "  <tbody>\n",
       "    <tr>\n",
       "      <th>0</th>\n",
       "      <td>1090595862</td>\n",
       "      <td>1</td>\n",
       "      <td>2018</td>\n",
       "      <td>12</td>\n",
       "      <td>15</td>\n",
       "      <td>0</td>\n",
       "      <td>50</td>\n",
       "      <td>152</td>\n",
       "      <td>315</td>\n",
       "      <td>59012</td>\n",
       "      <td>...</td>\n",
       "      <td>10</td>\n",
       "      <td>33</td>\n",
       "      <td>46</td>\n",
       "      <td>39</td>\n",
       "      <td>103</td>\n",
       "      <td>69</td>\n",
       "      <td>6</td>\n",
       "      <td>2</td>\n",
       "      <td>ERICSSON</td>\n",
       "      <td>4G_BACKHAUL_CONGESTION</td>\n",
       "    </tr>\n",
       "    <tr>\n",
       "      <th>1</th>\n",
       "      <td>4826375369</td>\n",
       "      <td>1</td>\n",
       "      <td>2018</td>\n",
       "      <td>12</td>\n",
       "      <td>7</td>\n",
       "      <td>20</td>\n",
       "      <td>5</td>\n",
       "      <td>54</td>\n",
       "      <td>1871</td>\n",
       "      <td>334</td>\n",
       "      <td>...</td>\n",
       "      <td>22</td>\n",
       "      <td>20</td>\n",
       "      <td>7</td>\n",
       "      <td>10</td>\n",
       "      <td>21</td>\n",
       "      <td>93</td>\n",
       "      <td>7</td>\n",
       "      <td>5</td>\n",
       "      <td>NOKIA</td>\n",
       "      <td>NC</td>\n",
       "    </tr>\n",
       "    <tr>\n",
       "      <th>2</th>\n",
       "      <td>3607540856</td>\n",
       "      <td>1</td>\n",
       "      <td>2018</td>\n",
       "      <td>12</td>\n",
       "      <td>5</td>\n",
       "      <td>16</td>\n",
       "      <td>35</td>\n",
       "      <td>277</td>\n",
       "      <td>887</td>\n",
       "      <td>945</td>\n",
       "      <td>...</td>\n",
       "      <td>14</td>\n",
       "      <td>91</td>\n",
       "      <td>49</td>\n",
       "      <td>147</td>\n",
       "      <td>159</td>\n",
       "      <td>77</td>\n",
       "      <td>6</td>\n",
       "      <td>3</td>\n",
       "      <td>ERICSSON</td>\n",
       "      <td>3G_BACKHAUL_CONGESTION</td>\n",
       "    </tr>\n",
       "    <tr>\n",
       "      <th>3</th>\n",
       "      <td>1245076813</td>\n",
       "      <td>0</td>\n",
       "      <td>2018</td>\n",
       "      <td>12</td>\n",
       "      <td>16</td>\n",
       "      <td>21</td>\n",
       "      <td>60</td>\n",
       "      <td>51</td>\n",
       "      <td>8577</td>\n",
       "      <td>494</td>\n",
       "      <td>...</td>\n",
       "      <td>10</td>\n",
       "      <td>63</td>\n",
       "      <td>42</td>\n",
       "      <td>75</td>\n",
       "      <td>35</td>\n",
       "      <td>95</td>\n",
       "      <td>7</td>\n",
       "      <td>2</td>\n",
       "      <td>HUAWEI</td>\n",
       "      <td>3G_BACKHAUL_CONGESTION</td>\n",
       "    </tr>\n",
       "    <tr>\n",
       "      <th>4</th>\n",
       "      <td>404129745</td>\n",
       "      <td>1</td>\n",
       "      <td>2018</td>\n",
       "      <td>12</td>\n",
       "      <td>4</td>\n",
       "      <td>6</td>\n",
       "      <td>60</td>\n",
       "      <td>117</td>\n",
       "      <td>2084</td>\n",
       "      <td>1056</td>\n",
       "      <td>...</td>\n",
       "      <td>67</td>\n",
       "      <td>59</td>\n",
       "      <td>91</td>\n",
       "      <td>197</td>\n",
       "      <td>316</td>\n",
       "      <td>112</td>\n",
       "      <td>3</td>\n",
       "      <td>5</td>\n",
       "      <td>HUAWEI</td>\n",
       "      <td>4G_RAN_CONGESTION</td>\n",
       "    </tr>\n",
       "  </tbody>\n",
       "</table>\n",
       "<p>5 rows × 39 columns</p>\n",
       "</div>"
      ],
      "text/plain": [
       "    cell_name  4G_rat  par_year  par_month  par_day  par_hour  par_min  \\\n",
       "0  1090595862       1      2018         12       15         0       50   \n",
       "1  4826375369       1      2018         12        7        20        5   \n",
       "2  3607540856       1      2018         12        5        16       35   \n",
       "3  1245076813       0      2018         12       16        21       60   \n",
       "4   404129745       1      2018         12        4         6       60   \n",
       "\n",
       "   subscriber_count  web_browsing_total_bytes  video_total_bytes  \\\n",
       "0               152                       315              59012   \n",
       "1                54                      1871                334   \n",
       "2               277                       887                945   \n",
       "3                51                      8577                494   \n",
       "4               117                      2084               1056   \n",
       "\n",
       "            ...            email_total_bytes  weather_total_bytes  \\\n",
       "0           ...                           10                   33   \n",
       "1           ...                           22                   20   \n",
       "2           ...                           14                   91   \n",
       "3           ...                           10                   63   \n",
       "4           ...                           67                   59   \n",
       "\n",
       "   media_total_bytes  mms_total_bytes  others_total_bytes  beam_direction  \\\n",
       "0                 46               39                 103              69   \n",
       "1                  7               10                  21              93   \n",
       "2                 49              147                 159              77   \n",
       "3                 42               75                  35              95   \n",
       "4                 91              197                 316             112   \n",
       "\n",
       "   cell_range  tilt  ran_vendor         Congestion_Type  \n",
       "0           6     2    ERICSSON  4G_BACKHAUL_CONGESTION  \n",
       "1           7     5       NOKIA                      NC  \n",
       "2           6     3    ERICSSON  3G_BACKHAUL_CONGESTION  \n",
       "3           7     2      HUAWEI  3G_BACKHAUL_CONGESTION  \n",
       "4           3     5      HUAWEI       4G_RAN_CONGESTION  \n",
       "\n",
       "[5 rows x 39 columns]"
      ]
     },
     "execution_count": 2,
     "metadata": {},
     "output_type": "execute_result"
    }
   ],
   "source": [
    "df = pd.read_csv(\"train_upd.csv\")\n",
    "df.head()89"
   ]
  },
  {
   "cell_type": "code",
   "execution_count": 3,
   "metadata": {},
   "outputs": [
    {
     "data": {
      "text/plain": [
       "array(['4G_BACKHAUL_CONGESTION', 'NC', '3G_BACKHAUL_CONGESTION',\n",
       "       '4G_RAN_CONGESTION'], dtype=object)"
      ]
     },
     "execution_count": 3,
     "metadata": {},
     "output_type": "execute_result"
    }
   ],
   "source": [
    "df['Congestion_Type'].unique()"
   ]
  },
  {
   "cell_type": "code",
   "execution_count": 4,
   "metadata": {},
   "outputs": [
    {
     "data": {
      "text/html": [
       "<div>\n",
       "<style scoped>\n",
       "    .dataframe tbody tr th:only-of-type {\n",
       "        vertical-align: middle;\n",
       "    }\n",
       "\n",
       "    .dataframe tbody tr th {\n",
       "        vertical-align: top;\n",
       "    }\n",
       "\n",
       "    .dataframe thead th {\n",
       "        text-align: right;\n",
       "    }\n",
       "</style>\n",
       "<table border=\"1\" class=\"dataframe\">\n",
       "  <thead>\n",
       "    <tr style=\"text-align: right;\">\n",
       "      <th></th>\n",
       "      <th>cell_name</th>\n",
       "      <th>4G_rat</th>\n",
       "      <th>par_year</th>\n",
       "      <th>par_month</th>\n",
       "      <th>par_day</th>\n",
       "      <th>par_hour</th>\n",
       "      <th>par_min</th>\n",
       "      <th>subscriber_count</th>\n",
       "      <th>web_browsing_total_bytes</th>\n",
       "      <th>video_total_bytes</th>\n",
       "      <th>...</th>\n",
       "      <th>email_total_bytes</th>\n",
       "      <th>weather_total_bytes</th>\n",
       "      <th>media_total_bytes</th>\n",
       "      <th>mms_total_bytes</th>\n",
       "      <th>others_total_bytes</th>\n",
       "      <th>beam_direction</th>\n",
       "      <th>cell_range</th>\n",
       "      <th>tilt</th>\n",
       "      <th>ran_vendor</th>\n",
       "      <th>Congestion_Type</th>\n",
       "    </tr>\n",
       "  </thead>\n",
       "  <tbody>\n",
       "    <tr>\n",
       "      <th>0</th>\n",
       "      <td>1090595862</td>\n",
       "      <td>1</td>\n",
       "      <td>2018</td>\n",
       "      <td>12</td>\n",
       "      <td>15</td>\n",
       "      <td>0</td>\n",
       "      <td>50</td>\n",
       "      <td>152</td>\n",
       "      <td>315</td>\n",
       "      <td>59012</td>\n",
       "      <td>...</td>\n",
       "      <td>10</td>\n",
       "      <td>33</td>\n",
       "      <td>46</td>\n",
       "      <td>39</td>\n",
       "      <td>103</td>\n",
       "      <td>69</td>\n",
       "      <td>6</td>\n",
       "      <td>2</td>\n",
       "      <td>ERICSSON</td>\n",
       "      <td>4G_BACKHAUL_CONGESTION</td>\n",
       "    </tr>\n",
       "    <tr>\n",
       "      <th>1</th>\n",
       "      <td>4826375369</td>\n",
       "      <td>1</td>\n",
       "      <td>2018</td>\n",
       "      <td>12</td>\n",
       "      <td>7</td>\n",
       "      <td>20</td>\n",
       "      <td>5</td>\n",
       "      <td>54</td>\n",
       "      <td>1871</td>\n",
       "      <td>334</td>\n",
       "      <td>...</td>\n",
       "      <td>22</td>\n",
       "      <td>20</td>\n",
       "      <td>7</td>\n",
       "      <td>10</td>\n",
       "      <td>21</td>\n",
       "      <td>93</td>\n",
       "      <td>7</td>\n",
       "      <td>5</td>\n",
       "      <td>NOKIA</td>\n",
       "      <td>NC</td>\n",
       "    </tr>\n",
       "    <tr>\n",
       "      <th>2</th>\n",
       "      <td>3607540856</td>\n",
       "      <td>1</td>\n",
       "      <td>2018</td>\n",
       "      <td>12</td>\n",
       "      <td>5</td>\n",
       "      <td>16</td>\n",
       "      <td>35</td>\n",
       "      <td>277</td>\n",
       "      <td>887</td>\n",
       "      <td>945</td>\n",
       "      <td>...</td>\n",
       "      <td>14</td>\n",
       "      <td>91</td>\n",
       "      <td>49</td>\n",
       "      <td>147</td>\n",
       "      <td>159</td>\n",
       "      <td>77</td>\n",
       "      <td>6</td>\n",
       "      <td>3</td>\n",
       "      <td>ERICSSON</td>\n",
       "      <td>3G_BACKHAUL_CONGESTION</td>\n",
       "    </tr>\n",
       "    <tr>\n",
       "      <th>3</th>\n",
       "      <td>1245076813</td>\n",
       "      <td>0</td>\n",
       "      <td>2018</td>\n",
       "      <td>12</td>\n",
       "      <td>16</td>\n",
       "      <td>21</td>\n",
       "      <td>60</td>\n",
       "      <td>51</td>\n",
       "      <td>8577</td>\n",
       "      <td>494</td>\n",
       "      <td>...</td>\n",
       "      <td>10</td>\n",
       "      <td>63</td>\n",
       "      <td>42</td>\n",
       "      <td>75</td>\n",
       "      <td>35</td>\n",
       "      <td>95</td>\n",
       "      <td>7</td>\n",
       "      <td>2</td>\n",
       "      <td>HUAWEI</td>\n",
       "      <td>3G_BACKHAUL_CONGESTION</td>\n",
       "    </tr>\n",
       "    <tr>\n",
       "      <th>4</th>\n",
       "      <td>404129745</td>\n",
       "      <td>1</td>\n",
       "      <td>2018</td>\n",
       "      <td>12</td>\n",
       "      <td>4</td>\n",
       "      <td>6</td>\n",
       "      <td>60</td>\n",
       "      <td>117</td>\n",
       "      <td>2084</td>\n",
       "      <td>1056</td>\n",
       "      <td>...</td>\n",
       "      <td>67</td>\n",
       "      <td>59</td>\n",
       "      <td>91</td>\n",
       "      <td>197</td>\n",
       "      <td>316</td>\n",
       "      <td>112</td>\n",
       "      <td>3</td>\n",
       "      <td>5</td>\n",
       "      <td>HUAWEI</td>\n",
       "      <td>4G_RAN_CONGESTION</td>\n",
       "    </tr>\n",
       "  </tbody>\n",
       "</table>\n",
       "<p>5 rows × 39 columns</p>\n",
       "</div>"
      ],
      "text/plain": [
       "    cell_name  4G_rat  par_year  par_month  par_day  par_hour  par_min  \\\n",
       "0  1090595862       1      2018         12       15         0       50   \n",
       "1  4826375369       1      2018         12        7        20        5   \n",
       "2  3607540856       1      2018         12        5        16       35   \n",
       "3  1245076813       0      2018         12       16        21       60   \n",
       "4   404129745       1      2018         12        4         6       60   \n",
       "\n",
       "   subscriber_count  web_browsing_total_bytes  video_total_bytes  \\\n",
       "0               152                       315              59012   \n",
       "1                54                      1871                334   \n",
       "2               277                       887                945   \n",
       "3                51                      8577                494   \n",
       "4               117                      2084               1056   \n",
       "\n",
       "            ...            email_total_bytes  weather_total_bytes  \\\n",
       "0           ...                           10                   33   \n",
       "1           ...                           22                   20   \n",
       "2           ...                           14                   91   \n",
       "3           ...                           10                   63   \n",
       "4           ...                           67                   59   \n",
       "\n",
       "   media_total_bytes  mms_total_bytes  others_total_bytes  beam_direction  \\\n",
       "0                 46               39                 103              69   \n",
       "1                  7               10                  21              93   \n",
       "2                 49              147                 159              77   \n",
       "3                 42               75                  35              95   \n",
       "4                 91              197                 316             112   \n",
       "\n",
       "   cell_range  tilt  ran_vendor         Congestion_Type  \n",
       "0           6     2    ERICSSON  4G_BACKHAUL_CONGESTION  \n",
       "1           7     5       NOKIA                      NC  \n",
       "2           6     3    ERICSSON  3G_BACKHAUL_CONGESTION  \n",
       "3           7     2      HUAWEI  3G_BACKHAUL_CONGESTION  \n",
       "4           3     5      HUAWEI       4G_RAN_CONGESTION  \n",
       "\n",
       "[5 rows x 39 columns]"
      ]
     },
     "execution_count": 4,
     "metadata": {},
     "output_type": "execute_result"
    }
   ],
   "source": [
    "df.head()"
   ]
  },
  {
   "cell_type": "code",
   "execution_count": 5,
   "metadata": {},
   "outputs": [
    {
     "data": {
      "text/plain": [
       "['ERICSSON', 'NOKIA', 'HUAWEI']"
      ]
     },
     "execution_count": 5,
     "metadata": {},
     "output_type": "execute_result"
    }
   ],
   "source": [
    "df['ran_vendor'].unique().tolist()"
   ]
  },
  {
   "cell_type": "code",
   "execution_count": 6,
   "metadata": {},
   "outputs": [],
   "source": [
    "df['ran_vendor'].replace(['ERICSSON', 'NOKIA', 'HUAWEI'], [0, 1, 2], inplace=True)"
   ]
  },
  {
   "cell_type": "code",
   "execution_count": 7,
   "metadata": {},
   "outputs": [
    {
     "data": {
      "text/html": [
       "<div>\n",
       "<style scoped>\n",
       "    .dataframe tbody tr th:only-of-type {\n",
       "        vertical-align: middle;\n",
       "    }\n",
       "\n",
       "    .dataframe tbody tr th {\n",
       "        vertical-align: top;\n",
       "    }\n",
       "\n",
       "    .dataframe thead th {\n",
       "        text-align: right;\n",
       "    }\n",
       "</style>\n",
       "<table border=\"1\" class=\"dataframe\">\n",
       "  <thead>\n",
       "    <tr style=\"text-align: right;\">\n",
       "      <th></th>\n",
       "      <th>cell_name</th>\n",
       "      <th>4G_rat</th>\n",
       "      <th>par_year</th>\n",
       "      <th>par_month</th>\n",
       "      <th>par_day</th>\n",
       "      <th>par_hour</th>\n",
       "      <th>par_min</th>\n",
       "      <th>subscriber_count</th>\n",
       "      <th>web_browsing_total_bytes</th>\n",
       "      <th>video_total_bytes</th>\n",
       "      <th>...</th>\n",
       "      <th>email_total_bytes</th>\n",
       "      <th>weather_total_bytes</th>\n",
       "      <th>media_total_bytes</th>\n",
       "      <th>mms_total_bytes</th>\n",
       "      <th>others_total_bytes</th>\n",
       "      <th>beam_direction</th>\n",
       "      <th>cell_range</th>\n",
       "      <th>tilt</th>\n",
       "      <th>ran_vendor</th>\n",
       "      <th>Congestion_Type</th>\n",
       "    </tr>\n",
       "  </thead>\n",
       "  <tbody>\n",
       "    <tr>\n",
       "      <th>0</th>\n",
       "      <td>1090595862</td>\n",
       "      <td>1</td>\n",
       "      <td>2018</td>\n",
       "      <td>12</td>\n",
       "      <td>6</td>\n",
       "      <td>0</td>\n",
       "      <td>50</td>\n",
       "      <td>152</td>\n",
       "      <td>315</td>\n",
       "      <td>59012</td>\n",
       "      <td>...</td>\n",
       "      <td>10</td>\n",
       "      <td>33</td>\n",
       "      <td>46</td>\n",
       "      <td>39</td>\n",
       "      <td>103</td>\n",
       "      <td>69</td>\n",
       "      <td>6</td>\n",
       "      <td>2</td>\n",
       "      <td>0</td>\n",
       "      <td>4G_BACKHAUL_CONGESTION</td>\n",
       "    </tr>\n",
       "    <tr>\n",
       "      <th>1</th>\n",
       "      <td>4826375369</td>\n",
       "      <td>1</td>\n",
       "      <td>2018</td>\n",
       "      <td>12</td>\n",
       "      <td>5</td>\n",
       "      <td>20</td>\n",
       "      <td>5</td>\n",
       "      <td>54</td>\n",
       "      <td>1871</td>\n",
       "      <td>334</td>\n",
       "      <td>...</td>\n",
       "      <td>22</td>\n",
       "      <td>20</td>\n",
       "      <td>7</td>\n",
       "      <td>10</td>\n",
       "      <td>21</td>\n",
       "      <td>93</td>\n",
       "      <td>7</td>\n",
       "      <td>5</td>\n",
       "      <td>1</td>\n",
       "      <td>NC</td>\n",
       "    </tr>\n",
       "    <tr>\n",
       "      <th>2</th>\n",
       "      <td>3607540856</td>\n",
       "      <td>1</td>\n",
       "      <td>2018</td>\n",
       "      <td>12</td>\n",
       "      <td>3</td>\n",
       "      <td>16</td>\n",
       "      <td>35</td>\n",
       "      <td>277</td>\n",
       "      <td>887</td>\n",
       "      <td>945</td>\n",
       "      <td>...</td>\n",
       "      <td>14</td>\n",
       "      <td>91</td>\n",
       "      <td>49</td>\n",
       "      <td>147</td>\n",
       "      <td>159</td>\n",
       "      <td>77</td>\n",
       "      <td>6</td>\n",
       "      <td>3</td>\n",
       "      <td>0</td>\n",
       "      <td>3G_BACKHAUL_CONGESTION</td>\n",
       "    </tr>\n",
       "    <tr>\n",
       "      <th>3</th>\n",
       "      <td>1245076813</td>\n",
       "      <td>0</td>\n",
       "      <td>2018</td>\n",
       "      <td>12</td>\n",
       "      <td>0</td>\n",
       "      <td>21</td>\n",
       "      <td>60</td>\n",
       "      <td>51</td>\n",
       "      <td>8577</td>\n",
       "      <td>494</td>\n",
       "      <td>...</td>\n",
       "      <td>10</td>\n",
       "      <td>63</td>\n",
       "      <td>42</td>\n",
       "      <td>75</td>\n",
       "      <td>35</td>\n",
       "      <td>95</td>\n",
       "      <td>7</td>\n",
       "      <td>2</td>\n",
       "      <td>2</td>\n",
       "      <td>3G_BACKHAUL_CONGESTION</td>\n",
       "    </tr>\n",
       "    <tr>\n",
       "      <th>4</th>\n",
       "      <td>404129745</td>\n",
       "      <td>1</td>\n",
       "      <td>2018</td>\n",
       "      <td>12</td>\n",
       "      <td>2</td>\n",
       "      <td>6</td>\n",
       "      <td>60</td>\n",
       "      <td>117</td>\n",
       "      <td>2084</td>\n",
       "      <td>1056</td>\n",
       "      <td>...</td>\n",
       "      <td>67</td>\n",
       "      <td>59</td>\n",
       "      <td>91</td>\n",
       "      <td>197</td>\n",
       "      <td>316</td>\n",
       "      <td>112</td>\n",
       "      <td>3</td>\n",
       "      <td>5</td>\n",
       "      <td>2</td>\n",
       "      <td>4G_RAN_CONGESTION</td>\n",
       "    </tr>\n",
       "  </tbody>\n",
       "</table>\n",
       "<p>5 rows × 39 columns</p>\n",
       "</div>"
      ],
      "text/plain": [
       "    cell_name  4G_rat  par_year  par_month  par_day  par_hour  par_min  \\\n",
       "0  1090595862       1      2018         12        6         0       50   \n",
       "1  4826375369       1      2018         12        5        20        5   \n",
       "2  3607540856       1      2018         12        3        16       35   \n",
       "3  1245076813       0      2018         12        0        21       60   \n",
       "4   404129745       1      2018         12        2         6       60   \n",
       "\n",
       "   subscriber_count  web_browsing_total_bytes  video_total_bytes  \\\n",
       "0               152                       315              59012   \n",
       "1                54                      1871                334   \n",
       "2               277                       887                945   \n",
       "3                51                      8577                494   \n",
       "4               117                      2084               1056   \n",
       "\n",
       "            ...            email_total_bytes  weather_total_bytes  \\\n",
       "0           ...                           10                   33   \n",
       "1           ...                           22                   20   \n",
       "2           ...                           14                   91   \n",
       "3           ...                           10                   63   \n",
       "4           ...                           67                   59   \n",
       "\n",
       "   media_total_bytes  mms_total_bytes  others_total_bytes  beam_direction  \\\n",
       "0                 46               39                 103              69   \n",
       "1                  7               10                  21              93   \n",
       "2                 49              147                 159              77   \n",
       "3                 42               75                  35              95   \n",
       "4                 91              197                 316             112   \n",
       "\n",
       "   cell_range  tilt  ran_vendor         Congestion_Type  \n",
       "0           6     2           0  4G_BACKHAUL_CONGESTION  \n",
       "1           7     5           1                      NC  \n",
       "2           6     3           0  3G_BACKHAUL_CONGESTION  \n",
       "3           7     2           2  3G_BACKHAUL_CONGESTION  \n",
       "4           3     5           2       4G_RAN_CONGESTION  \n",
       "\n",
       "[5 rows x 39 columns]"
      ]
     },
     "execution_count": 7,
     "metadata": {},
     "output_type": "execute_result"
    }
   ],
   "source": [
    "df['par_day'].replace([1, 2, 3, 4, 5, 6, 7, 8, 9, 10, 11, 12, 13, 14, 15, 16, 17, 18, 19, 20, 21, 22,\n",
    "                       23, 24, 25, 26, 27, 28, 29, 30, 31], [6, 0, 1, 2, 3, 4, 5, 6, 0, 1, 2, 3, 4, 5,\n",
    "                       6, 0, 1, 2, 3, 4, 5, 6, 0, 1, 2, 3, 4, 5, 6, 0, 1], inplace=True)\n",
    "df.head()"
   ]
  },
  {
   "cell_type": "code",
   "execution_count": 8,
   "metadata": {},
   "outputs": [],
   "source": [
    "df.Congestion_Type.replace(['NC', '4G_RAN_CONGESTION', '3G_BACKHAUL_CONGESTION',\n",
    "       '4G_BACKHAUL_CONGESTION'], [0, 1, 2, 3], inplace=True)"
   ]
  },
  {
   "cell_type": "code",
   "execution_count": 9,
   "metadata": {},
   "outputs": [],
   "source": [
    "X = df.drop(['cell_name', 'par_year', 'par_month', 'par_min', 'Congestion_Type'],axis=1).values\n",
    "y = df['Congestion_Type'].values\n",
    "\n",
    "from sklearn.model_selection import train_test_split\n",
    "\n",
    "X_train,X_val,y_train,y_val=train_test_split(X,y,test_size=0.25)"
   ]
  },
  {
   "cell_type": "markdown",
   "metadata": {},
   "source": [
    "**XGBoost**"
   ]
  },
  {
   "cell_type": "code",
   "execution_count": 10,
   "metadata": {},
   "outputs": [
    {
     "name": "stderr",
     "output_type": "stream",
     "text": [
      "C:\\Users\\Amartya Sen\\Anaconda3\\lib\\site-packages\\sklearn\\preprocessing\\label.py:151: DeprecationWarning: The truth value of an empty array is ambiguous. Returning False, but in future this will result in an error. Use `array.size > 0` to check that an array is not empty.\n",
      "  if diff:\n"
     ]
    }
   ],
   "source": [
    "from xgboost import XGBClassifier\n",
    "XG = XGBClassifier()\n",
    "XG.fit(X_train, y_train)\n",
    "y_pred = XG.predict(X_val)\n",
    "\n"
   ]
  },
  {
   "cell_type": "code",
   "execution_count": 11,
   "metadata": {},
   "outputs": [
    {
     "data": {
      "text/plain": [
       "array([1, 0, 0, ..., 2, 0, 1], dtype=int64)"
      ]
     },
     "execution_count": 11,
     "metadata": {},
     "output_type": "execute_result"
    }
   ],
   "source": [
    "y_pred"
   ]
  },
  {
   "cell_type": "code",
   "execution_count": 12,
   "metadata": {},
   "outputs": [
    {
     "name": "stdout",
     "output_type": "stream",
     "text": [
      "0.6651911697213408\n"
     ]
    }
   ],
   "source": [
    "from sklearn.metrics import matthews_corrcoef\n",
    "print(matthews_corrcoef(y_val, y_pred))"
   ]
  },
  {
   "cell_type": "markdown",
   "metadata": {},
   "source": [
    "**DECISION TREE**"
   ]
  },
  {
   "cell_type": "code",
   "execution_count": 13,
   "metadata": {},
   "outputs": [
    {
     "name": "stdout",
     "output_type": "stream",
     "text": [
      "0.40790479748266323\n"
     ]
    }
   ],
   "source": [
    "from sklearn.tree import DecisionTreeClassifier\n",
    "DT = DecisionTreeClassifier()\n",
    "DT.fit(X_train, y_train)\n",
    "y_pred = DT.predict(X_val)\n",
    "p = pd.DataFrame({\n",
    "    'Actual':y_val,\n",
    "    'Predicted':y_pred\n",
    "})\n",
    "p.head()\n",
    "from sklearn.metrics import matthews_corrcoef\n",
    "print(matthews_corrcoef(y_val, y_pred))"
   ]
  },
  {
   "cell_type": "markdown",
   "metadata": {},
   "source": [
    "**RANDOM FOREST**"
   ]
  },
  {
   "cell_type": "code",
   "execution_count": 14,
   "metadata": {},
   "outputs": [
    {
     "name": "stderr",
     "output_type": "stream",
     "text": [
      "C:\\Users\\Amartya Sen\\Anaconda3\\lib\\site-packages\\sklearn\\ensemble\\weight_boosting.py:29: DeprecationWarning: numpy.core.umath_tests is an internal NumPy module and should not be imported. It will be removed in a future NumPy release.\n",
      "  from numpy.core.umath_tests import inner1d\n"
     ]
    },
    {
     "name": "stdout",
     "output_type": "stream",
     "text": [
      "0.679041407995339\n"
     ]
    }
   ],
   "source": [
    "from sklearn.ensemble import RandomForestClassifier\n",
    "RF = RandomForestClassifier(n_estimators=500)\n",
    "RF.fit(X_train, y_train)\n",
    "y_pred = RF.predict(X_val)\n",
    "\n",
    "from sklearn.metrics import matthews_corrcoef\n",
    "print(matthews_corrcoef(y_val, y_pred))"
   ]
  },
  {
   "cell_type": "code",
   "execution_count": 15,
   "metadata": {},
   "outputs": [
    {
     "data": {
      "text/plain": [
       "RandomForestClassifier(bootstrap=True, class_weight=None, criterion='gini',\n",
       "            max_depth=None, max_features='auto', max_leaf_nodes=None,\n",
       "            min_impurity_decrease=0.0, min_impurity_split=None,\n",
       "            min_samples_leaf=1, min_samples_split=2,\n",
       "            min_weight_fraction_leaf=0.0, n_estimators=500, n_jobs=1,\n",
       "            oob_score=False, random_state=None, verbose=0,\n",
       "            warm_start=False)"
      ]
     },
     "execution_count": 15,
     "metadata": {},
     "output_type": "execute_result"
    }
   ],
   "source": [
    "RF.set_params()"
   ]
  },
  {
   "cell_type": "markdown",
   "metadata": {},
   "source": [
    "**Extra Trees Classifier**"
   ]
  },
  {
   "cell_type": "code",
   "execution_count": 16,
   "metadata": {},
   "outputs": [
    {
     "name": "stdout",
     "output_type": "stream",
     "text": [
      "0.5649017659523755\n"
     ]
    }
   ],
   "source": [
    "from sklearn.ensemble import ExtraTreesClassifier\n",
    "ETF = ExtraTreesClassifier()\n",
    "ETF.fit(X_train, y_train)\n",
    "y_pred = ETF.predict(X_val)\n",
    "\n",
    "from sklearn.metrics import matthews_corrcoef\n",
    "print(matthews_corrcoef(y_val, y_pred))"
   ]
  },
  {
   "cell_type": "markdown",
   "metadata": {},
   "source": [
    "**NAIVE BAYES**"
   ]
  },
  {
   "cell_type": "code",
   "execution_count": 17,
   "metadata": {},
   "outputs": [
    {
     "name": "stdout",
     "output_type": "stream",
     "text": [
      "0.6601986568199676\n"
     ]
    }
   ],
   "source": [
    "from sklearn.naive_bayes import GaussianNB\n",
    "lel = GaussianNB()\n",
    "lel.fit(X_train, y_train)\n",
    "y_pred = lel.predict(X_val)\n",
    "\n",
    "from sklearn.metrics import matthews_corrcoef\n",
    "print(matthews_corrcoef(y_val, y_pred))"
   ]
  },
  {
   "cell_type": "markdown",
   "metadata": {},
   "source": [
    "**Nearest Neighbours**"
   ]
  },
  {
   "cell_type": "code",
   "execution_count": 18,
   "metadata": {},
   "outputs": [
    {
     "name": "stdout",
     "output_type": "stream",
     "text": [
      "0.26293305026067393\n"
     ]
    }
   ],
   "source": [
    "from sklearn.neighbors import KNeighborsClassifier\n",
    "NN = KNeighborsClassifier()\n",
    "NN.fit(X_train, y_train)\n",
    "y_pred = NN.predict(X_val)\n",
    "\n",
    "from sklearn.metrics import matthews_corrcoef\n",
    "print(matthews_corrcoef(y_val, y_pred))"
   ]
  },
  {
   "cell_type": "markdown",
   "metadata": {},
   "source": [
    "**SGD**"
   ]
  },
  {
   "cell_type": "code",
   "execution_count": 19,
   "metadata": {},
   "outputs": [
    {
     "name": "stderr",
     "output_type": "stream",
     "text": [
      "C:\\Users\\Amartya Sen\\Anaconda3\\lib\\site-packages\\sklearn\\linear_model\\stochastic_gradient.py:128: FutureWarning: max_iter and tol parameters have been added in <class 'sklearn.linear_model.stochastic_gradient.SGDClassifier'> in 0.19. If both are left unset, they default to max_iter=5 and tol=None. If tol is not None, max_iter defaults to max_iter=1000. From 0.21, default max_iter will be 1000, and default tol will be 1e-3.\n",
      "  \"and default tol will be 1e-3.\" % type(self), FutureWarning)\n"
     ]
    },
    {
     "name": "stdout",
     "output_type": "stream",
     "text": [
      "0.2132259212673683\n"
     ]
    }
   ],
   "source": [
    "from sklearn.linear_model import SGDClassifier\n",
    "SGD = SGDClassifier()\n",
    "SGD.fit(X_train, y_train)\n",
    "y_pred = SGD.predict(X_val)\n",
    "\n",
    "from sklearn.metrics import matthews_corrcoef\n",
    "print(matthews_corrcoef(y_val, y_pred))"
   ]
  },
  {
   "cell_type": "markdown",
   "metadata": {},
   "source": [
    "**MLP**"
   ]
  },
  {
   "cell_type": "code",
   "execution_count": 20,
   "metadata": {},
   "outputs": [
    {
     "name": "stdout",
     "output_type": "stream",
     "text": [
      "0.5583257400009892\n"
     ]
    }
   ],
   "source": [
    "from sklearn.neural_network import MLPClassifier\n",
    "MLP = MLPClassifier()\n",
    "MLP.fit(X_train, y_train)\n",
    "y_pred = MLP.predict(X_val)\n",
    "\n",
    "from sklearn.metrics import matthews_corrcoef\n",
    "print(matthews_corrcoef(y_val, y_pred))\n"
   ]
  },
  {
   "cell_type": "code",
   "execution_count": 21,
   "metadata": {},
   "outputs": [
    {
     "data": {
      "text/html": [
       "<div>\n",
       "<style scoped>\n",
       "    .dataframe tbody tr th:only-of-type {\n",
       "        vertical-align: middle;\n",
       "    }\n",
       "\n",
       "    .dataframe tbody tr th {\n",
       "        vertical-align: top;\n",
       "    }\n",
       "\n",
       "    .dataframe thead th {\n",
       "        text-align: right;\n",
       "    }\n",
       "</style>\n",
       "<table border=\"1\" class=\"dataframe\">\n",
       "  <thead>\n",
       "    <tr style=\"text-align: right;\">\n",
       "      <th></th>\n",
       "      <th>cell_name</th>\n",
       "      <th>4G_rat</th>\n",
       "      <th>par_year</th>\n",
       "      <th>par_month</th>\n",
       "      <th>par_day</th>\n",
       "      <th>par_hour</th>\n",
       "      <th>par_min</th>\n",
       "      <th>subscriber_count</th>\n",
       "      <th>web_browsing_total_bytes</th>\n",
       "      <th>video_total_bytes</th>\n",
       "      <th>...</th>\n",
       "      <th>email_total_bytes</th>\n",
       "      <th>weather_total_bytes</th>\n",
       "      <th>media_total_bytes</th>\n",
       "      <th>mms_total_bytes</th>\n",
       "      <th>others_total_bytes</th>\n",
       "      <th>beam_direction</th>\n",
       "      <th>cell_range</th>\n",
       "      <th>tilt</th>\n",
       "      <th>ran_vendor</th>\n",
       "      <th>Congestion_Type</th>\n",
       "    </tr>\n",
       "  </thead>\n",
       "  <tbody>\n",
       "    <tr>\n",
       "      <th>0</th>\n",
       "      <td>1090595862</td>\n",
       "      <td>1</td>\n",
       "      <td>2018</td>\n",
       "      <td>12</td>\n",
       "      <td>6</td>\n",
       "      <td>0</td>\n",
       "      <td>50</td>\n",
       "      <td>152</td>\n",
       "      <td>315</td>\n",
       "      <td>59012</td>\n",
       "      <td>...</td>\n",
       "      <td>10</td>\n",
       "      <td>33</td>\n",
       "      <td>46</td>\n",
       "      <td>39</td>\n",
       "      <td>103</td>\n",
       "      <td>69</td>\n",
       "      <td>6</td>\n",
       "      <td>2</td>\n",
       "      <td>0</td>\n",
       "      <td>3</td>\n",
       "    </tr>\n",
       "    <tr>\n",
       "      <th>1</th>\n",
       "      <td>4826375369</td>\n",
       "      <td>1</td>\n",
       "      <td>2018</td>\n",
       "      <td>12</td>\n",
       "      <td>5</td>\n",
       "      <td>20</td>\n",
       "      <td>5</td>\n",
       "      <td>54</td>\n",
       "      <td>1871</td>\n",
       "      <td>334</td>\n",
       "      <td>...</td>\n",
       "      <td>22</td>\n",
       "      <td>20</td>\n",
       "      <td>7</td>\n",
       "      <td>10</td>\n",
       "      <td>21</td>\n",
       "      <td>93</td>\n",
       "      <td>7</td>\n",
       "      <td>5</td>\n",
       "      <td>1</td>\n",
       "      <td>0</td>\n",
       "    </tr>\n",
       "    <tr>\n",
       "      <th>2</th>\n",
       "      <td>3607540856</td>\n",
       "      <td>1</td>\n",
       "      <td>2018</td>\n",
       "      <td>12</td>\n",
       "      <td>3</td>\n",
       "      <td>16</td>\n",
       "      <td>35</td>\n",
       "      <td>277</td>\n",
       "      <td>887</td>\n",
       "      <td>945</td>\n",
       "      <td>...</td>\n",
       "      <td>14</td>\n",
       "      <td>91</td>\n",
       "      <td>49</td>\n",
       "      <td>147</td>\n",
       "      <td>159</td>\n",
       "      <td>77</td>\n",
       "      <td>6</td>\n",
       "      <td>3</td>\n",
       "      <td>0</td>\n",
       "      <td>2</td>\n",
       "    </tr>\n",
       "    <tr>\n",
       "      <th>3</th>\n",
       "      <td>1245076813</td>\n",
       "      <td>0</td>\n",
       "      <td>2018</td>\n",
       "      <td>12</td>\n",
       "      <td>0</td>\n",
       "      <td>21</td>\n",
       "      <td>60</td>\n",
       "      <td>51</td>\n",
       "      <td>8577</td>\n",
       "      <td>494</td>\n",
       "      <td>...</td>\n",
       "      <td>10</td>\n",
       "      <td>63</td>\n",
       "      <td>42</td>\n",
       "      <td>75</td>\n",
       "      <td>35</td>\n",
       "      <td>95</td>\n",
       "      <td>7</td>\n",
       "      <td>2</td>\n",
       "      <td>2</td>\n",
       "      <td>2</td>\n",
       "    </tr>\n",
       "    <tr>\n",
       "      <th>4</th>\n",
       "      <td>404129745</td>\n",
       "      <td>1</td>\n",
       "      <td>2018</td>\n",
       "      <td>12</td>\n",
       "      <td>2</td>\n",
       "      <td>6</td>\n",
       "      <td>60</td>\n",
       "      <td>117</td>\n",
       "      <td>2084</td>\n",
       "      <td>1056</td>\n",
       "      <td>...</td>\n",
       "      <td>67</td>\n",
       "      <td>59</td>\n",
       "      <td>91</td>\n",
       "      <td>197</td>\n",
       "      <td>316</td>\n",
       "      <td>112</td>\n",
       "      <td>3</td>\n",
       "      <td>5</td>\n",
       "      <td>2</td>\n",
       "      <td>1</td>\n",
       "    </tr>\n",
       "  </tbody>\n",
       "</table>\n",
       "<p>5 rows × 39 columns</p>\n",
       "</div>"
      ],
      "text/plain": [
       "    cell_name  4G_rat  par_year  par_month  par_day  par_hour  par_min  \\\n",
       "0  1090595862       1      2018         12        6         0       50   \n",
       "1  4826375369       1      2018         12        5        20        5   \n",
       "2  3607540856       1      2018         12        3        16       35   \n",
       "3  1245076813       0      2018         12        0        21       60   \n",
       "4   404129745       1      2018         12        2         6       60   \n",
       "\n",
       "   subscriber_count  web_browsing_total_bytes  video_total_bytes  \\\n",
       "0               152                       315              59012   \n",
       "1                54                      1871                334   \n",
       "2               277                       887                945   \n",
       "3                51                      8577                494   \n",
       "4               117                      2084               1056   \n",
       "\n",
       "        ...         email_total_bytes  weather_total_bytes  media_total_bytes  \\\n",
       "0       ...                        10                   33                 46   \n",
       "1       ...                        22                   20                  7   \n",
       "2       ...                        14                   91                 49   \n",
       "3       ...                        10                   63                 42   \n",
       "4       ...                        67                   59                 91   \n",
       "\n",
       "   mms_total_bytes  others_total_bytes  beam_direction  cell_range  tilt  \\\n",
       "0               39                 103              69           6     2   \n",
       "1               10                  21              93           7     5   \n",
       "2              147                 159              77           6     3   \n",
       "3               75                  35              95           7     2   \n",
       "4              197                 316             112           3     5   \n",
       "\n",
       "   ran_vendor  Congestion_Type  \n",
       "0           0                3  \n",
       "1           1                0  \n",
       "2           0                2  \n",
       "3           2                2  \n",
       "4           2                1  \n",
       "\n",
       "[5 rows x 39 columns]"
      ]
     },
     "execution_count": 21,
     "metadata": {},
     "output_type": "execute_result"
    }
   ],
   "source": [
    "df.head()"
   ]
  },
  {
   "cell_type": "code",
   "execution_count": 22,
   "metadata": {},
   "outputs": [
    {
     "data": {
      "text/plain": [
       "array([0.00271343, 0.00876331, 0.01373106, 0.02828298, 0.02356619,\n",
       "       0.02420191, 0.02389043, 0.02789616, 0.03568078, 0.0362252 ,\n",
       "       0.03834362, 0.02468386, 0.05236366, 0.04978304, 0.04321384,\n",
       "       0.04136589, 0.04525709, 0.03454637, 0.04329903, 0.03609975,\n",
       "       0.02372189, 0.03454461, 0.03546795, 0.03409661, 0.03369149,\n",
       "       0.03498075, 0.03506937, 0.03288848, 0.03449808, 0.03240474,\n",
       "       0.01568315, 0.00823042, 0.0061576 , 0.00465727])"
      ]
     },
     "execution_count": 22,
     "metadata": {},
     "output_type": "execute_result"
    }
   ],
   "source": [
    "RF.feature_importances_"
   ]
  },
  {
   "cell_type": "code",
   "execution_count": null,
   "metadata": {},
   "outputs": [],
   "source": []
  }
 ],
 "metadata": {
  "kernelspec": {
   "display_name": "Python 3",
   "language": "python",
   "name": "python3"
  },
  "language_info": {
   "codemirror_mode": {
    "name": "ipython",
    "version": 3
   },
   "file_extension": ".py",
   "mimetype": "text/x-python",
   "name": "python",
   "nbconvert_exporter": "python",
   "pygments_lexer": "ipython3",
   "version": "3.7.0"
  }
 },
 "nbformat": 4,
 "nbformat_minor": 2
}
