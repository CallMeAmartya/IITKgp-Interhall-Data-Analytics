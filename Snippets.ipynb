{
 "cells": [
  {
   "cell_type": "code",
   "execution_count": 53,
   "metadata": {
    "colab": {},
    "colab_type": "code",
    "id": "Qw3kGZ2xw4Oy"
   },
   "outputs": [],
   "source": [
    "import numpy as np\n",
    "import pandas as pd\n",
    "import matplotlib.pyplot as plt\n",
    "%matplotlib inline\n",
    "import seaborn as sns\n",
    "\n",
    "from sklearn.preprocessing import LabelEncoder\n",
    "from sklearn.model_selection import train_test_split, KFold"
   ]
  },
  {
   "cell_type": "code",
   "execution_count": 54,
   "metadata": {
    "colab": {
     "base_uri": "https://localhost:8080/",
     "height": 863
    },
    "colab_type": "code",
    "executionInfo": {
     "elapsed": 1185,
     "status": "error",
     "timestamp": 1549549768055,
     "user": {
      "displayName": "mann goel",
      "photoUrl": "",
      "userId": "06385473453491453857"
     },
     "user_tz": -330
    },
    "id": "s0yTBeDjw4PB",
    "outputId": "43f78613-1bee-4866-d0a6-df7dd49c1bf0"
   },
   "outputs": [],
   "source": [
    "df = pd.read_csv('train_upd.csv')\n",
    "train_copy = df.copy()"
   ]
  },
  {
   "cell_type": "code",
   "execution_count": 55,
   "metadata": {
    "colab": {
     "base_uri": "https://localhost:8080/",
     "height": 244
    },
    "colab_type": "code",
    "executionInfo": {
     "elapsed": 1548,
     "status": "ok",
     "timestamp": 1549541129305,
     "user": {
      "displayName": "aaryan bhagat",
      "photoUrl": "https://lh6.googleusercontent.com/-LOo2KNoxtXo/AAAAAAAAAAI/AAAAAAAAALg/SwvePv6PPZo/s64/photo.jpg",
      "userId": "03279308038497501812"
     },
     "user_tz": -330
    },
    "id": "dR0bDX1_w4PJ",
    "outputId": "fc314e5c-f1bf-4eb1-9858-d360053e73e6"
   },
   "outputs": [
    {
     "data": {
      "text/html": [
       "<div>\n",
       "<style scoped>\n",
       "    .dataframe tbody tr th:only-of-type {\n",
       "        vertical-align: middle;\n",
       "    }\n",
       "\n",
       "    .dataframe tbody tr th {\n",
       "        vertical-align: top;\n",
       "    }\n",
       "\n",
       "    .dataframe thead th {\n",
       "        text-align: right;\n",
       "    }\n",
       "</style>\n",
       "<table border=\"1\" class=\"dataframe\">\n",
       "  <thead>\n",
       "    <tr style=\"text-align: right;\">\n",
       "      <th></th>\n",
       "      <th>cell_name</th>\n",
       "      <th>4G_rat</th>\n",
       "      <th>par_year</th>\n",
       "      <th>par_month</th>\n",
       "      <th>par_day</th>\n",
       "      <th>par_hour</th>\n",
       "      <th>par_min</th>\n",
       "      <th>subscriber_count</th>\n",
       "      <th>web_browsing_total_bytes</th>\n",
       "      <th>video_total_bytes</th>\n",
       "      <th>...</th>\n",
       "      <th>email_total_bytes</th>\n",
       "      <th>weather_total_bytes</th>\n",
       "      <th>media_total_bytes</th>\n",
       "      <th>mms_total_bytes</th>\n",
       "      <th>others_total_bytes</th>\n",
       "      <th>beam_direction</th>\n",
       "      <th>cell_range</th>\n",
       "      <th>tilt</th>\n",
       "      <th>ran_vendor</th>\n",
       "      <th>Congestion_Type</th>\n",
       "    </tr>\n",
       "  </thead>\n",
       "  <tbody>\n",
       "    <tr>\n",
       "      <th>0</th>\n",
       "      <td>1090595862</td>\n",
       "      <td>1</td>\n",
       "      <td>2018</td>\n",
       "      <td>12</td>\n",
       "      <td>15</td>\n",
       "      <td>0</td>\n",
       "      <td>50</td>\n",
       "      <td>152</td>\n",
       "      <td>315</td>\n",
       "      <td>59012</td>\n",
       "      <td>...</td>\n",
       "      <td>10</td>\n",
       "      <td>33</td>\n",
       "      <td>46</td>\n",
       "      <td>39</td>\n",
       "      <td>103</td>\n",
       "      <td>69</td>\n",
       "      <td>6</td>\n",
       "      <td>2</td>\n",
       "      <td>ERICSSON</td>\n",
       "      <td>4G_BACKHAUL_CONGESTION</td>\n",
       "    </tr>\n",
       "    <tr>\n",
       "      <th>1</th>\n",
       "      <td>4826375369</td>\n",
       "      <td>1</td>\n",
       "      <td>2018</td>\n",
       "      <td>12</td>\n",
       "      <td>7</td>\n",
       "      <td>20</td>\n",
       "      <td>5</td>\n",
       "      <td>54</td>\n",
       "      <td>1871</td>\n",
       "      <td>334</td>\n",
       "      <td>...</td>\n",
       "      <td>22</td>\n",
       "      <td>20</td>\n",
       "      <td>7</td>\n",
       "      <td>10</td>\n",
       "      <td>21</td>\n",
       "      <td>93</td>\n",
       "      <td>7</td>\n",
       "      <td>5</td>\n",
       "      <td>NOKIA</td>\n",
       "      <td>NC</td>\n",
       "    </tr>\n",
       "    <tr>\n",
       "      <th>2</th>\n",
       "      <td>3607540856</td>\n",
       "      <td>1</td>\n",
       "      <td>2018</td>\n",
       "      <td>12</td>\n",
       "      <td>5</td>\n",
       "      <td>16</td>\n",
       "      <td>35</td>\n",
       "      <td>277</td>\n",
       "      <td>887</td>\n",
       "      <td>945</td>\n",
       "      <td>...</td>\n",
       "      <td>14</td>\n",
       "      <td>91</td>\n",
       "      <td>49</td>\n",
       "      <td>147</td>\n",
       "      <td>159</td>\n",
       "      <td>77</td>\n",
       "      <td>6</td>\n",
       "      <td>3</td>\n",
       "      <td>ERICSSON</td>\n",
       "      <td>3G_BACKHAUL_CONGESTION</td>\n",
       "    </tr>\n",
       "    <tr>\n",
       "      <th>3</th>\n",
       "      <td>1245076813</td>\n",
       "      <td>0</td>\n",
       "      <td>2018</td>\n",
       "      <td>12</td>\n",
       "      <td>16</td>\n",
       "      <td>21</td>\n",
       "      <td>60</td>\n",
       "      <td>51</td>\n",
       "      <td>8577</td>\n",
       "      <td>494</td>\n",
       "      <td>...</td>\n",
       "      <td>10</td>\n",
       "      <td>63</td>\n",
       "      <td>42</td>\n",
       "      <td>75</td>\n",
       "      <td>35</td>\n",
       "      <td>95</td>\n",
       "      <td>7</td>\n",
       "      <td>2</td>\n",
       "      <td>HUAWEI</td>\n",
       "      <td>3G_BACKHAUL_CONGESTION</td>\n",
       "    </tr>\n",
       "    <tr>\n",
       "      <th>4</th>\n",
       "      <td>404129745</td>\n",
       "      <td>1</td>\n",
       "      <td>2018</td>\n",
       "      <td>12</td>\n",
       "      <td>4</td>\n",
       "      <td>6</td>\n",
       "      <td>60</td>\n",
       "      <td>117</td>\n",
       "      <td>2084</td>\n",
       "      <td>1056</td>\n",
       "      <td>...</td>\n",
       "      <td>67</td>\n",
       "      <td>59</td>\n",
       "      <td>91</td>\n",
       "      <td>197</td>\n",
       "      <td>316</td>\n",
       "      <td>112</td>\n",
       "      <td>3</td>\n",
       "      <td>5</td>\n",
       "      <td>HUAWEI</td>\n",
       "      <td>4G_RAN_CONGESTION</td>\n",
       "    </tr>\n",
       "  </tbody>\n",
       "</table>\n",
       "<p>5 rows × 39 columns</p>\n",
       "</div>"
      ],
      "text/plain": [
       "    cell_name  4G_rat  par_year  par_month  par_day  par_hour  par_min  \\\n",
       "0  1090595862       1      2018         12       15         0       50   \n",
       "1  4826375369       1      2018         12        7        20        5   \n",
       "2  3607540856       1      2018         12        5        16       35   \n",
       "3  1245076813       0      2018         12       16        21       60   \n",
       "4   404129745       1      2018         12        4         6       60   \n",
       "\n",
       "   subscriber_count  web_browsing_total_bytes  video_total_bytes  \\\n",
       "0               152                       315              59012   \n",
       "1                54                      1871                334   \n",
       "2               277                       887                945   \n",
       "3                51                      8577                494   \n",
       "4               117                      2084               1056   \n",
       "\n",
       "            ...            email_total_bytes  weather_total_bytes  \\\n",
       "0           ...                           10                   33   \n",
       "1           ...                           22                   20   \n",
       "2           ...                           14                   91   \n",
       "3           ...                           10                   63   \n",
       "4           ...                           67                   59   \n",
       "\n",
       "   media_total_bytes  mms_total_bytes  others_total_bytes  beam_direction  \\\n",
       "0                 46               39                 103              69   \n",
       "1                  7               10                  21              93   \n",
       "2                 49              147                 159              77   \n",
       "3                 42               75                  35              95   \n",
       "4                 91              197                 316             112   \n",
       "\n",
       "   cell_range  tilt  ran_vendor         Congestion_Type  \n",
       "0           6     2    ERICSSON  4G_BACKHAUL_CONGESTION  \n",
       "1           7     5       NOKIA                      NC  \n",
       "2           6     3    ERICSSON  3G_BACKHAUL_CONGESTION  \n",
       "3           7     2      HUAWEI  3G_BACKHAUL_CONGESTION  \n",
       "4           3     5      HUAWEI       4G_RAN_CONGESTION  \n",
       "\n",
       "[5 rows x 39 columns]"
      ]
     },
     "execution_count": 55,
     "metadata": {},
     "output_type": "execute_result"
    }
   ],
   "source": [
    "df.head()"
   ]
  },
  {
   "cell_type": "code",
   "execution_count": 56,
   "metadata": {
    "colab": {
     "base_uri": "https://localhost:8080/",
     "height": 330
    },
    "colab_type": "code",
    "executionInfo": {
     "elapsed": 1146,
     "status": "ok",
     "timestamp": 1549541247107,
     "user": {
      "displayName": "aaryan bhagat",
      "photoUrl": "https://lh6.googleusercontent.com/-LOo2KNoxtXo/AAAAAAAAAAI/AAAAAAAAALg/SwvePv6PPZo/s64/photo.jpg",
      "userId": "03279308038497501812"
     },
     "user_tz": -330
    },
    "id": "Gct1PQ8x2tKz",
    "outputId": "a8bc4a3b-cbb9-4207-a486-4603a6730bb0"
   },
   "outputs": [
    {
     "name": "stderr",
     "output_type": "stream",
     "text": [
      "C:\\Users\\Amartya Sen\\Anaconda3\\lib\\site-packages\\scipy\\stats\\stats.py:1713: FutureWarning: Using a non-tuple sequence for multidimensional indexing is deprecated; use `arr[tuple(seq)]` instead of `arr[seq]`. In the future this will be interpreted as an array index, `arr[np.array(seq)]`, which will result either in an error or a different result.\n",
      "  return np.add.reduce(sorted[indexer] * weights, axis=axis) / sumval\n"
     ]
    },
    {
     "data": {
      "image/png": "[encoded data removed]",
      "text/plain": [
       "<Figure size 432x288 with 1 Axes>"
      ]
     },
     "metadata": {
      "needs_background": "light"
     },
     "output_type": "display_data"
    }
   ],
   "source": [
    "sns.distplot(df['file_sharing_total_bytes'])\n",
    "plt.savefig('Skewed')"
   ]
  },
  {
   "cell_type": "code",
   "execution_count": 57,
   "metadata": {
    "colab": {},
    "colab_type": "code",
    "id": "GU72BQaX21s3"
   },
   "outputs": [],
   "source": [
    "cols=['subscriber_count', 'web_browsing_total_bytes',\n",
    "       'video_total_bytes', 'social_ntwrking_bytes',\n",
    "       'cloud_computing_total_bytes', 'web_security_total_bytes',\n",
    "       'gaming_total_bytes', 'health_total_bytes', 'communication_total_bytes',\n",
    "       'file_sharing_total_bytes', 'remote_access_total_bytes',\n",
    "       'photo_sharing_total_bytes', 'software_dwnld_total_bytes',\n",
    "       'marketplace_total_bytes', 'storage_services_total_bytes',\n",
    "       'audio_total_bytes', 'location_services_total_bytes',\n",
    "       'presence_total_bytes', 'advertisement_total_bytes',\n",
    "       'system_total_bytes', 'voip_total_bytes', 'speedtest_total_bytes',\n",
    "       'email_total_bytes', 'weather_total_bytes', 'media_total_bytes',\n",
    "       'mms_total_bytes', 'others_total_bytes']"
   ]
  },
  {
   "cell_type": "code",
   "execution_count": 58,
   "metadata": {
    "colab": {},
    "colab_type": "code",
    "id": "iZL0jnkL23FS"
   },
   "outputs": [],
   "source": [
    "for each in cols:\n",
    "    df[each]=np.log(df[each]+1)"
   ]
  },
  {
   "cell_type": "code",
   "execution_count": 59,
   "metadata": {
    "colab": {
     "base_uri": "https://localhost:8080/",
     "height": 330
    },
    "colab_type": "code",
    "executionInfo": {
     "elapsed": 1526,
     "status": "ok",
     "timestamp": 1549541341662,
     "user": {
      "displayName": "aaryan bhagat",
      "photoUrl": "https://lh6.googleusercontent.com/-LOo2KNoxtXo/AAAAAAAAAAI/AAAAAAAAALg/SwvePv6PPZo/s64/photo.jpg",
      "userId": "03279308038497501812"
     },
     "user_tz": -330
    },
    "id": "AxiTJxNj3FGR",
    "outputId": "d110c36c-a10e-46b5-c7d5-1321e7cfa6a7"
   },
   "outputs": [
    {
     "name": "stderr",
     "output_type": "stream",
     "text": [
      "C:\\Users\\Amartya Sen\\Anaconda3\\lib\\site-packages\\scipy\\stats\\stats.py:1713: FutureWarning: Using a non-tuple sequence for multidimensional indexing is deprecated; use `arr[tuple(seq)]` instead of `arr[seq]`. In the future this will be interpreted as an array index, `arr[np.array(seq)]`, which will result either in an error or a different result.\n",
      "  return np.add.reduce(sorted[indexer] * weights, axis=axis) / sumval\n"
     ]
    },
    {
     "data": {
      "image/png": "[encoded data removed]",
      "text/plain": [
       "<Figure size 432x288 with 1 Axes>"
      ]
     },
     "metadata": {
      "needs_background": "light"
     },
     "output_type": "display_data"
    }
   ],
   "source": [
    "sns.distplot(df['file_sharing_total_bytes'])\n",
    "plt.savefig('Transformed')"
   ]
  },
  {
   "cell_type": "code",
   "execution_count": 60,
   "metadata": {
    "colab": {},
    "colab_type": "code",
    "id": "LNg_J3dYw4PU"
   },
   "outputs": [],
   "source": [
    "lb1=LabelEncoder()\n",
    "df['ran_vendor']=lb1.fit_transform(df['ran_vendor'])"
   ]
  },
  {
   "cell_type": "code",
   "execution_count": 61,
   "metadata": {
    "colab": {},
    "colab_type": "code",
    "id": "KSEPMgri2Dat"
   },
   "outputs": [],
   "source": [
    "lb2=LabelEncoder()\n",
    "df['Congestion_Type']=lb2.fit_transform(df['Congestion_Type'])"
   ]
  },
  {
   "cell_type": "code",
   "execution_count": 62,
   "metadata": {
    "colab": {},
    "colab_type": "code",
    "id": "iXN5XUCK2Jtx"
   },
   "outputs": [],
   "source": [
    "del df['par_year']\n",
    "del df['par_month']"
   ]
  },
  {
   "cell_type": "code",
   "execution_count": 63,
   "metadata": {
    "colab": {
     "base_uri": "https://localhost:8080/",
     "height": 244
    },
    "colab_type": "code",
    "executionInfo": {
     "elapsed": 1055,
     "status": "ok",
     "timestamp": 1549541137215,
     "user": {
      "displayName": "aaryan bhagat",
      "photoUrl": "https://lh6.googleusercontent.com/-LOo2KNoxtXo/AAAAAAAAAAI/AAAAAAAAALg/SwvePv6PPZo/s64/photo.jpg",
      "userId": "03279308038497501812"
     },
     "user_tz": -330
    },
    "id": "_cVFGYDIw4PZ",
    "outputId": "0ec89d18-d6ce-4e53-c2a2-064a606b37f7"
   },
   "outputs": [
    {
     "data": {
      "text/html": [
       "<div>\n",
       "<style scoped>\n",
       "    .dataframe tbody tr th:only-of-type {\n",
       "        vertical-align: middle;\n",
       "    }\n",
       "\n",
       "    .dataframe tbody tr th {\n",
       "        vertical-align: top;\n",
       "    }\n",
       "\n",
       "    .dataframe thead th {\n",
       "        text-align: right;\n",
       "    }\n",
       "</style>\n",
       "<table border=\"1\" class=\"dataframe\">\n",
       "  <thead>\n",
       "    <tr style=\"text-align: right;\">\n",
       "      <th></th>\n",
       "      <th>cell_name</th>\n",
       "      <th>4G_rat</th>\n",
       "      <th>par_day</th>\n",
       "      <th>par_hour</th>\n",
       "      <th>par_min</th>\n",
       "      <th>subscriber_count</th>\n",
       "      <th>web_browsing_total_bytes</th>\n",
       "      <th>video_total_bytes</th>\n",
       "      <th>social_ntwrking_bytes</th>\n",
       "      <th>cloud_computing_total_bytes</th>\n",
       "      <th>...</th>\n",
       "      <th>email_total_bytes</th>\n",
       "      <th>weather_total_bytes</th>\n",
       "      <th>media_total_bytes</th>\n",
       "      <th>mms_total_bytes</th>\n",
       "      <th>others_total_bytes</th>\n",
       "      <th>beam_direction</th>\n",
       "      <th>cell_range</th>\n",
       "      <th>tilt</th>\n",
       "      <th>ran_vendor</th>\n",
       "      <th>Congestion_Type</th>\n",
       "    </tr>\n",
       "  </thead>\n",
       "  <tbody>\n",
       "    <tr>\n",
       "      <th>0</th>\n",
       "      <td>1090595862</td>\n",
       "      <td>1</td>\n",
       "      <td>15</td>\n",
       "      <td>0</td>\n",
       "      <td>50</td>\n",
       "      <td>5.030438</td>\n",
       "      <td>5.755742</td>\n",
       "      <td>10.985513</td>\n",
       "      <td>7.726213</td>\n",
       "      <td>6.942157</td>\n",
       "      <td>...</td>\n",
       "      <td>2.397895</td>\n",
       "      <td>3.526361</td>\n",
       "      <td>3.850148</td>\n",
       "      <td>3.688879</td>\n",
       "      <td>4.644391</td>\n",
       "      <td>69</td>\n",
       "      <td>6</td>\n",
       "      <td>2</td>\n",
       "      <td>0</td>\n",
       "      <td>1</td>\n",
       "    </tr>\n",
       "    <tr>\n",
       "      <th>1</th>\n",
       "      <td>4826375369</td>\n",
       "      <td>1</td>\n",
       "      <td>7</td>\n",
       "      <td>20</td>\n",
       "      <td>5</td>\n",
       "      <td>4.007333</td>\n",
       "      <td>7.534763</td>\n",
       "      <td>5.814131</td>\n",
       "      <td>8.418698</td>\n",
       "      <td>4.158883</td>\n",
       "      <td>...</td>\n",
       "      <td>3.135494</td>\n",
       "      <td>3.044522</td>\n",
       "      <td>2.079442</td>\n",
       "      <td>2.397895</td>\n",
       "      <td>3.091042</td>\n",
       "      <td>93</td>\n",
       "      <td>7</td>\n",
       "      <td>5</td>\n",
       "      <td>2</td>\n",
       "      <td>3</td>\n",
       "    </tr>\n",
       "    <tr>\n",
       "      <th>2</th>\n",
       "      <td>3607540856</td>\n",
       "      <td>1</td>\n",
       "      <td>5</td>\n",
       "      <td>16</td>\n",
       "      <td>35</td>\n",
       "      <td>5.627621</td>\n",
       "      <td>6.788972</td>\n",
       "      <td>6.852243</td>\n",
       "      <td>10.075506</td>\n",
       "      <td>5.147494</td>\n",
       "      <td>...</td>\n",
       "      <td>2.708050</td>\n",
       "      <td>4.521789</td>\n",
       "      <td>3.912023</td>\n",
       "      <td>4.997212</td>\n",
       "      <td>5.075174</td>\n",
       "      <td>77</td>\n",
       "      <td>6</td>\n",
       "      <td>3</td>\n",
       "      <td>0</td>\n",
       "      <td>0</td>\n",
       "    </tr>\n",
       "    <tr>\n",
       "      <th>3</th>\n",
       "      <td>1245076813</td>\n",
       "      <td>0</td>\n",
       "      <td>16</td>\n",
       "      <td>21</td>\n",
       "      <td>60</td>\n",
       "      <td>3.951244</td>\n",
       "      <td>9.056956</td>\n",
       "      <td>6.204558</td>\n",
       "      <td>8.981807</td>\n",
       "      <td>4.204693</td>\n",
       "      <td>...</td>\n",
       "      <td>2.397895</td>\n",
       "      <td>4.158883</td>\n",
       "      <td>3.761200</td>\n",
       "      <td>4.330733</td>\n",
       "      <td>3.583519</td>\n",
       "      <td>95</td>\n",
       "      <td>7</td>\n",
       "      <td>2</td>\n",
       "      <td>1</td>\n",
       "      <td>0</td>\n",
       "    </tr>\n",
       "    <tr>\n",
       "      <th>4</th>\n",
       "      <td>404129745</td>\n",
       "      <td>1</td>\n",
       "      <td>4</td>\n",
       "      <td>6</td>\n",
       "      <td>60</td>\n",
       "      <td>4.770685</td>\n",
       "      <td>7.642524</td>\n",
       "      <td>6.963190</td>\n",
       "      <td>8.888067</td>\n",
       "      <td>5.451038</td>\n",
       "      <td>...</td>\n",
       "      <td>4.219508</td>\n",
       "      <td>4.094345</td>\n",
       "      <td>4.521789</td>\n",
       "      <td>5.288267</td>\n",
       "      <td>5.758902</td>\n",
       "      <td>112</td>\n",
       "      <td>3</td>\n",
       "      <td>5</td>\n",
       "      <td>1</td>\n",
       "      <td>2</td>\n",
       "    </tr>\n",
       "  </tbody>\n",
       "</table>\n",
       "<p>5 rows × 37 columns</p>\n",
       "</div>"
      ],
      "text/plain": [
       "    cell_name  4G_rat  par_day  par_hour  par_min  subscriber_count  \\\n",
       "0  1090595862       1       15         0       50          5.030438   \n",
       "1  4826375369       1        7        20        5          4.007333   \n",
       "2  3607540856       1        5        16       35          5.627621   \n",
       "3  1245076813       0       16        21       60          3.951244   \n",
       "4   404129745       1        4         6       60          4.770685   \n",
       "\n",
       "   web_browsing_total_bytes  video_total_bytes  social_ntwrking_bytes  \\\n",
       "0                  5.755742          10.985513               7.726213   \n",
       "1                  7.534763           5.814131               8.418698   \n",
       "2                  6.788972           6.852243              10.075506   \n",
       "3                  9.056956           6.204558               8.981807   \n",
       "4                  7.642524           6.963190               8.888067   \n",
       "\n",
       "   cloud_computing_total_bytes       ...         email_total_bytes  \\\n",
       "0                     6.942157       ...                  2.397895   \n",
       "1                     4.158883       ...                  3.135494   \n",
       "2                     5.147494       ...                  2.708050   \n",
       "3                     4.204693       ...                  2.397895   \n",
       "4                     5.451038       ...                  4.219508   \n",
       "\n",
       "   weather_total_bytes  media_total_bytes  mms_total_bytes  \\\n",
       "0             3.526361           3.850148         3.688879   \n",
       "1             3.044522           2.079442         2.397895   \n",
       "2             4.521789           3.912023         4.997212   \n",
       "3             4.158883           3.761200         4.330733   \n",
       "4             4.094345           4.521789         5.288267   \n",
       "\n",
       "   others_total_bytes  beam_direction  cell_range  tilt  ran_vendor  \\\n",
       "0            4.644391              69           6     2           0   \n",
       "1            3.091042              93           7     5           2   \n",
       "2            5.075174              77           6     3           0   \n",
       "3            3.583519              95           7     2           1   \n",
       "4            5.758902             112           3     5           1   \n",
       "\n",
       "   Congestion_Type  \n",
       "0                1  \n",
       "1                3  \n",
       "2                0  \n",
       "3                0  \n",
       "4                2  \n",
       "\n",
       "[5 rows x 37 columns]"
      ]
     },
     "execution_count": 63,
     "metadata": {},
     "output_type": "execute_result"
    }
   ],
   "source": [
    "df.head()"
   ]
  },
  {
   "cell_type": "code",
   "execution_count": 64,
   "metadata": {
    "colab": {
     "base_uri": "https://localhost:8080/",
     "height": 981
    },
    "colab_type": "code",
    "executionInfo": {
     "elapsed": 1683,
     "status": "ok",
     "timestamp": 1549541537492,
     "user": {
      "displayName": "aaryan bhagat",
      "photoUrl": "https://lh6.googleusercontent.com/-LOo2KNoxtXo/AAAAAAAAAAI/AAAAAAAAALg/SwvePv6PPZo/s64/photo.jpg",
      "userId": "03279308038497501812"
     },
     "user_tz": -330
    },
    "id": "Ij9Q3lWRw4Pi",
    "outputId": "3907ee80-ad68-4c5b-9a7f-c60613679b60"
   },
   "outputs": [
    {
     "data": {
      "image/png": "[encoded data removed]",
      "text/plain": [
       "<Figure size 1152x1152 with 1 Axes>"
      ]
     },
     "metadata": {
      "needs_background": "light"
     },
     "output_type": "display_data"
    }
   ],
   "source": [
    "plt.figure(figsize = (16,16))\n",
    "sns.countplot(data=train_copy, hue='Congestion_Type', x='4G_rat')\n",
    "plt.title('Congestion distribution with 4G rat')\n",
    "plt.savefig('4g_rat.jpg')"
   ]
  },
  {
   "cell_type": "code",
   "execution_count": 65,
   "metadata": {
    "colab": {
     "base_uri": "https://localhost:8080/",
     "height": 782
    },
    "colab_type": "code",
    "executionInfo": {
     "elapsed": 2532,
     "status": "ok",
     "timestamp": 1549541140731,
     "user": {
      "displayName": "aaryan bhagat",
      "photoUrl": "https://lh6.googleusercontent.com/-LOo2KNoxtXo/AAAAAAAAAAI/AAAAAAAAALg/SwvePv6PPZo/s64/photo.jpg",
      "userId": "03279308038497501812"
     },
     "user_tz": -330
    },
    "id": "cnMnSaGUw4Pv",
    "outputId": "4af68411-8d7e-4adf-e6b3-ad551e18d74c"
   },
   "outputs": [
    {
     "data": {
      "image/png": "[encoded data removed]",
      "text/plain": [
       "<Figure size 960x720 with 1 Axes>"
      ]
     },
     "metadata": {
      "needs_background": "light"
     },
     "output_type": "display_data"
    }
   ],
   "source": [
    "plt.figure(figsize=(8,6),dpi =120)\n",
    "plt.title('congestion distribution over a month')\n",
    "sns.countplot(data=df, x='par_day', hue='Congestion_Type')\n",
    "plt.savefig('month.jpg')"
   ]
  },
  {
   "cell_type": "code",
   "execution_count": 66,
   "metadata": {},
   "outputs": [
    {
     "name": "stderr",
     "output_type": "stream",
     "text": [
      "C:\\Users\\Amartya Sen\\Anaconda3\\lib\\site-packages\\sklearn\\preprocessing\\label.py:151: DeprecationWarning: The truth value of an empty array is ambiguous. Returning False, but in future this will result in an error. Use `array.size > 0` to check that an array is not empty.\n",
      "  if diff:\n"
     ]
    }
   ],
   "source": [
    "df['Congestion_Type']=lb2.inverse_transform(df['Congestion_Type'])"
   ]
  },
  {
   "cell_type": "code",
   "execution_count": 75,
   "metadata": {
    "colab": {
     "base_uri": "https://localhost:8080/",
     "height": 582
    },
    "colab_type": "code",
    "executionInfo": {
     "elapsed": 1920,
     "status": "ok",
     "timestamp": 1549541139913,
     "user": {
      "displayName": "aaryan bhagat",
      "photoUrl": "https://lh6.googleusercontent.com/-LOo2KNoxtXo/AAAAAAAAAAI/AAAAAAAAALg/SwvePv6PPZo/s64/photo.jpg",
      "userId": "03279308038497501812"
     },
     "user_tz": -330
    },
    "id": "xt1FZk6Lw4Po",
    "outputId": "6941126b-f03e-452b-f832-4d9054bc7d43",
    "scrolled": true
   },
   "outputs": [
    {
     "data": {
      "text/plain": [
       "Text(0,0.5,'Number of Occurrences')"
      ]
     },
     "execution_count": 75,
     "metadata": {},
     "output_type": "execute_result"
    },
    {
     "data": {
      "image/png": "[encoded data removed]",
      "text/plain": [
       "<Figure size 1200x720 with 1 Axes>"
      ]
     },
     "metadata": {
      "needs_background": "light"
     },
     "output_type": "display_data"
    }
   ],
   "source": [
    "\n",
    "plt.figure(figsize=(10,6),dpi=120)\n",
    "sns.countplot(data=df, x='Congestion_Type')\n",
    "plt.title('Congestion Type and their Counts')\n",
    "plt.ylabel('Number of Occurrences')"
   ]
  },
  {
   "cell_type": "code",
   "execution_count": 76,
   "metadata": {},
   "outputs": [
    {
     "ename": "ValueError",
     "evalue": "The truth value of an array with more than one element is ambiguous. Use a.any() or a.all()",
     "output_type": "error",
     "traceback": [
      "\u001b[1;31m---------------------------------------------------------------------------\u001b[0m",
      "\u001b[1;31mValueError\u001b[0m                                Traceback (most recent call last)",
      "\u001b[1;32m<ipython-input-76-7f17979ccec1>\u001b[0m in \u001b[0;36m<module>\u001b[1;34m()\u001b[0m\n\u001b[1;32m----> 1\u001b[1;33m \u001b[0mdf\u001b[0m\u001b[1;33m[\u001b[0m\u001b[1;34m'ran_vendor'\u001b[0m\u001b[1;33m]\u001b[0m\u001b[1;33m=\u001b[0m\u001b[0mlb1\u001b[0m\u001b[1;33m.\u001b[0m\u001b[0minverse_transform\u001b[0m\u001b[1;33m(\u001b[0m\u001b[0mdf\u001b[0m\u001b[1;33m[\u001b[0m\u001b[1;34m'ran_vendor'\u001b[0m\u001b[1;33m]\u001b[0m\u001b[1;33m)\u001b[0m\u001b[1;33m\u001b[0m\u001b[0m\n\u001b[0m",
      "\u001b[1;32m~\\Anaconda3\\lib\\site-packages\\sklearn\\preprocessing\\label.py\u001b[0m in \u001b[0;36minverse_transform\u001b[1;34m(self, y)\u001b[0m\n\u001b[0;32m    149\u001b[0m \u001b[1;33m\u001b[0m\u001b[0m\n\u001b[0;32m    150\u001b[0m         \u001b[0mdiff\u001b[0m \u001b[1;33m=\u001b[0m \u001b[0mnp\u001b[0m\u001b[1;33m.\u001b[0m\u001b[0msetdiff1d\u001b[0m\u001b[1;33m(\u001b[0m\u001b[0my\u001b[0m\u001b[1;33m,\u001b[0m \u001b[0mnp\u001b[0m\u001b[1;33m.\u001b[0m\u001b[0marange\u001b[0m\u001b[1;33m(\u001b[0m\u001b[0mlen\u001b[0m\u001b[1;33m(\u001b[0m\u001b[0mself\u001b[0m\u001b[1;33m.\u001b[0m\u001b[0mclasses_\u001b[0m\u001b[1;33m)\u001b[0m\u001b[1;33m)\u001b[0m\u001b[1;33m)\u001b[0m\u001b[1;33m\u001b[0m\u001b[0m\n\u001b[1;32m--> 151\u001b[1;33m         \u001b[1;32mif\u001b[0m \u001b[0mdiff\u001b[0m\u001b[1;33m:\u001b[0m\u001b[1;33m\u001b[0m\u001b[0m\n\u001b[0m\u001b[0;32m    152\u001b[0m             \u001b[1;32mraise\u001b[0m \u001b[0mValueError\u001b[0m\u001b[1;33m(\u001b[0m\u001b[1;34m\"y contains new labels: %s\"\u001b[0m \u001b[1;33m%\u001b[0m \u001b[0mstr\u001b[0m\u001b[1;33m(\u001b[0m\u001b[0mdiff\u001b[0m\u001b[1;33m)\u001b[0m\u001b[1;33m)\u001b[0m\u001b[1;33m\u001b[0m\u001b[0m\n\u001b[0;32m    153\u001b[0m         \u001b[0my\u001b[0m \u001b[1;33m=\u001b[0m \u001b[0mnp\u001b[0m\u001b[1;33m.\u001b[0m\u001b[0masarray\u001b[0m\u001b[1;33m(\u001b[0m\u001b[0my\u001b[0m\u001b[1;33m)\u001b[0m\u001b[1;33m\u001b[0m\u001b[0m\n",
      "\u001b[1;31mValueError\u001b[0m: The truth value of an array with more than one element is ambiguous. Use a.any() or a.all()"
     ]
    }
   ],
   "source": [
    "df['ran_vendor']=lb1.inverse_transform(df['ran_vendor'])"
   ]
  },
  {
   "cell_type": "code",
   "execution_count": null,
   "metadata": {
    "colab": {
     "base_uri": "https://localhost:8080/",
     "height": 582
    },
    "colab_type": "code",
    "executionInfo": {
     "elapsed": 2317,
     "status": "ok",
     "timestamp": 1549541140736,
     "user": {
      "displayName": "aaryan bhagat",
      "photoUrl": "https://lh6.googleusercontent.com/-LOo2KNoxtXo/AAAAAAAAAAI/AAAAAAAAALg/SwvePv6PPZo/s64/photo.jpg",
      "userId": "03279308038497501812"
     },
     "user_tz": -330
    },
    "id": "jiGW3X9Yw4P2",
    "outputId": "fd30d1c1-b902-4dd2-8b12-5aa30d5d2833"
   },
   "outputs": [],
   "source": [
    "plt.figure(figsize=(6,6), dpi=120)\n",
    "sns.countplot(data=df, x='ran_vendor')\n",
    "plt.title('RAN vendors')"
   ]
  },
  {
   "cell_type": "code",
   "execution_count": 77,
   "metadata": {
    "colab": {
     "base_uri": "https://localhost:8080/",
     "height": 550
    },
    "colab_type": "code",
    "executionInfo": {
     "elapsed": 2750,
     "status": "ok",
     "timestamp": 1549541141442,
     "user": {
      "displayName": "aaryan bhagat",
      "photoUrl": "https://lh6.googleusercontent.com/-LOo2KNoxtXo/AAAAAAAAAAI/AAAAAAAAALg/SwvePv6PPZo/s64/photo.jpg",
      "userId": "03279308038497501812"
     },
     "user_tz": -330
    },
    "id": "qmjwzd58yFs2",
    "outputId": "953054ad-cf50-4a28-de67-a0b46c575f43"
   },
   "outputs": [
    {
     "data": {
      "image/png": "[encoded data removed]",
      "text/plain": [
       "<Figure size 432x576 with 1 Axes>"
      ]
     },
     "metadata": {
      "needs_background": "light"
     },
     "output_type": "display_data"
    }
   ],
   "source": [
    "plt.figure(figsize = (6,8))\n",
    "sns.countplot(train_copy['Congestion_Type'])\n",
    "plt.savefig('Count_vs_CongestionType')"
   ]
  },
  {
   "cell_type": "code",
   "execution_count": 78,
   "metadata": {
    "colab": {},
    "colab_type": "code",
    "id": "klwjGKsw0GVi"
   },
   "outputs": [],
   "source": [
    "x_2 = df.loc[df['Congestion_Type']==2]\n",
    "x_3 = df.loc[df['Congestion_Type']==3]\n",
    "x_0 = df.loc[df['Congestion_Type']==0]\n",
    "x_1 = df.loc[df['Congestion_Type']==1]"
   ]
  },
  {
   "cell_type": "code",
   "execution_count": 79,
   "metadata": {
    "colab": {},
    "colab_type": "code",
    "id": "EMxhMyaN0JMy"
   },
   "outputs": [],
   "source": [
    "rtf = x_2.append(x_0)"
   ]
  },
  {
   "cell_type": "code",
   "execution_count": 80,
   "metadata": {
    "colab": {
     "base_uri": "https://localhost:8080/",
     "height": 1059
    },
    "colab_type": "code",
    "executionInfo": {
     "elapsed": 4698,
     "status": "ok",
     "timestamp": 1549541144384,
     "user": {
      "displayName": "aaryan bhagat",
      "photoUrl": "https://lh6.googleusercontent.com/-LOo2KNoxtXo/AAAAAAAAAAI/AAAAAAAAALg/SwvePv6PPZo/s64/photo.jpg",
      "userId": "03279308038497501812"
     },
     "user_tz": -330
    },
    "id": "X5jv1M6lyZ-t",
    "outputId": "2ce12f9d-af88-4173-b7db-67f4d9f8c214"
   },
   "outputs": [
    {
     "ename": "ValueError",
     "evalue": "zero-size array to reduction operation minimum which has no identity",
     "output_type": "error",
     "traceback": [
      "\u001b[1;31m---------------------------------------------------------------------------\u001b[0m",
      "\u001b[1;31mValueError\u001b[0m                                Traceback (most recent call last)",
      "\u001b[1;32m<ipython-input-80-4911dc52739c>\u001b[0m in \u001b[0;36m<module>\u001b[1;34m()\u001b[0m\n\u001b[0;32m      1\u001b[0m \u001b[0mplt\u001b[0m\u001b[1;33m.\u001b[0m\u001b[0mfigure\u001b[0m\u001b[1;33m(\u001b[0m\u001b[0mfigsize\u001b[0m\u001b[1;33m=\u001b[0m\u001b[1;33m(\u001b[0m\u001b[1;36m24\u001b[0m\u001b[1;33m,\u001b[0m\u001b[1;36m16\u001b[0m\u001b[1;33m)\u001b[0m\u001b[1;33m)\u001b[0m\u001b[1;33m\u001b[0m\u001b[0m\n\u001b[0;32m      2\u001b[0m \u001b[0mcorr\u001b[0m \u001b[1;33m=\u001b[0m \u001b[0mrtf\u001b[0m\u001b[1;33m.\u001b[0m\u001b[0mcorr\u001b[0m\u001b[1;33m(\u001b[0m\u001b[1;33m)\u001b[0m\u001b[1;33m\u001b[0m\u001b[0m\n\u001b[1;32m----> 3\u001b[1;33m \u001b[0msns\u001b[0m\u001b[1;33m.\u001b[0m\u001b[0mheatmap\u001b[0m\u001b[1;33m(\u001b[0m\u001b[0mcorr\u001b[0m\u001b[1;33m,\u001b[0m \u001b[0mxticklabels\u001b[0m\u001b[1;33m=\u001b[0m\u001b[0mcorr\u001b[0m\u001b[1;33m.\u001b[0m\u001b[0mcolumns\u001b[0m\u001b[1;33m.\u001b[0m\u001b[0mvalues\u001b[0m\u001b[1;33m,\u001b[0m\u001b[0myticklabels\u001b[0m\u001b[1;33m=\u001b[0m\u001b[0mcorr\u001b[0m\u001b[1;33m.\u001b[0m\u001b[0mcolumns\u001b[0m\u001b[1;33m.\u001b[0m\u001b[0mvalues\u001b[0m\u001b[1;33m)\u001b[0m\u001b[1;33m\u001b[0m\u001b[0m\n\u001b[0m\u001b[0;32m      4\u001b[0m \u001b[0mplt\u001b[0m\u001b[1;33m.\u001b[0m\u001b[0msavefig\u001b[0m\u001b[1;33m(\u001b[0m\u001b[1;34m'Correlation_between_2_0'\u001b[0m\u001b[1;33m)\u001b[0m\u001b[1;33m\u001b[0m\u001b[0m\n",
      "\u001b[1;32m~\\Anaconda3\\lib\\site-packages\\seaborn\\matrix.py\u001b[0m in \u001b[0;36mheatmap\u001b[1;34m(data, vmin, vmax, cmap, center, robust, annot, fmt, annot_kws, linewidths, linecolor, cbar, cbar_kws, cbar_ax, square, xticklabels, yticklabels, mask, ax, **kwargs)\u001b[0m\n\u001b[0;32m    515\u001b[0m     plotter = _HeatMapper(data, vmin, vmax, cmap, center, robust, annot, fmt,\n\u001b[0;32m    516\u001b[0m                           \u001b[0mannot_kws\u001b[0m\u001b[1;33m,\u001b[0m \u001b[0mcbar\u001b[0m\u001b[1;33m,\u001b[0m \u001b[0mcbar_kws\u001b[0m\u001b[1;33m,\u001b[0m \u001b[0mxticklabels\u001b[0m\u001b[1;33m,\u001b[0m\u001b[1;33m\u001b[0m\u001b[0m\n\u001b[1;32m--> 517\u001b[1;33m                           yticklabels, mask)\n\u001b[0m\u001b[0;32m    518\u001b[0m \u001b[1;33m\u001b[0m\u001b[0m\n\u001b[0;32m    519\u001b[0m     \u001b[1;31m# Add the pcolormesh kwargs here\u001b[0m\u001b[1;33m\u001b[0m\u001b[1;33m\u001b[0m\u001b[0m\n",
      "\u001b[1;32m~\\Anaconda3\\lib\\site-packages\\seaborn\\matrix.py\u001b[0m in \u001b[0;36m__init__\u001b[1;34m(self, data, vmin, vmax, cmap, center, robust, annot, fmt, annot_kws, cbar, cbar_kws, xticklabels, yticklabels, mask)\u001b[0m\n\u001b[0;32m    165\u001b[0m         \u001b[1;31m# Determine good default values for the colormapping\u001b[0m\u001b[1;33m\u001b[0m\u001b[1;33m\u001b[0m\u001b[0m\n\u001b[0;32m    166\u001b[0m         self._determine_cmap_params(plot_data, vmin, vmax,\n\u001b[1;32m--> 167\u001b[1;33m                                     cmap, center, robust)\n\u001b[0m\u001b[0;32m    168\u001b[0m \u001b[1;33m\u001b[0m\u001b[0m\n\u001b[0;32m    169\u001b[0m         \u001b[1;31m# Sort out the annotations\u001b[0m\u001b[1;33m\u001b[0m\u001b[1;33m\u001b[0m\u001b[0m\n",
      "\u001b[1;32m~\\Anaconda3\\lib\\site-packages\\seaborn\\matrix.py\u001b[0m in \u001b[0;36m_determine_cmap_params\u001b[1;34m(self, plot_data, vmin, vmax, cmap, center, robust)\u001b[0m\n\u001b[0;32m    204\u001b[0m         \u001b[0mcalc_data\u001b[0m \u001b[1;33m=\u001b[0m \u001b[0mplot_data\u001b[0m\u001b[1;33m.\u001b[0m\u001b[0mdata\u001b[0m\u001b[1;33m[\u001b[0m\u001b[1;33m~\u001b[0m\u001b[0mnp\u001b[0m\u001b[1;33m.\u001b[0m\u001b[0misnan\u001b[0m\u001b[1;33m(\u001b[0m\u001b[0mplot_data\u001b[0m\u001b[1;33m.\u001b[0m\u001b[0mdata\u001b[0m\u001b[1;33m)\u001b[0m\u001b[1;33m]\u001b[0m\u001b[1;33m\u001b[0m\u001b[0m\n\u001b[0;32m    205\u001b[0m         \u001b[1;32mif\u001b[0m \u001b[0mvmin\u001b[0m \u001b[1;32mis\u001b[0m \u001b[1;32mNone\u001b[0m\u001b[1;33m:\u001b[0m\u001b[1;33m\u001b[0m\u001b[0m\n\u001b[1;32m--> 206\u001b[1;33m             \u001b[0mvmin\u001b[0m \u001b[1;33m=\u001b[0m \u001b[0mnp\u001b[0m\u001b[1;33m.\u001b[0m\u001b[0mpercentile\u001b[0m\u001b[1;33m(\u001b[0m\u001b[0mcalc_data\u001b[0m\u001b[1;33m,\u001b[0m \u001b[1;36m2\u001b[0m\u001b[1;33m)\u001b[0m \u001b[1;32mif\u001b[0m \u001b[0mrobust\u001b[0m \u001b[1;32melse\u001b[0m \u001b[0mcalc_data\u001b[0m\u001b[1;33m.\u001b[0m\u001b[0mmin\u001b[0m\u001b[1;33m(\u001b[0m\u001b[1;33m)\u001b[0m\u001b[1;33m\u001b[0m\u001b[0m\n\u001b[0m\u001b[0;32m    207\u001b[0m         \u001b[1;32mif\u001b[0m \u001b[0mvmax\u001b[0m \u001b[1;32mis\u001b[0m \u001b[1;32mNone\u001b[0m\u001b[1;33m:\u001b[0m\u001b[1;33m\u001b[0m\u001b[0m\n\u001b[0;32m    208\u001b[0m             \u001b[0mvmax\u001b[0m \u001b[1;33m=\u001b[0m \u001b[0mnp\u001b[0m\u001b[1;33m.\u001b[0m\u001b[0mpercentile\u001b[0m\u001b[1;33m(\u001b[0m\u001b[0mcalc_data\u001b[0m\u001b[1;33m,\u001b[0m \u001b[1;36m98\u001b[0m\u001b[1;33m)\u001b[0m \u001b[1;32mif\u001b[0m \u001b[0mrobust\u001b[0m \u001b[1;32melse\u001b[0m \u001b[0mcalc_data\u001b[0m\u001b[1;33m.\u001b[0m\u001b[0mmax\u001b[0m\u001b[1;33m(\u001b[0m\u001b[1;33m)\u001b[0m\u001b[1;33m\u001b[0m\u001b[0m\n",
      "\u001b[1;32m~\\Anaconda3\\lib\\site-packages\\numpy\\core\\_methods.py\u001b[0m in \u001b[0;36m_amin\u001b[1;34m(a, axis, out, keepdims, initial)\u001b[0m\n\u001b[0;32m     30\u001b[0m def _amin(a, axis=None, out=None, keepdims=False,\n\u001b[0;32m     31\u001b[0m           initial=_NoValue):\n\u001b[1;32m---> 32\u001b[1;33m     \u001b[1;32mreturn\u001b[0m \u001b[0mumr_minimum\u001b[0m\u001b[1;33m(\u001b[0m\u001b[0ma\u001b[0m\u001b[1;33m,\u001b[0m \u001b[0maxis\u001b[0m\u001b[1;33m,\u001b[0m \u001b[1;32mNone\u001b[0m\u001b[1;33m,\u001b[0m \u001b[0mout\u001b[0m\u001b[1;33m,\u001b[0m \u001b[0mkeepdims\u001b[0m\u001b[1;33m,\u001b[0m \u001b[0minitial\u001b[0m\u001b[1;33m)\u001b[0m\u001b[1;33m\u001b[0m\u001b[0m\n\u001b[0m\u001b[0;32m     33\u001b[0m \u001b[1;33m\u001b[0m\u001b[0m\n\u001b[0;32m     34\u001b[0m def _sum(a, axis=None, dtype=None, out=None, keepdims=False,\n",
      "\u001b[1;31mValueError\u001b[0m: zero-size array to reduction operation minimum which has no identity"
     ]
    },
    {
     "data": {
      "text/plain": [
       "<Figure size 1728x1152 with 0 Axes>"
      ]
     },
     "metadata": {},
     "output_type": "display_data"
    }
   ],
   "source": [
    "plt.figure(figsize=(24,16))\n",
    "corr = rtf.corr()\n",
    "sns.heatmap(corr, xticklabels=corr.columns.values,yticklabels=corr.columns.values)\n",
    "plt.savefig('Correlation_between_2_0')"
   ]
  },
  {
   "cell_type": "code",
   "execution_count": 81,
   "metadata": {
    "colab": {},
    "colab_type": "code",
    "id": "zToCYcB-2d4V"
   },
   "outputs": [],
   "source": [
    "xx_2 = train_copy.loc[train_copy['Congestion_Type']=='4G_BACKHAUL_CONGESTION']\n",
    "xx_3 = train_copy.loc[train_copy['Congestion_Type']=='NC']\n",
    "xx_0 = train_copy.loc[train_copy['Congestion_Type']=='3G_BACKHAUL_CONGESTION']\n",
    "xx_1 = train_copy.loc[train_copy['Congestion_Type']=='4G_RAN_CONGESTION']"
   ]
  },
  {
   "cell_type": "code",
   "execution_count": 84,
   "metadata": {
    "colab": {
     "base_uri": "https://localhost:8080/",
     "height": 522
    },
    "colab_type": "code",
    "executionInfo": {
     "elapsed": 1670,
     "status": "ok",
     "timestamp": 1549541194351,
     "user": {
      "displayName": "aaryan bhagat",
      "photoUrl": "https://lh6.googleusercontent.com/-LOo2KNoxtXo/AAAAAAAAAAI/AAAAAAAAALg/SwvePv6PPZo/s64/photo.jpg",
      "userId": "03279308038497501812"
     },
     "user_tz": -330
    },
    "id": "Zoamc6Od0dlc",
    "outputId": "c7471365-0043-467e-8b02-dc904c63aa9b"
   },
   "outputs": [
    {
     "data": {
      "image/png": "[encoded data removed]",
      "text/plain": [
       "<Figure size 576x432 with 1 Axes>"
      ]
     },
     "metadata": {
      "needs_background": "light"
     },
     "output_type": "display_data"
    }
   ],
   "source": [
    "plt.figure(figsize=(8,6))\n",
    "plt.plot(xx_2['subscriber_count'],xx_2['Congestion_Type'])\n",
    "plt.plot(xx_3['subscriber_count'],xx_3['Congestion_Type'])\n",
    "plt.plot(xx_0['subscriber_count'],xx_0['Congestion_Type'])\n",
    "plt.plot(xx_1['subscriber_count'],xx_1['Congestion_Type'])\n",
    "plt.xlabel('Subscriber_count',fontsize=16)\n",
    "plt.ylabel('Congestion_Type',fontsize=16)\n",
    "plt.savefig('Subscriber_count_Congestion_Type')"
   ]
  },
  {
   "cell_type": "code",
   "execution_count": 0,
   "metadata": {
    "colab": {},
    "colab_type": "code",
    "id": "0_BqkEfG2jNL"
   },
   "outputs": [],
   "source": []
  }
 ],
 "metadata": {
  "colab": {
   "collapsed_sections": [],
   "name": "Snippets.ipynb",
   "provenance": [],
   "version": "0.3.2"
  },
  "kernelspec": {
   "display_name": "Python 3",
   "language": "python",
   "name": "python3"
  },
  "language_info": {
   "codemirror_mode": {
    "name": "ipython",
    "version": 3
   },
   "file_extension": ".py",
   "mimetype": "text/x-python",
   "name": "python",
   "nbconvert_exporter": "python",
   "pygments_lexer": "ipython3",
   "version": "3.7.0"
  }
 },
 "nbformat": 4,
 "nbformat_minor": 1
}
