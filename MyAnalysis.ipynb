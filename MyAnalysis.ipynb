{
 "cells": [
  {
   "cell_type": "code",
   "execution_count": 1,
   "metadata": {},
   "outputs": [],
   "source": [
    "import pandas as pd\n",
    "import numpy as np\n",
    "import matplotlib.pyplot as plt\n",
    "%matplotlib inline\n",
    "import seaborn as sns\n",
    "color = sns.color_palette()"
   ]
  },
  {
   "cell_type": "code",
   "execution_count": 74,
   "metadata": {},
   "outputs": [
    {
     "data": {
      "text/html": [
       "<div>\n",
       "<style scoped>\n",
       "    .dataframe tbody tr th:only-of-type {\n",
       "        vertical-align: middle;\n",
       "    }\n",
       "\n",
       "    .dataframe tbody tr th {\n",
       "        vertical-align: top;\n",
       "    }\n",
       "\n",
       "    .dataframe thead th {\n",
       "        text-align: right;\n",
       "    }\n",
       "</style>\n",
       "<table border=\"1\" class=\"dataframe\">\n",
       "  <thead>\n",
       "    <tr style=\"text-align: right;\">\n",
       "      <th></th>\n",
       "      <th>cell_name</th>\n",
       "      <th>4G_rat</th>\n",
       "      <th>par_year</th>\n",
       "      <th>par_month</th>\n",
       "      <th>par_day</th>\n",
       "      <th>par_hour</th>\n",
       "      <th>par_min</th>\n",
       "      <th>subscriber_count</th>\n",
       "      <th>web_browsing_total_bytes</th>\n",
       "      <th>video_total_bytes</th>\n",
       "      <th>...</th>\n",
       "      <th>email_total_bytes</th>\n",
       "      <th>weather_total_bytes</th>\n",
       "      <th>media_total_bytes</th>\n",
       "      <th>mms_total_bytes</th>\n",
       "      <th>others_total_bytes</th>\n",
       "      <th>beam_direction</th>\n",
       "      <th>cell_range</th>\n",
       "      <th>tilt</th>\n",
       "      <th>ran_vendor</th>\n",
       "      <th>Congestion_Type</th>\n",
       "    </tr>\n",
       "  </thead>\n",
       "  <tbody>\n",
       "    <tr>\n",
       "      <th>0</th>\n",
       "      <td>1090595862</td>\n",
       "      <td>1</td>\n",
       "      <td>2018</td>\n",
       "      <td>12</td>\n",
       "      <td>15</td>\n",
       "      <td>0</td>\n",
       "      <td>50</td>\n",
       "      <td>152</td>\n",
       "      <td>315</td>\n",
       "      <td>59012</td>\n",
       "      <td>...</td>\n",
       "      <td>10</td>\n",
       "      <td>33</td>\n",
       "      <td>46</td>\n",
       "      <td>39</td>\n",
       "      <td>103</td>\n",
       "      <td>69</td>\n",
       "      <td>6</td>\n",
       "      <td>2</td>\n",
       "      <td>ERICSSON</td>\n",
       "      <td>4G_BACKHAUL_CONGESTION</td>\n",
       "    </tr>\n",
       "    <tr>\n",
       "      <th>1</th>\n",
       "      <td>4826375369</td>\n",
       "      <td>1</td>\n",
       "      <td>2018</td>\n",
       "      <td>12</td>\n",
       "      <td>7</td>\n",
       "      <td>20</td>\n",
       "      <td>5</td>\n",
       "      <td>54</td>\n",
       "      <td>1871</td>\n",
       "      <td>334</td>\n",
       "      <td>...</td>\n",
       "      <td>22</td>\n",
       "      <td>20</td>\n",
       "      <td>7</td>\n",
       "      <td>10</td>\n",
       "      <td>21</td>\n",
       "      <td>93</td>\n",
       "      <td>7</td>\n",
       "      <td>5</td>\n",
       "      <td>NOKIA</td>\n",
       "      <td>NC</td>\n",
       "    </tr>\n",
       "    <tr>\n",
       "      <th>2</th>\n",
       "      <td>3607540856</td>\n",
       "      <td>1</td>\n",
       "      <td>2018</td>\n",
       "      <td>12</td>\n",
       "      <td>5</td>\n",
       "      <td>16</td>\n",
       "      <td>35</td>\n",
       "      <td>277</td>\n",
       "      <td>887</td>\n",
       "      <td>945</td>\n",
       "      <td>...</td>\n",
       "      <td>14</td>\n",
       "      <td>91</td>\n",
       "      <td>49</td>\n",
       "      <td>147</td>\n",
       "      <td>159</td>\n",
       "      <td>77</td>\n",
       "      <td>6</td>\n",
       "      <td>3</td>\n",
       "      <td>ERICSSON</td>\n",
       "      <td>3G_BACKHAUL_CONGESTION</td>\n",
       "    </tr>\n",
       "    <tr>\n",
       "      <th>3</th>\n",
       "      <td>1245076813</td>\n",
       "      <td>0</td>\n",
       "      <td>2018</td>\n",
       "      <td>12</td>\n",
       "      <td>16</td>\n",
       "      <td>21</td>\n",
       "      <td>60</td>\n",
       "      <td>51</td>\n",
       "      <td>8577</td>\n",
       "      <td>494</td>\n",
       "      <td>...</td>\n",
       "      <td>10</td>\n",
       "      <td>63</td>\n",
       "      <td>42</td>\n",
       "      <td>75</td>\n",
       "      <td>35</td>\n",
       "      <td>95</td>\n",
       "      <td>7</td>\n",
       "      <td>2</td>\n",
       "      <td>HUAWEI</td>\n",
       "      <td>3G_BACKHAUL_CONGESTION</td>\n",
       "    </tr>\n",
       "    <tr>\n",
       "      <th>4</th>\n",
       "      <td>404129745</td>\n",
       "      <td>1</td>\n",
       "      <td>2018</td>\n",
       "      <td>12</td>\n",
       "      <td>4</td>\n",
       "      <td>6</td>\n",
       "      <td>60</td>\n",
       "      <td>117</td>\n",
       "      <td>2084</td>\n",
       "      <td>1056</td>\n",
       "      <td>...</td>\n",
       "      <td>67</td>\n",
       "      <td>59</td>\n",
       "      <td>91</td>\n",
       "      <td>197</td>\n",
       "      <td>316</td>\n",
       "      <td>112</td>\n",
       "      <td>3</td>\n",
       "      <td>5</td>\n",
       "      <td>HUAWEI</td>\n",
       "      <td>4G_RAN_CONGESTION</td>\n",
       "    </tr>\n",
       "  </tbody>\n",
       "</table>\n",
       "<p>5 rows × 39 columns</p>\n",
       "</div>"
      ],
      "text/plain": [
       "    cell_name  4G_rat  par_year  par_month  par_day  par_hour  par_min  \\\n",
       "0  1090595862       1      2018         12       15         0       50   \n",
       "1  4826375369       1      2018         12        7        20        5   \n",
       "2  3607540856       1      2018         12        5        16       35   \n",
       "3  1245076813       0      2018         12       16        21       60   \n",
       "4   404129745       1      2018         12        4         6       60   \n",
       "\n",
       "   subscriber_count  web_browsing_total_bytes  video_total_bytes  \\\n",
       "0               152                       315              59012   \n",
       "1                54                      1871                334   \n",
       "2               277                       887                945   \n",
       "3                51                      8577                494   \n",
       "4               117                      2084               1056   \n",
       "\n",
       "            ...            email_total_bytes  weather_total_bytes  \\\n",
       "0           ...                           10                   33   \n",
       "1           ...                           22                   20   \n",
       "2           ...                           14                   91   \n",
       "3           ...                           10                   63   \n",
       "4           ...                           67                   59   \n",
       "\n",
       "   media_total_bytes  mms_total_bytes  others_total_bytes  beam_direction  \\\n",
       "0                 46               39                 103              69   \n",
       "1                  7               10                  21              93   \n",
       "2                 49              147                 159              77   \n",
       "3                 42               75                  35              95   \n",
       "4                 91              197                 316             112   \n",
       "\n",
       "   cell_range  tilt  ran_vendor         Congestion_Type  \n",
       "0           6     2    ERICSSON  4G_BACKHAUL_CONGESTION  \n",
       "1           7     5       NOKIA                      NC  \n",
       "2           6     3    ERICSSON  3G_BACKHAUL_CONGESTION  \n",
       "3           7     2      HUAWEI  3G_BACKHAUL_CONGESTION  \n",
       "4           3     5      HUAWEI       4G_RAN_CONGESTION  \n",
       "\n",
       "[5 rows x 39 columns]"
      ]
     },
     "execution_count": 74,
     "metadata": {},
     "output_type": "execute_result"
    }
   ],
   "source": [
    "df = pd.read_csv(\"train_upd.csv\")\n",
    "df.head()"
   ]
  },
  {
   "cell_type": "code",
   "execution_count": 75,
   "metadata": {},
   "outputs": [
    {
     "name": "stderr",
     "output_type": "stream",
     "text": [
      "C:\\Users\\Amartya Sen\\Anaconda3\\lib\\site-packages\\scipy\\stats\\stats.py:1713: FutureWarning: Using a non-tuple sequence for multidimensional indexing is deprecated; use `arr[tuple(seq)]` instead of `arr[seq]`. In the future this will be interpreted as an array index, `arr[np.array(seq)]`, which will result either in an error or a different result.\n",
      "  return np.add.reduce(sorted[indexer] * weights, axis=axis) / sumval\n"
     ]
    },
    {
     "data": {
      "text/plain": [
       "<matplotlib.axes._subplots.AxesSubplot at 0x29c35a871d0>"
      ]
     },
     "execution_count": 75,
     "metadata": {},
     "output_type": "execute_result"
    },
    {
     "data": {
      "image/png": "[encoded data removed]",
      "text/plain": [
       "<Figure size 1080x576 with 1 Axes>"
      ]
     },
     "metadata": {
      "needs_background": "light"
     },
     "output_type": "display_data"
    }
   ],
   "source": [
    "fig, ax1 = plt.subplots()\n",
    "fig.set_size_inches(15, 8)\n",
    "\n",
    "sns.barplot(data = df, x=\"par_day\", y=\"web_browsing_total_bytes\")"
   ]
  },
  {
   "cell_type": "code",
   "execution_count": 76,
   "metadata": {},
   "outputs": [
    {
     "name": "stdout",
     "output_type": "stream",
     "text": [
      "4G_BACKHAUL_CONGESTION3G_BACKHAUL_CONGESTION4G_RAN_CONGESTIONNC\n"
     ]
    }
   ],
   "source": [
    "df.loc[df['ran_vendor'] == 'ERICSSON']\n",
    "print(df['Congestion_Type'].loc[df['ran_vendor'] == 'ERICSSON'].unique().sum())"
   ]
  },
  {
   "cell_type": "markdown",
   "metadata": {},
   "source": [
    "date = df[['par_year', 'par_month', 'par_day']]\n",
    "date = date.rename(columns={\"par_year\":\"year\", \"par_month\":\"month\", \"par_day\":\"day\"})\n",
    "dates = pd.to_datetime(date)\n",
    "df = df.drop(['par_year', 'par_month', 'par_day'], axis=1)\n",
    "date = pd.DataFrame({'date':dates})\n",
    "DF = pd.concat([df, date],axis=1)\n",
    "cols = DF.columns.tolist()\n",
    "temp=cols[:2]+cols[-1:]+cols[2:-1]\n",
    "DF=DF[temp]\n",
    "DF.head()"
   ]
  },
  {
   "cell_type": "markdown",
   "metadata": {},
   "source": [
    "**Label Encoding on Target Variable**"
   ]
  },
  {
   "cell_type": "code",
   "execution_count": 70,
   "metadata": {},
   "outputs": [],
   "source": [
    "#from sklearn.compose import ColumnTransformer\n",
    "from sklearn.preprocessing import LabelEncoder,OneHotEncoder\n",
    "lb1 = LabelEncoder()\n",
    "df['Congestion_Type'] = lb1.fit_transform(df['Congestion_Type'])\n",
    "lb2 = LabelEncoder()\n",
    "df['ran_vendor'] = lb2.fit_transform(df['ran_vendor'])\n",
    "oh=OneHotEncoder()\n",
    "oh=oh.fit_"
   ]
  },
  {
   "cell_type": "code",
   "execution_count": 71,
   "metadata": {},
   "outputs": [
    {
     "data": {
      "text/html": [
       "<div>\n",
       "<style scoped>\n",
       "    .dataframe tbody tr th:only-of-type {\n",
       "        vertical-align: middle;\n",
       "    }\n",
       "\n",
       "    .dataframe tbody tr th {\n",
       "        vertical-align: top;\n",
       "    }\n",
       "\n",
       "    .dataframe thead th {\n",
       "        text-align: right;\n",
       "    }\n",
       "</style>\n",
       "<table border=\"1\" class=\"dataframe\">\n",
       "  <thead>\n",
       "    <tr style=\"text-align: right;\">\n",
       "      <th></th>\n",
       "      <th>cell_name</th>\n",
       "      <th>4G_rat</th>\n",
       "      <th>par_year</th>\n",
       "      <th>par_month</th>\n",
       "      <th>par_day</th>\n",
       "      <th>par_hour</th>\n",
       "      <th>par_min</th>\n",
       "      <th>subscriber_count</th>\n",
       "      <th>web_browsing_total_bytes</th>\n",
       "      <th>video_total_bytes</th>\n",
       "      <th>...</th>\n",
       "      <th>email_total_bytes</th>\n",
       "      <th>weather_total_bytes</th>\n",
       "      <th>media_total_bytes</th>\n",
       "      <th>mms_total_bytes</th>\n",
       "      <th>others_total_bytes</th>\n",
       "      <th>beam_direction</th>\n",
       "      <th>cell_range</th>\n",
       "      <th>tilt</th>\n",
       "      <th>ran_vendor</th>\n",
       "      <th>Congestion_Type</th>\n",
       "    </tr>\n",
       "  </thead>\n",
       "  <tbody>\n",
       "    <tr>\n",
       "      <th>0</th>\n",
       "      <td>1090595862</td>\n",
       "      <td>1</td>\n",
       "      <td>2018</td>\n",
       "      <td>12</td>\n",
       "      <td>15</td>\n",
       "      <td>0</td>\n",
       "      <td>50</td>\n",
       "      <td>152</td>\n",
       "      <td>315</td>\n",
       "      <td>59012</td>\n",
       "      <td>...</td>\n",
       "      <td>10</td>\n",
       "      <td>33</td>\n",
       "      <td>46</td>\n",
       "      <td>39</td>\n",
       "      <td>103</td>\n",
       "      <td>69</td>\n",
       "      <td>6</td>\n",
       "      <td>2</td>\n",
       "      <td>0</td>\n",
       "      <td>1</td>\n",
       "    </tr>\n",
       "    <tr>\n",
       "      <th>1</th>\n",
       "      <td>4826375369</td>\n",
       "      <td>1</td>\n",
       "      <td>2018</td>\n",
       "      <td>12</td>\n",
       "      <td>7</td>\n",
       "      <td>20</td>\n",
       "      <td>5</td>\n",
       "      <td>54</td>\n",
       "      <td>1871</td>\n",
       "      <td>334</td>\n",
       "      <td>...</td>\n",
       "      <td>22</td>\n",
       "      <td>20</td>\n",
       "      <td>7</td>\n",
       "      <td>10</td>\n",
       "      <td>21</td>\n",
       "      <td>93</td>\n",
       "      <td>7</td>\n",
       "      <td>5</td>\n",
       "      <td>2</td>\n",
       "      <td>3</td>\n",
       "    </tr>\n",
       "    <tr>\n",
       "      <th>2</th>\n",
       "      <td>3607540856</td>\n",
       "      <td>1</td>\n",
       "      <td>2018</td>\n",
       "      <td>12</td>\n",
       "      <td>5</td>\n",
       "      <td>16</td>\n",
       "      <td>35</td>\n",
       "      <td>277</td>\n",
       "      <td>887</td>\n",
       "      <td>945</td>\n",
       "      <td>...</td>\n",
       "      <td>14</td>\n",
       "      <td>91</td>\n",
       "      <td>49</td>\n",
       "      <td>147</td>\n",
       "      <td>159</td>\n",
       "      <td>77</td>\n",
       "      <td>6</td>\n",
       "      <td>3</td>\n",
       "      <td>0</td>\n",
       "      <td>0</td>\n",
       "    </tr>\n",
       "    <tr>\n",
       "      <th>3</th>\n",
       "      <td>1245076813</td>\n",
       "      <td>0</td>\n",
       "      <td>2018</td>\n",
       "      <td>12</td>\n",
       "      <td>16</td>\n",
       "      <td>21</td>\n",
       "      <td>60</td>\n",
       "      <td>51</td>\n",
       "      <td>8577</td>\n",
       "      <td>494</td>\n",
       "      <td>...</td>\n",
       "      <td>10</td>\n",
       "      <td>63</td>\n",
       "      <td>42</td>\n",
       "      <td>75</td>\n",
       "      <td>35</td>\n",
       "      <td>95</td>\n",
       "      <td>7</td>\n",
       "      <td>2</td>\n",
       "      <td>1</td>\n",
       "      <td>0</td>\n",
       "    </tr>\n",
       "    <tr>\n",
       "      <th>4</th>\n",
       "      <td>404129745</td>\n",
       "      <td>1</td>\n",
       "      <td>2018</td>\n",
       "      <td>12</td>\n",
       "      <td>4</td>\n",
       "      <td>6</td>\n",
       "      <td>60</td>\n",
       "      <td>117</td>\n",
       "      <td>2084</td>\n",
       "      <td>1056</td>\n",
       "      <td>...</td>\n",
       "      <td>67</td>\n",
       "      <td>59</td>\n",
       "      <td>91</td>\n",
       "      <td>197</td>\n",
       "      <td>316</td>\n",
       "      <td>112</td>\n",
       "      <td>3</td>\n",
       "      <td>5</td>\n",
       "      <td>1</td>\n",
       "      <td>2</td>\n",
       "    </tr>\n",
       "  </tbody>\n",
       "</table>\n",
       "<p>5 rows × 39 columns</p>\n",
       "</div>"
      ],
      "text/plain": [
       "    cell_name  4G_rat  par_year  par_month  par_day  par_hour  par_min  \\\n",
       "0  1090595862       1      2018         12       15         0       50   \n",
       "1  4826375369       1      2018         12        7        20        5   \n",
       "2  3607540856       1      2018         12        5        16       35   \n",
       "3  1245076813       0      2018         12       16        21       60   \n",
       "4   404129745       1      2018         12        4         6       60   \n",
       "\n",
       "   subscriber_count  web_browsing_total_bytes  video_total_bytes  \\\n",
       "0               152                       315              59012   \n",
       "1                54                      1871                334   \n",
       "2               277                       887                945   \n",
       "3                51                      8577                494   \n",
       "4               117                      2084               1056   \n",
       "\n",
       "        ...         email_total_bytes  weather_total_bytes  media_total_bytes  \\\n",
       "0       ...                        10                   33                 46   \n",
       "1       ...                        22                   20                  7   \n",
       "2       ...                        14                   91                 49   \n",
       "3       ...                        10                   63                 42   \n",
       "4       ...                        67                   59                 91   \n",
       "\n",
       "   mms_total_bytes  others_total_bytes  beam_direction  cell_range  tilt  \\\n",
       "0               39                 103              69           6     2   \n",
       "1               10                  21              93           7     5   \n",
       "2              147                 159              77           6     3   \n",
       "3               75                  35              95           7     2   \n",
       "4              197                 316             112           3     5   \n",
       "\n",
       "   ran_vendor  Congestion_Type  \n",
       "0           0                1  \n",
       "1           2                3  \n",
       "2           0                0  \n",
       "3           1                0  \n",
       "4           1                2  \n",
       "\n",
       "[5 rows x 39 columns]"
      ]
     },
     "execution_count": 71,
     "metadata": {},
     "output_type": "execute_result"
    }
   ],
   "source": [
    "df.head()"
   ]
  },
  {
   "cell_type": "markdown",
   "metadata": {},
   "source": [
    "**Data Visualisation**"
   ]
  },
  {
   "cell_type": "code",
   "execution_count": 10,
   "metadata": {},
   "outputs": [
    {
     "data": {
      "image/png": "[encoded data removed]",
      "text/plain": [
       "<Figure size 1080x720 with 2 Axes>"
      ]
     },
     "metadata": {
      "needs_background": "light"
     },
     "output_type": "display_data"
    }
   ],
   "source": [
    "from matplotlib.pylab import rcParams\n",
    "rcParams['figure.figsize'] = 15,10\n",
    "ax = df.plot.scatter(y='par_hour', x='subscriber_count', c='Congestion_Type', colormap='viridis')"
   ]
  },
  {
   "cell_type": "markdown",
   "metadata": {},
   "source": [
    "**Feature Importance**"
   ]
  },
  {
   "cell_type": "code",
   "execution_count": 11,
   "metadata": {},
   "outputs": [],
   "source": [
    "X = df.drop(['cell_name', 'Congestion_Type'],axis=1).values\n",
    "y = df['Congestion_Type'].values\n",
    "\n",
    "from sklearn.model_selection import train_test_split\n",
    "\n",
    "X_train,X_val,y_train,y_val=train_test_split(X,y,test_size=0.25)"
   ]
  },
  {
   "cell_type": "code",
   "execution_count": 12,
   "metadata": {},
   "outputs": [
    {
     "name": "stderr",
     "output_type": "stream",
     "text": [
      "C:\\Users\\Amartya Sen\\Anaconda3\\lib\\site-packages\\sklearn\\ensemble\\weight_boosting.py:29: DeprecationWarning: numpy.core.umath_tests is an internal NumPy module and should not be imported. It will be removed in a future NumPy release.\n",
      "  from numpy.core.umath_tests import inner1d\n"
     ]
    },
    {
     "name": "stdout",
     "output_type": "stream",
     "text": [
      "[False False False False False False False False False False False False\n",
      "  True  True False False False  True False False False False False False\n",
      " False False False False False False False False False False False False\n",
      " False]\n",
      "[33 35 34 27 28 29 19 24 22 21 20  8  1  1 23  3  5  1  6  2 16  4  7 25\n",
      " 11  9 12 13 10 17 15 14 18 26 30 31 32]\n"
     ]
    }
   ],
   "source": [
    "from sklearn import datasets\n",
    "from sklearn.feature_selection import RFE\n",
    "from sklearn.ensemble import RandomForestClassifier\n",
    "# load the iris datasets\n",
    "\n",
    "# create a base classifier used to evaluate a subset of attributes\n",
    "model = RandomForestClassifier()\n",
    "# create the RFE model and select 3 attributes\n",
    "rfe = RFE(model, 3)\n",
    "rfe = rfe.fit(X_train, y_train)\n",
    "# summarize the selection of the attributes\n",
    "print(rfe.support_)\n",
    "print(rfe.ranking_)"
   ]
  },
  {
   "cell_type": "code",
   "execution_count": 13,
   "metadata": {},
   "outputs": [
    {
     "data": {
      "text/html": [
       "<div>\n",
       "<style scoped>\n",
       "    .dataframe tbody tr th:only-of-type {\n",
       "        vertical-align: middle;\n",
       "    }\n",
       "\n",
       "    .dataframe tbody tr th {\n",
       "        vertical-align: top;\n",
       "    }\n",
       "\n",
       "    .dataframe thead th {\n",
       "        text-align: right;\n",
       "    }\n",
       "</style>\n",
       "<table border=\"1\" class=\"dataframe\">\n",
       "  <thead>\n",
       "    <tr style=\"text-align: right;\">\n",
       "      <th></th>\n",
       "      <th>cell_name</th>\n",
       "      <th>4G_rat</th>\n",
       "      <th>par_year</th>\n",
       "      <th>par_month</th>\n",
       "      <th>par_day</th>\n",
       "      <th>par_hour</th>\n",
       "      <th>par_min</th>\n",
       "      <th>subscriber_count</th>\n",
       "      <th>web_browsing_total_bytes</th>\n",
       "      <th>video_total_bytes</th>\n",
       "      <th>...</th>\n",
       "      <th>email_total_bytes</th>\n",
       "      <th>weather_total_bytes</th>\n",
       "      <th>media_total_bytes</th>\n",
       "      <th>mms_total_bytes</th>\n",
       "      <th>others_total_bytes</th>\n",
       "      <th>beam_direction</th>\n",
       "      <th>cell_range</th>\n",
       "      <th>tilt</th>\n",
       "      <th>ran_vendor</th>\n",
       "      <th>Congestion_Type</th>\n",
       "    </tr>\n",
       "  </thead>\n",
       "  <tbody>\n",
       "    <tr>\n",
       "      <th>0</th>\n",
       "      <td>1090595862</td>\n",
       "      <td>1</td>\n",
       "      <td>2018</td>\n",
       "      <td>12</td>\n",
       "      <td>15</td>\n",
       "      <td>0</td>\n",
       "      <td>50</td>\n",
       "      <td>152</td>\n",
       "      <td>315</td>\n",
       "      <td>59012</td>\n",
       "      <td>...</td>\n",
       "      <td>10</td>\n",
       "      <td>33</td>\n",
       "      <td>46</td>\n",
       "      <td>39</td>\n",
       "      <td>103</td>\n",
       "      <td>69</td>\n",
       "      <td>6</td>\n",
       "      <td>2</td>\n",
       "      <td>0</td>\n",
       "      <td>1</td>\n",
       "    </tr>\n",
       "    <tr>\n",
       "      <th>1</th>\n",
       "      <td>4826375369</td>\n",
       "      <td>1</td>\n",
       "      <td>2018</td>\n",
       "      <td>12</td>\n",
       "      <td>7</td>\n",
       "      <td>20</td>\n",
       "      <td>5</td>\n",
       "      <td>54</td>\n",
       "      <td>1871</td>\n",
       "      <td>334</td>\n",
       "      <td>...</td>\n",
       "      <td>22</td>\n",
       "      <td>20</td>\n",
       "      <td>7</td>\n",
       "      <td>10</td>\n",
       "      <td>21</td>\n",
       "      <td>93</td>\n",
       "      <td>7</td>\n",
       "      <td>5</td>\n",
       "      <td>2</td>\n",
       "      <td>3</td>\n",
       "    </tr>\n",
       "    <tr>\n",
       "      <th>2</th>\n",
       "      <td>3607540856</td>\n",
       "      <td>1</td>\n",
       "      <td>2018</td>\n",
       "      <td>12</td>\n",
       "      <td>5</td>\n",
       "      <td>16</td>\n",
       "      <td>35</td>\n",
       "      <td>277</td>\n",
       "      <td>887</td>\n",
       "      <td>945</td>\n",
       "      <td>...</td>\n",
       "      <td>14</td>\n",
       "      <td>91</td>\n",
       "      <td>49</td>\n",
       "      <td>147</td>\n",
       "      <td>159</td>\n",
       "      <td>77</td>\n",
       "      <td>6</td>\n",
       "      <td>3</td>\n",
       "      <td>0</td>\n",
       "      <td>0</td>\n",
       "    </tr>\n",
       "    <tr>\n",
       "      <th>3</th>\n",
       "      <td>1245076813</td>\n",
       "      <td>0</td>\n",
       "      <td>2018</td>\n",
       "      <td>12</td>\n",
       "      <td>16</td>\n",
       "      <td>21</td>\n",
       "      <td>60</td>\n",
       "      <td>51</td>\n",
       "      <td>8577</td>\n",
       "      <td>494</td>\n",
       "      <td>...</td>\n",
       "      <td>10</td>\n",
       "      <td>63</td>\n",
       "      <td>42</td>\n",
       "      <td>75</td>\n",
       "      <td>35</td>\n",
       "      <td>95</td>\n",
       "      <td>7</td>\n",
       "      <td>2</td>\n",
       "      <td>1</td>\n",
       "      <td>0</td>\n",
       "    </tr>\n",
       "    <tr>\n",
       "      <th>4</th>\n",
       "      <td>404129745</td>\n",
       "      <td>1</td>\n",
       "      <td>2018</td>\n",
       "      <td>12</td>\n",
       "      <td>4</td>\n",
       "      <td>6</td>\n",
       "      <td>60</td>\n",
       "      <td>117</td>\n",
       "      <td>2084</td>\n",
       "      <td>1056</td>\n",
       "      <td>...</td>\n",
       "      <td>67</td>\n",
       "      <td>59</td>\n",
       "      <td>91</td>\n",
       "      <td>197</td>\n",
       "      <td>316</td>\n",
       "      <td>112</td>\n",
       "      <td>3</td>\n",
       "      <td>5</td>\n",
       "      <td>1</td>\n",
       "      <td>2</td>\n",
       "    </tr>\n",
       "  </tbody>\n",
       "</table>\n",
       "<p>5 rows × 39 columns</p>\n",
       "</div>"
      ],
      "text/plain": [
       "    cell_name  4G_rat  par_year  par_month  par_day  par_hour  par_min  \\\n",
       "0  1090595862       1      2018         12       15         0       50   \n",
       "1  4826375369       1      2018         12        7        20        5   \n",
       "2  3607540856       1      2018         12        5        16       35   \n",
       "3  1245076813       0      2018         12       16        21       60   \n",
       "4   404129745       1      2018         12        4         6       60   \n",
       "\n",
       "   subscriber_count  web_browsing_total_bytes  video_total_bytes  \\\n",
       "0               152                       315              59012   \n",
       "1                54                      1871                334   \n",
       "2               277                       887                945   \n",
       "3                51                      8577                494   \n",
       "4               117                      2084               1056   \n",
       "\n",
       "        ...         email_total_bytes  weather_total_bytes  media_total_bytes  \\\n",
       "0       ...                        10                   33                 46   \n",
       "1       ...                        22                   20                  7   \n",
       "2       ...                        14                   91                 49   \n",
       "3       ...                        10                   63                 42   \n",
       "4       ...                        67                   59                 91   \n",
       "\n",
       "   mms_total_bytes  others_total_bytes  beam_direction  cell_range  tilt  \\\n",
       "0               39                 103              69           6     2   \n",
       "1               10                  21              93           7     5   \n",
       "2              147                 159              77           6     3   \n",
       "3               75                  35              95           7     2   \n",
       "4              197                 316             112           3     5   \n",
       "\n",
       "   ran_vendor  Congestion_Type  \n",
       "0           0                1  \n",
       "1           2                3  \n",
       "2           0                0  \n",
       "3           1                0  \n",
       "4           1                2  \n",
       "\n",
       "[5 rows x 39 columns]"
      ]
     },
     "execution_count": 13,
     "metadata": {},
     "output_type": "execute_result"
    }
   ],
   "source": [
    "df.head()"
   ]
  },
  {
   "cell_type": "code",
   "execution_count": 14,
   "metadata": {},
   "outputs": [],
   "source": [
    "X1 = df[['health_total_bytes', 'software_dwnld_total_bytes', 'location_services_total_bytes']].values\n",
    "#X1 = df[df[]]\n",
    "y1 = df['Congestion_Type'].values\n",
    "\n",
    "from sklearn.model_selection import train_test_split\n",
    "\n",
    "X1_train,X1_val,y1_train,y1_val=train_test_split(X1,y1,test_size=0.25)"
   ]
  },
  {
   "cell_type": "code",
   "execution_count": 15,
   "metadata": {},
   "outputs": [
    {
     "data": {
      "text/html": [
       "<div>\n",
       "<style scoped>\n",
       "    .dataframe tbody tr th:only-of-type {\n",
       "        vertical-align: middle;\n",
       "    }\n",
       "\n",
       "    .dataframe tbody tr th {\n",
       "        vertical-align: top;\n",
       "    }\n",
       "\n",
       "    .dataframe thead th {\n",
       "        text-align: right;\n",
       "    }\n",
       "</style>\n",
       "<table border=\"1\" class=\"dataframe\">\n",
       "  <thead>\n",
       "    <tr style=\"text-align: right;\">\n",
       "      <th></th>\n",
       "      <th>Actual</th>\n",
       "      <th>Predicted</th>\n",
       "    </tr>\n",
       "  </thead>\n",
       "  <tbody>\n",
       "    <tr>\n",
       "      <th>0</th>\n",
       "      <td>2</td>\n",
       "      <td>2</td>\n",
       "    </tr>\n",
       "    <tr>\n",
       "      <th>1</th>\n",
       "      <td>0</td>\n",
       "      <td>1</td>\n",
       "    </tr>\n",
       "    <tr>\n",
       "      <th>2</th>\n",
       "      <td>2</td>\n",
       "      <td>2</td>\n",
       "    </tr>\n",
       "    <tr>\n",
       "      <th>3</th>\n",
       "      <td>1</td>\n",
       "      <td>0</td>\n",
       "    </tr>\n",
       "    <tr>\n",
       "      <th>4</th>\n",
       "      <td>1</td>\n",
       "      <td>3</td>\n",
       "    </tr>\n",
       "  </tbody>\n",
       "</table>\n",
       "</div>"
      ],
      "text/plain": [
       "   Actual  Predicted\n",
       "0       2          2\n",
       "1       0          1\n",
       "2       2          2\n",
       "3       1          0\n",
       "4       1          3"
      ]
     },
     "execution_count": 15,
     "metadata": {},
     "output_type": "execute_result"
    }
   ],
   "source": [
    "from sklearn.tree import DecisionTreeClassifier\n",
    "DT = DecisionTreeClassifier()\n",
    "DT.fit(X1_train, y1_train)\n",
    "y_pred = DT.predict(X1_val)\n",
    "p = pd.DataFrame({\n",
    "    'Actual':y1_val,\n",
    "    'Predicted':y_pred\n",
    "})\n",
    "p.head()"
   ]
  },
  {
   "cell_type": "code",
   "execution_count": 16,
   "metadata": {},
   "outputs": [
    {
     "data": {
      "text/plain": [
       "-0.002183143579437293"
      ]
     },
     "execution_count": 16,
     "metadata": {},
     "output_type": "execute_result"
    }
   ],
   "source": [
    "from sklearn.metrics import matthews_corrcoef\n",
    "matthews_corrcoef(y_val, y_pred)  "
   ]
  },
  {
   "cell_type": "markdown",
   "metadata": {},
   "source": [
    "**Normalisation**"
   ]
  },
  {
   "cell_type": "code",
   "execution_count": 103,
   "metadata": {},
   "outputs": [
    {
     "data": {
      "text/html": [
       "<div>\n",
       "<style scoped>\n",
       "    .dataframe tbody tr th:only-of-type {\n",
       "        vertical-align: middle;\n",
       "    }\n",
       "\n",
       "    .dataframe tbody tr th {\n",
       "        vertical-align: top;\n",
       "    }\n",
       "\n",
       "    .dataframe thead th {\n",
       "        text-align: right;\n",
       "    }\n",
       "</style>\n",
       "<table border=\"1\" class=\"dataframe\">\n",
       "  <thead>\n",
       "    <tr style=\"text-align: right;\">\n",
       "      <th></th>\n",
       "      <th>cell_name</th>\n",
       "      <th>4G_rat</th>\n",
       "      <th>par_year</th>\n",
       "      <th>par_month</th>\n",
       "      <th>par_day</th>\n",
       "      <th>par_hour</th>\n",
       "      <th>par_min</th>\n",
       "      <th>subscriber_count</th>\n",
       "      <th>web_browsing_total_bytes</th>\n",
       "      <th>video_total_bytes</th>\n",
       "      <th>...</th>\n",
       "      <th>email_total_bytes</th>\n",
       "      <th>weather_total_bytes</th>\n",
       "      <th>media_total_bytes</th>\n",
       "      <th>mms_total_bytes</th>\n",
       "      <th>others_total_bytes</th>\n",
       "      <th>beam_direction</th>\n",
       "      <th>cell_range</th>\n",
       "      <th>tilt</th>\n",
       "      <th>ran_vendor</th>\n",
       "      <th>Congestion_Type</th>\n",
       "    </tr>\n",
       "  </thead>\n",
       "  <tbody>\n",
       "    <tr>\n",
       "      <th>0</th>\n",
       "      <td>1090595862</td>\n",
       "      <td>1</td>\n",
       "      <td>2018</td>\n",
       "      <td>12</td>\n",
       "      <td>6</td>\n",
       "      <td>0</td>\n",
       "      <td>50</td>\n",
       "      <td>152</td>\n",
       "      <td>315</td>\n",
       "      <td>59012</td>\n",
       "      <td>...</td>\n",
       "      <td>10</td>\n",
       "      <td>33</td>\n",
       "      <td>46</td>\n",
       "      <td>39</td>\n",
       "      <td>103</td>\n",
       "      <td>69</td>\n",
       "      <td>6</td>\n",
       "      <td>2</td>\n",
       "      <td>ERICSSON</td>\n",
       "      <td>4G_BACKHAUL_CONGESTION</td>\n",
       "    </tr>\n",
       "    <tr>\n",
       "      <th>1</th>\n",
       "      <td>4826375369</td>\n",
       "      <td>1</td>\n",
       "      <td>2018</td>\n",
       "      <td>12</td>\n",
       "      <td>5</td>\n",
       "      <td>20</td>\n",
       "      <td>5</td>\n",
       "      <td>54</td>\n",
       "      <td>1871</td>\n",
       "      <td>334</td>\n",
       "      <td>...</td>\n",
       "      <td>22</td>\n",
       "      <td>20</td>\n",
       "      <td>7</td>\n",
       "      <td>10</td>\n",
       "      <td>21</td>\n",
       "      <td>93</td>\n",
       "      <td>7</td>\n",
       "      <td>5</td>\n",
       "      <td>NOKIA</td>\n",
       "      <td>NC</td>\n",
       "    </tr>\n",
       "    <tr>\n",
       "      <th>2</th>\n",
       "      <td>3607540856</td>\n",
       "      <td>1</td>\n",
       "      <td>2018</td>\n",
       "      <td>12</td>\n",
       "      <td>3</td>\n",
       "      <td>16</td>\n",
       "      <td>35</td>\n",
       "      <td>277</td>\n",
       "      <td>887</td>\n",
       "      <td>945</td>\n",
       "      <td>...</td>\n",
       "      <td>14</td>\n",
       "      <td>91</td>\n",
       "      <td>49</td>\n",
       "      <td>147</td>\n",
       "      <td>159</td>\n",
       "      <td>77</td>\n",
       "      <td>6</td>\n",
       "      <td>3</td>\n",
       "      <td>ERICSSON</td>\n",
       "      <td>3G_BACKHAUL_CONGESTION</td>\n",
       "    </tr>\n",
       "    <tr>\n",
       "      <th>3</th>\n",
       "      <td>1245076813</td>\n",
       "      <td>0</td>\n",
       "      <td>2018</td>\n",
       "      <td>12</td>\n",
       "      <td>0</td>\n",
       "      <td>21</td>\n",
       "      <td>60</td>\n",
       "      <td>51</td>\n",
       "      <td>8577</td>\n",
       "      <td>494</td>\n",
       "      <td>...</td>\n",
       "      <td>10</td>\n",
       "      <td>63</td>\n",
       "      <td>42</td>\n",
       "      <td>75</td>\n",
       "      <td>35</td>\n",
       "      <td>95</td>\n",
       "      <td>7</td>\n",
       "      <td>2</td>\n",
       "      <td>HUAWEI</td>\n",
       "      <td>3G_BACKHAUL_CONGESTION</td>\n",
       "    </tr>\n",
       "    <tr>\n",
       "      <th>4</th>\n",
       "      <td>404129745</td>\n",
       "      <td>1</td>\n",
       "      <td>2018</td>\n",
       "      <td>12</td>\n",
       "      <td>2</td>\n",
       "      <td>6</td>\n",
       "      <td>60</td>\n",
       "      <td>117</td>\n",
       "      <td>2084</td>\n",
       "      <td>1056</td>\n",
       "      <td>...</td>\n",
       "      <td>67</td>\n",
       "      <td>59</td>\n",
       "      <td>91</td>\n",
       "      <td>197</td>\n",
       "      <td>316</td>\n",
       "      <td>112</td>\n",
       "      <td>3</td>\n",
       "      <td>5</td>\n",
       "      <td>HUAWEI</td>\n",
       "      <td>4G_RAN_CONGESTION</td>\n",
       "    </tr>\n",
       "  </tbody>\n",
       "</table>\n",
       "<p>5 rows × 39 columns</p>\n",
       "</div>"
      ],
      "text/plain": [
       "    cell_name  4G_rat  par_year  par_month  par_day  par_hour  par_min  \\\n",
       "0  1090595862       1      2018         12        6         0       50   \n",
       "1  4826375369       1      2018         12        5        20        5   \n",
       "2  3607540856       1      2018         12        3        16       35   \n",
       "3  1245076813       0      2018         12        0        21       60   \n",
       "4   404129745       1      2018         12        2         6       60   \n",
       "\n",
       "   subscriber_count  web_browsing_total_bytes  video_total_bytes  \\\n",
       "0               152                       315              59012   \n",
       "1                54                      1871                334   \n",
       "2               277                       887                945   \n",
       "3                51                      8577                494   \n",
       "4               117                      2084               1056   \n",
       "\n",
       "            ...            email_total_bytes  weather_total_bytes  \\\n",
       "0           ...                           10                   33   \n",
       "1           ...                           22                   20   \n",
       "2           ...                           14                   91   \n",
       "3           ...                           10                   63   \n",
       "4           ...                           67                   59   \n",
       "\n",
       "   media_total_bytes  mms_total_bytes  others_total_bytes  beam_direction  \\\n",
       "0                 46               39                 103              69   \n",
       "1                  7               10                  21              93   \n",
       "2                 49              147                 159              77   \n",
       "3                 42               75                  35              95   \n",
       "4                 91              197                 316             112   \n",
       "\n",
       "   cell_range  tilt  ran_vendor         Congestion_Type  \n",
       "0           6     2    ERICSSON  4G_BACKHAUL_CONGESTION  \n",
       "1           7     5       NOKIA                      NC  \n",
       "2           6     3    ERICSSON  3G_BACKHAUL_CONGESTION  \n",
       "3           7     2      HUAWEI  3G_BACKHAUL_CONGESTION  \n",
       "4           3     5      HUAWEI       4G_RAN_CONGESTION  \n",
       "\n",
       "[5 rows x 39 columns]"
      ]
     },
     "execution_count": 103,
     "metadata": {},
     "output_type": "execute_result"
    }
   ],
   "source": [
    "df['par_day'].replace([1, 2, 3, 4, 5, 6, 7, 8, 9, 10, 11, 12, 13, 14, 15, 16, 17, 18, 19, 20, 21, 22,\n",
    "                       23, 24, 25, 26, 27, 28, 29, 30, 31], [6, 0, 1, 2, 3, 4, 5, 6, 0, 1, 2, 3, 4, 5,\n",
    "                       6, 0, 1, 2, 3, 4, 5, 6, 0, 1, 2, 3, 4, 5, 6, 0, 1], inplace=True)\n",
    "\n",
    "df.head()"
   ]
  },
  {
   "cell_type": "code",
   "execution_count": 104,
   "metadata": {},
   "outputs": [
    {
     "name": "stderr",
     "output_type": "stream",
     "text": [
      "C:\\Users\\Amartya Sen\\Anaconda3\\lib\\site-packages\\scipy\\stats\\stats.py:1713: FutureWarning: Using a non-tuple sequence for multidimensional indexing is deprecated; use `arr[tuple(seq)]` instead of `arr[seq]`. In the future this will be interpreted as an array index, `arr[np.array(seq)]`, which will result either in an error or a different result.\n",
      "  return np.add.reduce(sorted[indexer] * weights, axis=axis) / sumval\n"
     ]
    },
    {
     "data": {
      "text/plain": [
       "<matplotlib.axes._subplots.AxesSubplot at 0x29c367744e0>"
      ]
     },
     "execution_count": 104,
     "metadata": {},
     "output_type": "execute_result"
    },
    {
     "data": {
      "image/png": "[encoded data removed]",
      "text/plain": [
       "<Figure size 1080x576 with 1 Axes>"
      ]
     },
     "metadata": {
      "needs_background": "light"
     },
     "output_type": "display_data"
    }
   ],
   "source": [
    "fig, ax1 = plt.subplots()\n",
    "fig.set_size_inches(15, 8)\n",
    "\n",
    "sns.barplot(data = df, x=\"par_day\", y=\"web_browsing_total_bytes\")"
   ]
  },
  {
   "cell_type": "code",
   "execution_count": 105,
   "metadata": {},
   "outputs": [
    {
     "data": {
      "text/html": [
       "<div>\n",
       "<style scoped>\n",
       "    .dataframe tbody tr th:only-of-type {\n",
       "        vertical-align: middle;\n",
       "    }\n",
       "\n",
       "    .dataframe tbody tr th {\n",
       "        vertical-align: top;\n",
       "    }\n",
       "\n",
       "    .dataframe thead th {\n",
       "        text-align: right;\n",
       "    }\n",
       "</style>\n",
       "<table border=\"1\" class=\"dataframe\">\n",
       "  <thead>\n",
       "    <tr style=\"text-align: right;\">\n",
       "      <th></th>\n",
       "      <th>cell_name</th>\n",
       "      <th>4G_rat</th>\n",
       "      <th>par_year</th>\n",
       "      <th>par_month</th>\n",
       "      <th>par_day</th>\n",
       "      <th>par_hour</th>\n",
       "      <th>par_min</th>\n",
       "      <th>subscriber_count</th>\n",
       "      <th>web_browsing_total_bytes</th>\n",
       "      <th>video_total_bytes</th>\n",
       "      <th>...</th>\n",
       "      <th>email_total_bytes</th>\n",
       "      <th>weather_total_bytes</th>\n",
       "      <th>media_total_bytes</th>\n",
       "      <th>mms_total_bytes</th>\n",
       "      <th>others_total_bytes</th>\n",
       "      <th>beam_direction</th>\n",
       "      <th>cell_range</th>\n",
       "      <th>tilt</th>\n",
       "      <th>ran_vendor</th>\n",
       "      <th>Congestion_Type</th>\n",
       "    </tr>\n",
       "  </thead>\n",
       "  <tbody>\n",
       "    <tr>\n",
       "      <th>0</th>\n",
       "      <td>1090595862</td>\n",
       "      <td>1</td>\n",
       "      <td>2018</td>\n",
       "      <td>12</td>\n",
       "      <td>6</td>\n",
       "      <td>0</td>\n",
       "      <td>50</td>\n",
       "      <td>152</td>\n",
       "      <td>315</td>\n",
       "      <td>59012</td>\n",
       "      <td>...</td>\n",
       "      <td>10</td>\n",
       "      <td>33</td>\n",
       "      <td>46</td>\n",
       "      <td>39</td>\n",
       "      <td>103</td>\n",
       "      <td>69</td>\n",
       "      <td>6</td>\n",
       "      <td>2</td>\n",
       "      <td>ERICSSON</td>\n",
       "      <td>4G_BACKHAUL_CONGESTION</td>\n",
       "    </tr>\n",
       "    <tr>\n",
       "      <th>1</th>\n",
       "      <td>4826375369</td>\n",
       "      <td>1</td>\n",
       "      <td>2018</td>\n",
       "      <td>12</td>\n",
       "      <td>5</td>\n",
       "      <td>20</td>\n",
       "      <td>5</td>\n",
       "      <td>54</td>\n",
       "      <td>1871</td>\n",
       "      <td>334</td>\n",
       "      <td>...</td>\n",
       "      <td>22</td>\n",
       "      <td>20</td>\n",
       "      <td>7</td>\n",
       "      <td>10</td>\n",
       "      <td>21</td>\n",
       "      <td>93</td>\n",
       "      <td>7</td>\n",
       "      <td>5</td>\n",
       "      <td>NOKIA</td>\n",
       "      <td>NC</td>\n",
       "    </tr>\n",
       "    <tr>\n",
       "      <th>2</th>\n",
       "      <td>3607540856</td>\n",
       "      <td>1</td>\n",
       "      <td>2018</td>\n",
       "      <td>12</td>\n",
       "      <td>3</td>\n",
       "      <td>16</td>\n",
       "      <td>35</td>\n",
       "      <td>277</td>\n",
       "      <td>887</td>\n",
       "      <td>945</td>\n",
       "      <td>...</td>\n",
       "      <td>14</td>\n",
       "      <td>91</td>\n",
       "      <td>49</td>\n",
       "      <td>147</td>\n",
       "      <td>159</td>\n",
       "      <td>77</td>\n",
       "      <td>6</td>\n",
       "      <td>3</td>\n",
       "      <td>ERICSSON</td>\n",
       "      <td>3G_BACKHAUL_CONGESTION</td>\n",
       "    </tr>\n",
       "    <tr>\n",
       "      <th>3</th>\n",
       "      <td>1245076813</td>\n",
       "      <td>0</td>\n",
       "      <td>2018</td>\n",
       "      <td>12</td>\n",
       "      <td>0</td>\n",
       "      <td>21</td>\n",
       "      <td>60</td>\n",
       "      <td>51</td>\n",
       "      <td>8577</td>\n",
       "      <td>494</td>\n",
       "      <td>...</td>\n",
       "      <td>10</td>\n",
       "      <td>63</td>\n",
       "      <td>42</td>\n",
       "      <td>75</td>\n",
       "      <td>35</td>\n",
       "      <td>95</td>\n",
       "      <td>7</td>\n",
       "      <td>2</td>\n",
       "      <td>HUAWEI</td>\n",
       "      <td>3G_BACKHAUL_CONGESTION</td>\n",
       "    </tr>\n",
       "    <tr>\n",
       "      <th>4</th>\n",
       "      <td>404129745</td>\n",
       "      <td>1</td>\n",
       "      <td>2018</td>\n",
       "      <td>12</td>\n",
       "      <td>2</td>\n",
       "      <td>6</td>\n",
       "      <td>60</td>\n",
       "      <td>117</td>\n",
       "      <td>2084</td>\n",
       "      <td>1056</td>\n",
       "      <td>...</td>\n",
       "      <td>67</td>\n",
       "      <td>59</td>\n",
       "      <td>91</td>\n",
       "      <td>197</td>\n",
       "      <td>316</td>\n",
       "      <td>112</td>\n",
       "      <td>3</td>\n",
       "      <td>5</td>\n",
       "      <td>HUAWEI</td>\n",
       "      <td>4G_RAN_CONGESTION</td>\n",
       "    </tr>\n",
       "  </tbody>\n",
       "</table>\n",
       "<p>5 rows × 39 columns</p>\n",
       "</div>"
      ],
      "text/plain": [
       "    cell_name  4G_rat  par_year  par_month  par_day  par_hour  par_min  \\\n",
       "0  1090595862       1      2018         12        6         0       50   \n",
       "1  4826375369       1      2018         12        5        20        5   \n",
       "2  3607540856       1      2018         12        3        16       35   \n",
       "3  1245076813       0      2018         12        0        21       60   \n",
       "4   404129745       1      2018         12        2         6       60   \n",
       "\n",
       "   subscriber_count  web_browsing_total_bytes  video_total_bytes  \\\n",
       "0               152                       315              59012   \n",
       "1                54                      1871                334   \n",
       "2               277                       887                945   \n",
       "3                51                      8577                494   \n",
       "4               117                      2084               1056   \n",
       "\n",
       "            ...            email_total_bytes  weather_total_bytes  \\\n",
       "0           ...                           10                   33   \n",
       "1           ...                           22                   20   \n",
       "2           ...                           14                   91   \n",
       "3           ...                           10                   63   \n",
       "4           ...                           67                   59   \n",
       "\n",
       "   media_total_bytes  mms_total_bytes  others_total_bytes  beam_direction  \\\n",
       "0                 46               39                 103              69   \n",
       "1                  7               10                  21              93   \n",
       "2                 49              147                 159              77   \n",
       "3                 42               75                  35              95   \n",
       "4                 91              197                 316             112   \n",
       "\n",
       "   cell_range  tilt  ran_vendor         Congestion_Type  \n",
       "0           6     2    ERICSSON  4G_BACKHAUL_CONGESTION  \n",
       "1           7     5       NOKIA                      NC  \n",
       "2           6     3    ERICSSON  3G_BACKHAUL_CONGESTION  \n",
       "3           7     2      HUAWEI  3G_BACKHAUL_CONGESTION  \n",
       "4           3     5      HUAWEI       4G_RAN_CONGESTION  \n",
       "\n",
       "[5 rows x 39 columns]"
      ]
     },
     "execution_count": 105,
     "metadata": {},
     "output_type": "execute_result"
    }
   ],
   "source": [
    "df.head()"
   ]
  },
  {
   "cell_type": "code",
   "execution_count": 19,
   "metadata": {},
   "outputs": [],
   "source": [
    "normalized_df=df.drop(['cell_name', 'Congestion_Type', 'par_year', 'par_month', 'par_min', '4G_rat'], axis=1)\n",
    "normalized_df=(normalized_df-normalized_df.mean())/normalized_df.std()"
   ]
  },
  {
   "cell_type": "code",
   "execution_count": 20,
   "metadata": {},
   "outputs": [
    {
     "data": {
      "text/html": [
       "<div>\n",
       "<style scoped>\n",
       "    .dataframe tbody tr th:only-of-type {\n",
       "        vertical-align: middle;\n",
       "    }\n",
       "\n",
       "    .dataframe tbody tr th {\n",
       "        vertical-align: top;\n",
       "    }\n",
       "\n",
       "    .dataframe thead th {\n",
       "        text-align: right;\n",
       "    }\n",
       "</style>\n",
       "<table border=\"1\" class=\"dataframe\">\n",
       "  <thead>\n",
       "    <tr style=\"text-align: right;\">\n",
       "      <th></th>\n",
       "      <th>par_day</th>\n",
       "      <th>par_hour</th>\n",
       "      <th>subscriber_count</th>\n",
       "      <th>web_browsing_total_bytes</th>\n",
       "      <th>video_total_bytes</th>\n",
       "      <th>social_ntwrking_bytes</th>\n",
       "      <th>cloud_computing_total_bytes</th>\n",
       "      <th>web_security_total_bytes</th>\n",
       "      <th>gaming_total_bytes</th>\n",
       "      <th>health_total_bytes</th>\n",
       "      <th>...</th>\n",
       "      <th>speedtest_total_bytes</th>\n",
       "      <th>email_total_bytes</th>\n",
       "      <th>weather_total_bytes</th>\n",
       "      <th>media_total_bytes</th>\n",
       "      <th>mms_total_bytes</th>\n",
       "      <th>others_total_bytes</th>\n",
       "      <th>beam_direction</th>\n",
       "      <th>cell_range</th>\n",
       "      <th>tilt</th>\n",
       "      <th>ran_vendor</th>\n",
       "    </tr>\n",
       "  </thead>\n",
       "  <tbody>\n",
       "    <tr>\n",
       "      <th>0</th>\n",
       "      <td>1.442185</td>\n",
       "      <td>-1.660514</td>\n",
       "      <td>-0.388042</td>\n",
       "      <td>-0.406188</td>\n",
       "      <td>2.605931</td>\n",
       "      <td>-0.312483</td>\n",
       "      <td>0.322659</td>\n",
       "      <td>0.345839</td>\n",
       "      <td>2.802876</td>\n",
       "      <td>-0.034974</td>\n",
       "      <td>...</td>\n",
       "      <td>-0.513874</td>\n",
       "      <td>-0.517621</td>\n",
       "      <td>-0.323948</td>\n",
       "      <td>-0.209056</td>\n",
       "      <td>-0.268733</td>\n",
       "      <td>0.290281</td>\n",
       "      <td>-1.190116</td>\n",
       "      <td>0.882149</td>\n",
       "      <td>-1.347723</td>\n",
       "      <td>-1.224055</td>\n",
       "    </tr>\n",
       "    <tr>\n",
       "      <th>1</th>\n",
       "      <td>0.960254</td>\n",
       "      <td>1.223678</td>\n",
       "      <td>-0.478760</td>\n",
       "      <td>-0.324915</td>\n",
       "      <td>-0.408952</td>\n",
       "      <td>-0.196370</td>\n",
       "      <td>-0.450463</td>\n",
       "      <td>-0.364492</td>\n",
       "      <td>-0.494630</td>\n",
       "      <td>-0.518362</td>\n",
       "      <td>...</td>\n",
       "      <td>-0.530809</td>\n",
       "      <td>-0.415773</td>\n",
       "      <td>-0.434931</td>\n",
       "      <td>-0.540556</td>\n",
       "      <td>-0.514427</td>\n",
       "      <td>-0.425131</td>\n",
       "      <td>0.170554</td>\n",
       "      <td>1.467186</td>\n",
       "      <td>1.342244</td>\n",
       "      <td>1.225334</td>\n",
       "    </tr>\n",
       "    <tr>\n",
       "      <th>2</th>\n",
       "      <td>-0.003607</td>\n",
       "      <td>0.646840</td>\n",
       "      <td>-0.272329</td>\n",
       "      <td>-0.376311</td>\n",
       "      <td>-0.377558</td>\n",
       "      <td>0.789513</td>\n",
       "      <td>-0.364472</td>\n",
       "      <td>-0.457511</td>\n",
       "      <td>-0.563869</td>\n",
       "      <td>-0.170661</td>\n",
       "      <td>...</td>\n",
       "      <td>-0.403800</td>\n",
       "      <td>-0.483672</td>\n",
       "      <td>0.171209</td>\n",
       "      <td>-0.183556</td>\n",
       "      <td>0.646266</td>\n",
       "      <td>0.778855</td>\n",
       "      <td>-0.736559</td>\n",
       "      <td>0.882149</td>\n",
       "      <td>-0.451067</td>\n",
       "      <td>-1.224055</td>\n",
       "    </tr>\n",
       "    <tr>\n",
       "      <th>3</th>\n",
       "      <td>-1.449399</td>\n",
       "      <td>1.367888</td>\n",
       "      <td>-0.481537</td>\n",
       "      <td>0.025349</td>\n",
       "      <td>-0.400731</td>\n",
       "      <td>-0.020662</td>\n",
       "      <td>-0.448074</td>\n",
       "      <td>-0.102346</td>\n",
       "      <td>-0.451355</td>\n",
       "      <td>-0.492920</td>\n",
       "      <td>...</td>\n",
       "      <td>-0.573145</td>\n",
       "      <td>-0.517621</td>\n",
       "      <td>-0.067832</td>\n",
       "      <td>-0.243056</td>\n",
       "      <td>0.036267</td>\n",
       "      <td>-0.302987</td>\n",
       "      <td>0.283943</td>\n",
       "      <td>1.467186</td>\n",
       "      <td>-1.347723</td>\n",
       "      <td>0.000639</td>\n",
       "    </tr>\n",
       "    <tr>\n",
       "      <th>4</th>\n",
       "      <td>-0.485538</td>\n",
       "      <td>-0.795256</td>\n",
       "      <td>-0.420441</td>\n",
       "      <td>-0.313790</td>\n",
       "      <td>-0.371855</td>\n",
       "      <td>-0.057178</td>\n",
       "      <td>-0.315903</td>\n",
       "      <td>-0.110802</td>\n",
       "      <td>0.163141</td>\n",
       "      <td>-0.450518</td>\n",
       "      <td>...</td>\n",
       "      <td>-0.564678</td>\n",
       "      <td>-0.033841</td>\n",
       "      <td>-0.101981</td>\n",
       "      <td>0.173444</td>\n",
       "      <td>1.069877</td>\n",
       "      <td>2.148607</td>\n",
       "      <td>1.247751</td>\n",
       "      <td>-0.872960</td>\n",
       "      <td>1.342244</td>\n",
       "      <td>0.000639</td>\n",
       "    </tr>\n",
       "  </tbody>\n",
       "</table>\n",
       "<p>5 rows × 33 columns</p>\n",
       "</div>"
      ],
      "text/plain": [
       "    par_day  par_hour  subscriber_count  web_browsing_total_bytes  \\\n",
       "0  1.442185 -1.660514         -0.388042                 -0.406188   \n",
       "1  0.960254  1.223678         -0.478760                 -0.324915   \n",
       "2 -0.003607  0.646840         -0.272329                 -0.376311   \n",
       "3 -1.449399  1.367888         -0.481537                  0.025349   \n",
       "4 -0.485538 -0.795256         -0.420441                 -0.313790   \n",
       "\n",
       "   video_total_bytes  social_ntwrking_bytes  cloud_computing_total_bytes  \\\n",
       "0           2.605931              -0.312483                     0.322659   \n",
       "1          -0.408952              -0.196370                    -0.450463   \n",
       "2          -0.377558               0.789513                    -0.364472   \n",
       "3          -0.400731              -0.020662                    -0.448074   \n",
       "4          -0.371855              -0.057178                    -0.315903   \n",
       "\n",
       "   web_security_total_bytes  gaming_total_bytes  health_total_bytes  \\\n",
       "0                  0.345839            2.802876           -0.034974   \n",
       "1                 -0.364492           -0.494630           -0.518362   \n",
       "2                 -0.457511           -0.563869           -0.170661   \n",
       "3                 -0.102346           -0.451355           -0.492920   \n",
       "4                 -0.110802            0.163141           -0.450518   \n",
       "\n",
       "      ...      speedtest_total_bytes  email_total_bytes  weather_total_bytes  \\\n",
       "0     ...                  -0.513874          -0.517621            -0.323948   \n",
       "1     ...                  -0.530809          -0.415773            -0.434931   \n",
       "2     ...                  -0.403800          -0.483672             0.171209   \n",
       "3     ...                  -0.573145          -0.517621            -0.067832   \n",
       "4     ...                  -0.564678          -0.033841            -0.101981   \n",
       "\n",
       "   media_total_bytes  mms_total_bytes  others_total_bytes  beam_direction  \\\n",
       "0          -0.209056        -0.268733            0.290281       -1.190116   \n",
       "1          -0.540556        -0.514427           -0.425131        0.170554   \n",
       "2          -0.183556         0.646266            0.778855       -0.736559   \n",
       "3          -0.243056         0.036267           -0.302987        0.283943   \n",
       "4           0.173444         1.069877            2.148607        1.247751   \n",
       "\n",
       "   cell_range      tilt  ran_vendor  \n",
       "0    0.882149 -1.347723   -1.224055  \n",
       "1    1.467186  1.342244    1.225334  \n",
       "2    0.882149 -0.451067   -1.224055  \n",
       "3    1.467186 -1.347723    0.000639  \n",
       "4   -0.872960  1.342244    0.000639  \n",
       "\n",
       "[5 rows x 33 columns]"
      ]
     },
     "execution_count": 20,
     "metadata": {},
     "output_type": "execute_result"
    }
   ],
   "source": [
    "normalized_df.head()"
   ]
  },
  {
   "cell_type": "code",
   "execution_count": 21,
   "metadata": {},
   "outputs": [],
   "source": [
    "Xn = normalized_df.values\n",
    "yn = df['Congestion_Type'].values\n",
    "\n",
    "from sklearn.model_selection import train_test_split\n",
    "\n",
    "Xn_train, Xn_val, yn_train, yn_val = train_test_split(Xn,yn,test_size=0.25)"
   ]
  },
  {
   "cell_type": "markdown",
   "metadata": {},
   "source": [
    "**MLP**"
   ]
  },
  {
   "cell_type": "code",
   "execution_count": 99,
   "metadata": {},
   "outputs": [
    {
     "name": "stdout",
     "output_type": "stream",
     "text": [
      "0.7232689443405018\n",
      "\n"
     ]
    }
   ],
   "source": [
    "from sklearn.neural_network import MLPClassifier\n",
    "from sklearn.model_selection import validation_curve\n",
    "MLP = MLPClassifier(alpha=1, max_iter=500)\n",
    "MLP.fit(Xn_train, yn_train)\n",
    "yn_pred = MLP.predict(Xn_val)\n",
    "\n",
    "from sklearn.metrics import matthews_corrcoef\n",
    "print(matthews_corrcoef(yn_val, yn_pred))  \n",
    "print()"
   ]
  },
  {
   "cell_type": "code",
   "execution_count": 96,
   "metadata": {
    "scrolled": true
   },
   "outputs": [
    {
     "name": "stderr",
     "output_type": "stream",
     "text": [
      "C:\\Users\\Amartya Sen\\Anaconda3\\lib\\site-packages\\sklearn\\neural_network\\multilayer_perceptron.py:564: ConvergenceWarning: Stochastic Optimizer: Maximum iterations (1) reached and the optimization hasn't converged yet.\n",
      "  % self.max_iter, ConvergenceWarning)\n",
      "C:\\Users\\Amartya Sen\\Anaconda3\\lib\\site-packages\\sklearn\\neural_network\\multilayer_perceptron.py:564: ConvergenceWarning: Stochastic Optimizer: Maximum iterations (10) reached and the optimization hasn't converged yet.\n",
      "  % self.max_iter, ConvergenceWarning)\n",
      "C:\\Users\\Amartya Sen\\Anaconda3\\lib\\site-packages\\sklearn\\neural_network\\multilayer_perceptron.py:564: ConvergenceWarning: Stochastic Optimizer: Maximum iterations (1) reached and the optimization hasn't converged yet.\n",
      "  % self.max_iter, ConvergenceWarning)\n",
      "C:\\Users\\Amartya Sen\\Anaconda3\\lib\\site-packages\\sklearn\\neural_network\\multilayer_perceptron.py:564: ConvergenceWarning: Stochastic Optimizer: Maximum iterations (10) reached and the optimization hasn't converged yet.\n",
      "  % self.max_iter, ConvergenceWarning)\n",
      "C:\\Users\\Amartya Sen\\Anaconda3\\lib\\site-packages\\sklearn\\neural_network\\multilayer_perceptron.py:564: ConvergenceWarning: Stochastic Optimizer: Maximum iterations (1) reached and the optimization hasn't converged yet.\n",
      "  % self.max_iter, ConvergenceWarning)\n",
      "C:\\Users\\Amartya Sen\\Anaconda3\\lib\\site-packages\\sklearn\\neural_network\\multilayer_perceptron.py:564: ConvergenceWarning: Stochastic Optimizer: Maximum iterations (10) reached and the optimization hasn't converged yet.\n",
      "  % self.max_iter, ConvergenceWarning)\n"
     ]
    }
   ],
   "source": [
    "train_scores, valid_scores=validation_curve(MLPClassifier(validation_fraction=0), Xn, yn, \"max_iter\", [1, 10,100,500,1000])"
   ]
  },
  {
   "cell_type": "code",
   "execution_count": 97,
   "metadata": {},
   "outputs": [
    {
     "data": {
      "text/plain": [
       "array([[0.77567738, 0.77717952, 0.77315513],\n",
       "       [0.79582212, 0.79720854, 0.7958568 ],\n",
       "       [0.81524126, 0.81005843, 0.81452983],\n",
       "       [0.8126635 , 0.81160499, 0.81680191],\n",
       "       [0.8150885 , 0.81490816, 0.81412888]])"
      ]
     },
     "execution_count": 97,
     "metadata": {},
     "output_type": "execute_result"
    }
   ],
   "source": [
    "train_scores"
   ]
  },
  {
   "cell_type": "code",
   "execution_count": 98,
   "metadata": {},
   "outputs": [
    {
     "data": {
      "text/plain": [
       "array([[0.77402726, 0.77361949, 0.77093756],\n",
       "       [0.78471878, 0.78457955, 0.78644262],\n",
       "       [0.77757837, 0.78160086, 0.77555853],\n",
       "       [0.77712016, 0.77747651, 0.77521482],\n",
       "       [0.77731108, 0.77495608, 0.7756731 ]])"
      ]
     },
     "execution_count": 98,
     "metadata": {},
     "output_type": "execute_result"
    }
   ],
   "source": [
    "valid_scores"
   ]
  },
  {
   "cell_type": "code",
   "execution_count": 88,
   "metadata": {},
   "outputs": [
    {
     "data": {
      "text/plain": [
       "array([0.77467639, 0.77574554, 0.78124403, 0.78273321, 0.78868991,\n",
       "       0.78857536])"
      ]
     },
     "execution_count": 88,
     "metadata": {},
     "output_type": "execute_result"
    }
   ],
   "source": [
    "valid_scores[:,0]"
   ]
  },
  {
   "cell_type": "code",
   "execution_count": 101,
   "metadata": {},
   "outputs": [
    {
     "data": {
      "text/plain": [
       "[<matplotlib.lines.Line2D at 0x29c361b82e8>]"
      ]
     },
     "execution_count": 101,
     "metadata": {},
     "output_type": "execute_result"
    },
    {
     "data": {
      "image/png": "[encoded data removed]",
      "text/plain": [
       "<Figure size 1080x720 with 1 Axes>"
      ]
     },
     "metadata": {
      "needs_background": "light"
     },
     "output_type": "display_data"
    }
   ],
   "source": [
    "plt.plot([1, 10,100,500,1000],train_scores[:,0])\n",
    "plt.plot([1, 10,100,500,1000],valid_scores[:,0])"
   ]
  },
  {
   "cell_type": "markdown",
   "metadata": {},
   "source": [
    "yn_pred = MLP.predict(Xn_train)\n",
    "\n",
    "from sklearn.metrics import matthews_corrcoef\n",
    "matthews_corrcoef(yn_train, yn_pred)  "
   ]
  },
  {
   "cell_type": "code",
   "execution_count": 24,
   "metadata": {
    "scrolled": true
   },
   "outputs": [
    {
     "data": {
      "text/plain": [
       "MLPClassifier(activation='relu', alpha=1, batch_size='auto', beta_1=0.9,\n",
       "       beta_2=0.999, early_stopping=False, epsilon=1e-08,\n",
       "       hidden_layer_sizes=(100,), learning_rate='constant',\n",
       "       learning_rate_init=0.001, max_iter=100, momentum=0.9,\n",
       "       nesterovs_momentum=True, power_t=0.5, random_state=None,\n",
       "       shuffle=True, solver='adam', tol=0.0001, validation_fraction=0.1,\n",
       "       verbose=False, warm_start=False)"
      ]
     },
     "execution_count": 24,
     "metadata": {},
     "output_type": "execute_result"
    }
   ],
   "source": [
    "MLP.set_params()"
   ]
  },
  {
   "cell_type": "markdown",
   "metadata": {},
   "source": [
    "**XGBoost**"
   ]
  },
  {
   "cell_type": "code",
   "execution_count": 25,
   "metadata": {},
   "outputs": [
    {
     "name": "stderr",
     "output_type": "stream",
     "text": [
      "C:\\Users\\Amartya Sen\\Anaconda3\\lib\\site-packages\\sklearn\\preprocessing\\label.py:151: DeprecationWarning: The truth value of an empty array is ambiguous. Returning False, but in future this will result in an error. Use `array.size > 0` to check that an array is not empty.\n",
      "  if diff:\n"
     ]
    },
    {
     "data": {
      "text/plain": [
       "0.7334433667120935"
      ]
     },
     "execution_count": 25,
     "metadata": {},
     "output_type": "execute_result"
    }
   ],
   "source": [
    "from xgboost import XGBClassifier\n",
    "XG = XGBClassifier(n_estimators=500)\n",
    "XG.fit(Xn_train, yn_train)\n",
    "yn_pred = XG.predict(Xn_val)\n",
    "\n",
    "from sklearn.metrics import matthews_corrcoef\n",
    "matthews_corrcoef(yn_val, yn_pred)\n",
    "#train_scores, valid_scores=validation_curve(XG, Xn, yn, \"n-estimators\", [50,100,200,400,500])"
   ]
  },
  {
   "cell_type": "markdown",
   "metadata": {},
   "source": [
    "yn_pred = XG.predict(Xn_train)\n",
    "matthews_corrcoef(yn_train, yn_pred)"
   ]
  },
  {
   "cell_type": "code",
   "execution_count": 26,
   "metadata": {
    "scrolled": true
   },
   "outputs": [
    {
     "data": {
      "text/plain": [
       "XGBClassifier(base_score=0.5, booster='gbtree', colsample_bylevel=1,\n",
       "       colsample_bytree=1, gamma=0, learning_rate=0.1, max_delta_step=0,\n",
       "       max_depth=3, min_child_weight=1, missing=None, n_estimators=500,\n",
       "       n_jobs=1, nthread=None, objective='multi:softprob', random_state=0,\n",
       "       reg_alpha=0, reg_lambda=1, scale_pos_weight=1, seed=None,\n",
       "       silent=True, subsample=1)"
      ]
     },
     "execution_count": 26,
     "metadata": {},
     "output_type": "execute_result"
    }
   ],
   "source": [
    "XG.set_params()"
   ]
  },
  {
   "cell_type": "code",
   "execution_count": 27,
   "metadata": {},
   "outputs": [
    {
     "name": "stdout",
     "output_type": "stream",
     "text": [
      "0.7054767274950254\n"
     ]
    }
   ],
   "source": [
    "from sklearn.linear_model import LogisticRegression\n",
    "LR=LogisticRegression()\n",
    "LR.fit(Xn_train,yn_train)\n",
    "y_pred=LR.predict(Xn_val)\n",
    "print(matthews_corrcoef(yn_val, y_pred))\n",
    "#train_scores, valid_scores=validation_curve(LR, Xn, yn, \"C\", [0.1, 0.5, 1, 2, 3])"
   ]
  },
  {
   "cell_type": "code",
   "execution_count": 28,
   "metadata": {},
   "outputs": [
    {
     "name": "stdout",
     "output_type": "stream",
     "text": [
      "0.7279277469490449\n"
     ]
    }
   ],
   "source": [
    "from sklearn.ensemble import RandomForestClassifier,AdaBoostClassifier,GradientBoostingClassifier,ExtraTreesClassifier,BaggingClassifier,RandomTreesEmbedding,IsolationForest,VotingClassifier\n",
    "from sklearn.linear_model import LogisticRegression\n",
    "\n",
    "\n",
    "GRA=GradientBoostingClassifier(n_estimators=500)\n",
    "GRA.fit(Xn_train,yn_train)\n",
    "pred_GRA=GRA.predict(Xn_val)\n",
    "print(matthews_corrcoef(yn_val,pred_GRA))\n",
    "#train_scores, valid_scores=validation_curve(GRA, Xn, yn, \"n-estimators\", [50, 100, 200, 400, 500])"
   ]
  },
  {
   "cell_type": "code",
   "execution_count": 29,
   "metadata": {},
   "outputs": [
    {
     "name": "stdout",
     "output_type": "stream",
     "text": [
      "0.738120323673352\n"
     ]
    },
    {
     "name": "stderr",
     "output_type": "stream",
     "text": [
      "C:\\Users\\Amartya Sen\\Anaconda3\\lib\\site-packages\\sklearn\\preprocessing\\label.py:151: DeprecationWarning: The truth value of an empty array is ambiguous. Returning False, but in future this will result in an error. Use `array.size > 0` to check that an array is not empty.\n",
      "  if diff:\n"
     ]
    },
    {
     "data": {
      "text/plain": [
       "array([[3948,  361,    0,  624],\n",
       "       [ 746, 3360,  789,    6],\n",
       "       [  26,  960, 3936,    0],\n",
       "       [ 349,    0,    0, 4535]], dtype=int64)"
      ]
     },
     "execution_count": 29,
     "metadata": {},
     "output_type": "execute_result"
    }
   ],
   "source": [
    "from sklearn.metrics import confusion_matrix\n",
    "votingC=VotingClassifier([('GRA',GRA),('MLP',MLP),('LR',LR),('XG',XG)],voting='soft')\n",
    "votingC.fit(Xn_train,yn_train)\n",
    "pred=votingC.predict(Xn_val)\n",
    "print(matthews_corrcoef(yn_val,pred))\n",
    "confusion_matrix(yn_val,pred)"
   ]
  },
  {
   "cell_type": "code",
   "execution_count": 30,
   "metadata": {},
   "outputs": [],
   "source": [
    "#from sklearn.model_selection import validation_curve\n",
    "#validation_curve(MLP(), Xn, yn, \"alpha\", [1e-6,2])"
   ]
  },
  {
   "cell_type": "code",
   "execution_count": 31,
   "metadata": {},
   "outputs": [
    {
     "name": "stdout",
     "output_type": "stream",
     "text": [
      "0.5719758279939325\n"
     ]
    }
   ],
   "source": [
    "from sklearn.ensemble import ExtraTreesClassifier\n",
    "ETF = ExtraTreesClassifier()\n",
    "ETF.fit(Xn_train, yn_train)\n",
    "y_pred = ETF.predict(Xn_val)\n",
    "\n",
    "from sklearn.metrics import matthews_corrcoef\n",
    "print(matthews_corrcoef(yn_val, y_pred))"
   ]
  },
  {
   "cell_type": "code",
   "execution_count": 72,
   "metadata": {},
   "outputs": [
    {
     "name": "stdout",
     "output_type": "stream",
     "text": [
      "0.40456413873613245\n"
     ]
    }
   ],
   "source": [
    "from sklearn.tree import DecisionTreeClassifier\n",
    "DT = DecisionTreeClassifier()\n",
    "DT.fit(Xn_train, yn_train)\n",
    "y_pred = DT.predict(Xn_val)\n",
    "\n",
    "from sklearn.metrics import matthews_corrcoef\n",
    "print(matthews_corrcoef(yn_val, y_pred))"
   ]
  },
  {
   "cell_type": "code",
   "execution_count": 33,
   "metadata": {},
   "outputs": [
    {
     "name": "stdout",
     "output_type": "stream",
     "text": [
      "0.6847647780963475\n"
     ]
    }
   ],
   "source": [
    "from sklearn.ensemble import RandomForestClassifier\n",
    "RF = RandomForestClassifier(n_estimators=500)\n",
    "RF.fit(Xn_train, yn_train)\n",
    "y_pred = RF.predict(Xn_val)\n",
    "\n",
    "from sklearn.metrics import matthews_corrcoef\n",
    "print(matthews_corrcoef(yn_val, y_pred))"
   ]
  },
  {
   "cell_type": "code",
   "execution_count": 77,
   "metadata": {},
   "outputs": [
    {
     "name": "stdout",
     "output_type": "stream",
     "text": [
      "0.6388831754638221\n"
     ]
    }
   ],
   "source": [
    "from sklearn.ensemble import AdaBoostClassifier\n",
    "AD = AdaBoostClassifier()\n",
    "AD.fit(Xn_train, yn_train)\n",
    "y_pred = AD.predict(Xn_val)\n",
    "\n",
    "from sklearn.metrics import matthews_corrcoef\n",
    "print(matthews_corrcoef(yn_val, y_pred))"
   ]
  },
  {
   "cell_type": "code",
   "execution_count": null,
   "metadata": {},
   "outputs": [],
   "source": [
    "cv_res = pd.DataFrame({\"CrossValMeans\":cv_means,\"CrossValerrors\": cv_std,\"Algorithm\":[\"SVC\",\"DecisionTree\",\"AdaBoost\",\n",
    "\"RandomForest\",\"ExtraTrees\",\"GradientBoosting\",\"MultipleLayerPerceptron\",\"KNeighboors\",\"LogisticRegression\",\"LinearDiscriminantAnalysis\"]})\n",
    "\n",
    "g = sns.barplot(\"CrossValMeans\",\"Algorithm\",data = cv_res, palette=\"Set3\",orient = \"h\",**{'xerr':cv_std})\n",
    "g.set_xlabel(\"Mean Accuracy\")\n",
    "g = g.set_title(\"Cross validation scores\")"
   ]
  }
 ],
 "metadata": {
  "kernelspec": {
   "display_name": "Python 3",
   "language": "python",
   "name": "python3"
  },
  "language_info": {
   "codemirror_mode": {
    "name": "ipython",
    "version": 3
   },
   "file_extension": ".py",
   "mimetype": "text/x-python",
   "name": "python",
   "nbconvert_exporter": "python",
   "pygments_lexer": "ipython3",
   "version": "3.7.0"
  }
 },
 "nbformat": 4,
 "nbformat_minor": 2
}
