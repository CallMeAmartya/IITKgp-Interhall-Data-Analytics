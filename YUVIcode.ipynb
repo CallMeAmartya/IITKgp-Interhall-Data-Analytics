{
 "cells": [
  {
   "cell_type": "code",
   "execution_count": 61,
   "metadata": {
    "collapsed": true
   },
   "outputs": [],
   "source": [
    "import pandas as pd\n",
    "import numpy as np\n",
    "import seaborn as sns\n",
    "import matplotlib.pyplot as plt\n",
    "\n",
    "from collections import Counter\n",
    "from sklearn.preprocessing import LabelEncoder\n",
    "from sklearn.model_selection import train_test_split\n",
    "from sklearn.neighbors import KNeighborsClassifier\n",
    "from sklearn.preprocessing import scale\n",
    "\n",
    "from sklearn.ensemble import RandomForestClassifier,AdaBoostClassifier,GradientBoostingClassifier,ExtraTreesClassifier,VotingClassifier\n",
    "from sklearn.linear_model import LogisticRegression\n",
    "from sklearn.tree import DecisionTreeClassifier\n",
    "from sklearn.neural_network import MLPClassifier\n",
    "from sklearn.svm import SVC"
   ]
  },
  {
   "cell_type": "code",
   "execution_count": 62,
   "metadata": {},
   "outputs": [
    {
     "data": {
      "text/html": [
       "<div>\n",
       "<style scoped>\n",
       "    .dataframe tbody tr th:only-of-type {\n",
       "        vertical-align: middle;\n",
       "    }\n",
       "\n",
       "    .dataframe tbody tr th {\n",
       "        vertical-align: top;\n",
       "    }\n",
       "\n",
       "    .dataframe thead th {\n",
       "        text-align: right;\n",
       "    }\n",
       "</style>\n",
       "<table border=\"1\" class=\"dataframe\">\n",
       "  <thead>\n",
       "    <tr style=\"text-align: right;\">\n",
       "      <th></th>\n",
       "      <th>cell_name</th>\n",
       "      <th>4G_rat</th>\n",
       "      <th>par_year</th>\n",
       "      <th>par_month</th>\n",
       "      <th>par_day</th>\n",
       "      <th>par_hour</th>\n",
       "      <th>par_min</th>\n",
       "      <th>subscriber_count</th>\n",
       "      <th>web_browsing_total_bytes</th>\n",
       "      <th>video_total_bytes</th>\n",
       "      <th>...</th>\n",
       "      <th>email_total_bytes</th>\n",
       "      <th>weather_total_bytes</th>\n",
       "      <th>media_total_bytes</th>\n",
       "      <th>mms_total_bytes</th>\n",
       "      <th>others_total_bytes</th>\n",
       "      <th>beam_direction</th>\n",
       "      <th>cell_range</th>\n",
       "      <th>tilt</th>\n",
       "      <th>ran_vendor</th>\n",
       "      <th>Congestion_Type</th>\n",
       "    </tr>\n",
       "  </thead>\n",
       "  <tbody>\n",
       "    <tr>\n",
       "      <th>0</th>\n",
       "      <td>1090595862</td>\n",
       "      <td>1</td>\n",
       "      <td>2018</td>\n",
       "      <td>12</td>\n",
       "      <td>15</td>\n",
       "      <td>0</td>\n",
       "      <td>50</td>\n",
       "      <td>152</td>\n",
       "      <td>315</td>\n",
       "      <td>59012</td>\n",
       "      <td>...</td>\n",
       "      <td>10</td>\n",
       "      <td>33</td>\n",
       "      <td>46</td>\n",
       "      <td>39</td>\n",
       "      <td>103</td>\n",
       "      <td>69</td>\n",
       "      <td>6</td>\n",
       "      <td>2</td>\n",
       "      <td>ERICSSON</td>\n",
       "      <td>4G_BACKHAUL_CONGESTION</td>\n",
       "    </tr>\n",
       "    <tr>\n",
       "      <th>1</th>\n",
       "      <td>4826375369</td>\n",
       "      <td>1</td>\n",
       "      <td>2018</td>\n",
       "      <td>12</td>\n",
       "      <td>7</td>\n",
       "      <td>20</td>\n",
       "      <td>5</td>\n",
       "      <td>54</td>\n",
       "      <td>1871</td>\n",
       "      <td>334</td>\n",
       "      <td>...</td>\n",
       "      <td>22</td>\n",
       "      <td>20</td>\n",
       "      <td>7</td>\n",
       "      <td>10</td>\n",
       "      <td>21</td>\n",
       "      <td>93</td>\n",
       "      <td>7</td>\n",
       "      <td>5</td>\n",
       "      <td>NOKIA</td>\n",
       "      <td>NC</td>\n",
       "    </tr>\n",
       "    <tr>\n",
       "      <th>2</th>\n",
       "      <td>3607540856</td>\n",
       "      <td>1</td>\n",
       "      <td>2018</td>\n",
       "      <td>12</td>\n",
       "      <td>5</td>\n",
       "      <td>16</td>\n",
       "      <td>35</td>\n",
       "      <td>277</td>\n",
       "      <td>887</td>\n",
       "      <td>945</td>\n",
       "      <td>...</td>\n",
       "      <td>14</td>\n",
       "      <td>91</td>\n",
       "      <td>49</td>\n",
       "      <td>147</td>\n",
       "      <td>159</td>\n",
       "      <td>77</td>\n",
       "      <td>6</td>\n",
       "      <td>3</td>\n",
       "      <td>ERICSSON</td>\n",
       "      <td>3G_BACKHAUL_CONGESTION</td>\n",
       "    </tr>\n",
       "    <tr>\n",
       "      <th>3</th>\n",
       "      <td>1245076813</td>\n",
       "      <td>0</td>\n",
       "      <td>2018</td>\n",
       "      <td>12</td>\n",
       "      <td>16</td>\n",
       "      <td>21</td>\n",
       "      <td>60</td>\n",
       "      <td>51</td>\n",
       "      <td>8577</td>\n",
       "      <td>494</td>\n",
       "      <td>...</td>\n",
       "      <td>10</td>\n",
       "      <td>63</td>\n",
       "      <td>42</td>\n",
       "      <td>75</td>\n",
       "      <td>35</td>\n",
       "      <td>95</td>\n",
       "      <td>7</td>\n",
       "      <td>2</td>\n",
       "      <td>HUAWEI</td>\n",
       "      <td>3G_BACKHAUL_CONGESTION</td>\n",
       "    </tr>\n",
       "    <tr>\n",
       "      <th>4</th>\n",
       "      <td>404129745</td>\n",
       "      <td>1</td>\n",
       "      <td>2018</td>\n",
       "      <td>12</td>\n",
       "      <td>4</td>\n",
       "      <td>6</td>\n",
       "      <td>60</td>\n",
       "      <td>117</td>\n",
       "      <td>2084</td>\n",
       "      <td>1056</td>\n",
       "      <td>...</td>\n",
       "      <td>67</td>\n",
       "      <td>59</td>\n",
       "      <td>91</td>\n",
       "      <td>197</td>\n",
       "      <td>316</td>\n",
       "      <td>112</td>\n",
       "      <td>3</td>\n",
       "      <td>5</td>\n",
       "      <td>HUAWEI</td>\n",
       "      <td>4G_RAN_CONGESTION</td>\n",
       "    </tr>\n",
       "  </tbody>\n",
       "</table>\n",
       "<p>5 rows × 39 columns</p>\n",
       "</div>"
      ],
      "text/plain": [
       "    cell_name  4G_rat  par_year  par_month  par_day  par_hour  par_min  \\\n",
       "0  1090595862       1      2018         12       15         0       50   \n",
       "1  4826375369       1      2018         12        7        20        5   \n",
       "2  3607540856       1      2018         12        5        16       35   \n",
       "3  1245076813       0      2018         12       16        21       60   \n",
       "4   404129745       1      2018         12        4         6       60   \n",
       "\n",
       "   subscriber_count  web_browsing_total_bytes  video_total_bytes  \\\n",
       "0               152                       315              59012   \n",
       "1                54                      1871                334   \n",
       "2               277                       887                945   \n",
       "3                51                      8577                494   \n",
       "4               117                      2084               1056   \n",
       "\n",
       "            ...            email_total_bytes  weather_total_bytes  \\\n",
       "0           ...                           10                   33   \n",
       "1           ...                           22                   20   \n",
       "2           ...                           14                   91   \n",
       "3           ...                           10                   63   \n",
       "4           ...                           67                   59   \n",
       "\n",
       "   media_total_bytes  mms_total_bytes  others_total_bytes  beam_direction  \\\n",
       "0                 46               39                 103              69   \n",
       "1                  7               10                  21              93   \n",
       "2                 49              147                 159              77   \n",
       "3                 42               75                  35              95   \n",
       "4                 91              197                 316             112   \n",
       "\n",
       "   cell_range  tilt  ran_vendor         Congestion_Type  \n",
       "0           6     2    ERICSSON  4G_BACKHAUL_CONGESTION  \n",
       "1           7     5       NOKIA                      NC  \n",
       "2           6     3    ERICSSON  3G_BACKHAUL_CONGESTION  \n",
       "3           7     2      HUAWEI  3G_BACKHAUL_CONGESTION  \n",
       "4           3     5      HUAWEI       4G_RAN_CONGESTION  \n",
       "\n",
       "[5 rows x 39 columns]"
      ]
     },
     "execution_count": 62,
     "metadata": {},
     "output_type": "execute_result"
    }
   ],
   "source": [
    "train=pd.read_csv('train_upd.csv')\n",
    "train.head()"
   ]
  },
  {
   "cell_type": "code",
   "execution_count": 63,
   "metadata": {},
   "outputs": [
    {
     "data": {
      "text/plain": [
       "cell_name                        0\n",
       "4G_rat                           0\n",
       "par_year                         0\n",
       "par_month                        0\n",
       "par_day                          0\n",
       "par_hour                         0\n",
       "par_min                          0\n",
       "subscriber_count                 0\n",
       "web_browsing_total_bytes         0\n",
       "video_total_bytes                0\n",
       "social_ntwrking_bytes            0\n",
       "cloud_computing_total_bytes      0\n",
       "web_security_total_bytes         0\n",
       "gaming_total_bytes               0\n",
       "health_total_bytes               0\n",
       "communication_total_bytes        0\n",
       "file_sharing_total_bytes         0\n",
       "remote_access_total_bytes        0\n",
       "photo_sharing_total_bytes        0\n",
       "software_dwnld_total_bytes       0\n",
       "marketplace_total_bytes          0\n",
       "storage_services_total_bytes     0\n",
       "audio_total_bytes                0\n",
       "location_services_total_bytes    0\n",
       "presence_total_bytes             0\n",
       "advertisement_total_bytes        0\n",
       "system_total_bytes               0\n",
       "voip_total_bytes                 0\n",
       "speedtest_total_bytes            0\n",
       "email_total_bytes                0\n",
       "weather_total_bytes              0\n",
       "media_total_bytes                0\n",
       "mms_total_bytes                  0\n",
       "others_total_bytes               0\n",
       "beam_direction                   0\n",
       "cell_range                       0\n",
       "tilt                             0\n",
       "ran_vendor                       0\n",
       "Congestion_Type                  0\n",
       "dtype: int64"
      ]
     },
     "execution_count": 63,
     "metadata": {},
     "output_type": "execute_result"
    }
   ],
   "source": [
    "train.isnull().sum()"
   ]
  },
  {
   "cell_type": "code",
   "execution_count": 64,
   "metadata": {},
   "outputs": [
    {
     "data": {
      "text/plain": [
       "Index(['cell_name', '4G_rat', 'par_year', 'par_month', 'par_day', 'par_hour',\n",
       "       'par_min', 'subscriber_count', 'web_browsing_total_bytes',\n",
       "       'video_total_bytes', 'social_ntwrking_bytes',\n",
       "       'cloud_computing_total_bytes', 'web_security_total_bytes',\n",
       "       'gaming_total_bytes', 'health_total_bytes', 'communication_total_bytes',\n",
       "       'file_sharing_total_bytes', 'remote_access_total_bytes',\n",
       "       'photo_sharing_total_bytes', 'software_dwnld_total_bytes',\n",
       "       'marketplace_total_bytes', 'storage_services_total_bytes',\n",
       "       'audio_total_bytes', 'location_services_total_bytes',\n",
       "       'presence_total_bytes', 'advertisement_total_bytes',\n",
       "       'system_total_bytes', 'voip_total_bytes', 'speedtest_total_bytes',\n",
       "       'email_total_bytes', 'weather_total_bytes', 'media_total_bytes',\n",
       "       'mms_total_bytes', 'others_total_bytes', 'beam_direction', 'cell_range',\n",
       "       'tilt', 'ran_vendor', 'Congestion_Type'],\n",
       "      dtype='object')"
      ]
     },
     "execution_count": 64,
     "metadata": {},
     "output_type": "execute_result"
    }
   ],
   "source": [
    "train.columns"
   ]
  },
  {
   "cell_type": "code",
   "execution_count": 65,
   "metadata": {},
   "outputs": [
    {
     "data": {
      "text/plain": [
       "cell_name                         int64\n",
       "4G_rat                            int64\n",
       "par_year                          int64\n",
       "par_month                         int64\n",
       "par_day                           int64\n",
       "par_hour                          int64\n",
       "par_min                           int64\n",
       "subscriber_count                  int64\n",
       "web_browsing_total_bytes          int64\n",
       "video_total_bytes                 int64\n",
       "social_ntwrking_bytes             int64\n",
       "cloud_computing_total_bytes       int64\n",
       "web_security_total_bytes          int64\n",
       "gaming_total_bytes                int64\n",
       "health_total_bytes                int64\n",
       "communication_total_bytes         int64\n",
       "file_sharing_total_bytes          int64\n",
       "remote_access_total_bytes         int64\n",
       "photo_sharing_total_bytes         int64\n",
       "software_dwnld_total_bytes        int64\n",
       "marketplace_total_bytes           int64\n",
       "storage_services_total_bytes      int64\n",
       "audio_total_bytes                 int64\n",
       "location_services_total_bytes     int64\n",
       "presence_total_bytes              int64\n",
       "advertisement_total_bytes         int64\n",
       "system_total_bytes                int64\n",
       "voip_total_bytes                  int64\n",
       "speedtest_total_bytes             int64\n",
       "email_total_bytes                 int64\n",
       "weather_total_bytes               int64\n",
       "media_total_bytes                 int64\n",
       "mms_total_bytes                   int64\n",
       "others_total_bytes                int64\n",
       "beam_direction                    int64\n",
       "cell_range                        int64\n",
       "tilt                              int64\n",
       "ran_vendor                       object\n",
       "Congestion_Type                  object\n",
       "dtype: object"
      ]
     },
     "execution_count": 65,
     "metadata": {},
     "output_type": "execute_result"
    }
   ],
   "source": [
    "train.dtypes"
   ]
  },
  {
   "cell_type": "code",
   "execution_count": 66,
   "metadata": {},
   "outputs": [
    {
     "data": {
      "text/plain": [
       "array(['4G_BACKHAUL_CONGESTION', 'NC', '3G_BACKHAUL_CONGESTION',\n",
       "       '4G_RAN_CONGESTION'], dtype=object)"
      ]
     },
     "execution_count": 66,
     "metadata": {},
     "output_type": "execute_result"
    }
   ],
   "source": [
    "train['Congestion_Type'].unique()"
   ]
  },
  {
   "cell_type": "code",
   "execution_count": 67,
   "metadata": {},
   "outputs": [
    {
     "data": {
      "text/plain": [
       "array(['ERICSSON', 'NOKIA', 'HUAWEI'], dtype=object)"
      ]
     },
     "execution_count": 67,
     "metadata": {},
     "output_type": "execute_result"
    }
   ],
   "source": [
    "train['ran_vendor'].unique()"
   ]
  },
  {
   "cell_type": "code",
   "execution_count": 68,
   "metadata": {
    "collapsed": true
   },
   "outputs": [],
   "source": [
    "lb1=LabelEncoder()\n",
    "train['ran_vendor']=lb1.fit_transform(train['ran_vendor'])"
   ]
  },
  {
   "cell_type": "code",
   "execution_count": 69,
   "metadata": {
    "collapsed": true
   },
   "outputs": [],
   "source": [
    "lb2=LabelEncoder()\n",
    "train['Congestion_Type']=lb1.fit_transform(train['Congestion_Type'])"
   ]
  },
  {
   "cell_type": "code",
   "execution_count": 70,
   "metadata": {
    "collapsed": true
   },
   "outputs": [],
   "source": [
    "X=train.drop(['Congestion_Type','cell_name'],axis=1).values"
   ]
  },
  {
   "cell_type": "code",
   "execution_count": 71,
   "metadata": {
    "collapsed": true
   },
   "outputs": [],
   "source": [
    "Y=train['Congestion_Type'].values"
   ]
  },
  {
   "cell_type": "code",
   "execution_count": 72,
   "metadata": {
    "collapsed": true
   },
   "outputs": [],
   "source": [
    "X_train,X_val,Y_train,Y_val=train_test_split(X,Y,test_size=0.3)"
   ]
  },
  {
   "cell_type": "code",
   "execution_count": 73,
   "metadata": {
    "collapsed": true
   },
   "outputs": [],
   "source": [
    "from sklearn.metrics import matthews_corrcoef"
   ]
  },
  {
   "cell_type": "code",
   "execution_count": 74,
   "metadata": {
    "scrolled": true
   },
   "outputs": [
    {
     "data": {
      "text/plain": [
       "0.6720364655658001"
      ]
     },
     "execution_count": 74,
     "metadata": {},
     "output_type": "execute_result"
    }
   ],
   "source": [
    "RFC=RandomForestClassifier(n_estimators=300)\n",
    "RFC.fit(X_train,Y_train)\n",
    "pred=RFC.predict(X_val)\n",
    "matthews_corrcoef(pred,Y_val)"
   ]
  },
  {
   "cell_type": "code",
   "execution_count": 75,
   "metadata": {},
   "outputs": [
    {
     "data": {
      "text/plain": [
       "0.5521469789545146"
      ]
     },
     "execution_count": 75,
     "metadata": {},
     "output_type": "execute_result"
    }
   ],
   "source": [
    "DT=DecisionTreeClassifier()\n",
    "DT.fit(X_train,Y_train)\n",
    "y_pred3=pd.Series(DT.predict(X_val),name='DT')\n",
    "DT.score(X_val,Y_val)"
   ]
  },
  {
   "cell_type": "code",
   "execution_count": 76,
   "metadata": {},
   "outputs": [
    {
     "data": {
      "text/plain": [
       "(78560, 39)"
      ]
     },
     "execution_count": 76,
     "metadata": {},
     "output_type": "execute_result"
    }
   ],
   "source": [
    "train.shape"
   ]
  },
  {
   "cell_type": "code",
   "execution_count": 77,
   "metadata": {
    "collapsed": true
   },
   "outputs": [],
   "source": [
    "train2,val2,Y_train2,Y_val2=train_test_split(train.drop(['Congestion_Type','cell_name'],axis=1),train['Congestion_Type'].values,test_size=0.3)"
   ]
  },
  {
   "cell_type": "code",
   "execution_count": 78,
   "metadata": {},
   "outputs": [
    {
     "data": {
      "text/plain": [
       "(54992, 37)"
      ]
     },
     "execution_count": 78,
     "metadata": {},
     "output_type": "execute_result"
    }
   ],
   "source": [
    "train2.shape"
   ]
  },
  {
   "cell_type": "code",
   "execution_count": 79,
   "metadata": {},
   "outputs": [
    {
     "data": {
      "text/plain": [
       "(54992,)"
      ]
     },
     "execution_count": 79,
     "metadata": {},
     "output_type": "execute_result"
    }
   ],
   "source": [
    "Y_train2.shape"
   ]
  },
  {
   "cell_type": "code",
   "execution_count": 80,
   "metadata": {
    "scrolled": true
   },
   "outputs": [
    {
     "data": {
      "text/html": [
       "<div>\n",
       "<style scoped>\n",
       "    .dataframe tbody tr th:only-of-type {\n",
       "        vertical-align: middle;\n",
       "    }\n",
       "\n",
       "    .dataframe tbody tr th {\n",
       "        vertical-align: top;\n",
       "    }\n",
       "\n",
       "    .dataframe thead th {\n",
       "        text-align: right;\n",
       "    }\n",
       "</style>\n",
       "<table border=\"1\" class=\"dataframe\">\n",
       "  <thead>\n",
       "    <tr style=\"text-align: right;\">\n",
       "      <th></th>\n",
       "      <th>4G_rat</th>\n",
       "      <th>par_year</th>\n",
       "      <th>par_month</th>\n",
       "      <th>par_day</th>\n",
       "      <th>par_hour</th>\n",
       "      <th>par_min</th>\n",
       "      <th>subscriber_count</th>\n",
       "      <th>web_browsing_total_bytes</th>\n",
       "      <th>video_total_bytes</th>\n",
       "      <th>social_ntwrking_bytes</th>\n",
       "      <th>...</th>\n",
       "      <th>speedtest_total_bytes</th>\n",
       "      <th>email_total_bytes</th>\n",
       "      <th>weather_total_bytes</th>\n",
       "      <th>media_total_bytes</th>\n",
       "      <th>mms_total_bytes</th>\n",
       "      <th>others_total_bytes</th>\n",
       "      <th>beam_direction</th>\n",
       "      <th>cell_range</th>\n",
       "      <th>tilt</th>\n",
       "      <th>ran_vendor</th>\n",
       "    </tr>\n",
       "  </thead>\n",
       "  <tbody>\n",
       "    <tr>\n",
       "      <th>9585</th>\n",
       "      <td>0</td>\n",
       "      <td>2018</td>\n",
       "      <td>12</td>\n",
       "      <td>28</td>\n",
       "      <td>3</td>\n",
       "      <td>35</td>\n",
       "      <td>240</td>\n",
       "      <td>8247</td>\n",
       "      <td>50541</td>\n",
       "      <td>12671</td>\n",
       "      <td>...</td>\n",
       "      <td>475</td>\n",
       "      <td>41</td>\n",
       "      <td>21</td>\n",
       "      <td>186</td>\n",
       "      <td>68</td>\n",
       "      <td>491</td>\n",
       "      <td>99</td>\n",
       "      <td>4</td>\n",
       "      <td>3</td>\n",
       "      <td>1</td>\n",
       "    </tr>\n",
       "    <tr>\n",
       "      <th>9437</th>\n",
       "      <td>1</td>\n",
       "      <td>2018</td>\n",
       "      <td>12</td>\n",
       "      <td>6</td>\n",
       "      <td>6</td>\n",
       "      <td>45</td>\n",
       "      <td>446</td>\n",
       "      <td>57350</td>\n",
       "      <td>12960</td>\n",
       "      <td>5458</td>\n",
       "      <td>...</td>\n",
       "      <td>16</td>\n",
       "      <td>14</td>\n",
       "      <td>4</td>\n",
       "      <td>54</td>\n",
       "      <td>13</td>\n",
       "      <td>19</td>\n",
       "      <td>83</td>\n",
       "      <td>6</td>\n",
       "      <td>5</td>\n",
       "      <td>0</td>\n",
       "    </tr>\n",
       "    <tr>\n",
       "      <th>34849</th>\n",
       "      <td>1</td>\n",
       "      <td>2018</td>\n",
       "      <td>12</td>\n",
       "      <td>16</td>\n",
       "      <td>9</td>\n",
       "      <td>60</td>\n",
       "      <td>151</td>\n",
       "      <td>25753</td>\n",
       "      <td>134</td>\n",
       "      <td>247</td>\n",
       "      <td>...</td>\n",
       "      <td>28</td>\n",
       "      <td>34</td>\n",
       "      <td>27</td>\n",
       "      <td>10</td>\n",
       "      <td>165</td>\n",
       "      <td>200</td>\n",
       "      <td>94</td>\n",
       "      <td>3</td>\n",
       "      <td>2</td>\n",
       "      <td>2</td>\n",
       "    </tr>\n",
       "    <tr>\n",
       "      <th>4391</th>\n",
       "      <td>1</td>\n",
       "      <td>2018</td>\n",
       "      <td>12</td>\n",
       "      <td>14</td>\n",
       "      <td>15</td>\n",
       "      <td>15</td>\n",
       "      <td>53</td>\n",
       "      <td>1224</td>\n",
       "      <td>1496</td>\n",
       "      <td>429</td>\n",
       "      <td>...</td>\n",
       "      <td>19</td>\n",
       "      <td>67</td>\n",
       "      <td>6</td>\n",
       "      <td>10</td>\n",
       "      <td>101</td>\n",
       "      <td>17</td>\n",
       "      <td>73</td>\n",
       "      <td>7</td>\n",
       "      <td>3</td>\n",
       "      <td>1</td>\n",
       "    </tr>\n",
       "    <tr>\n",
       "      <th>8467</th>\n",
       "      <td>0</td>\n",
       "      <td>2018</td>\n",
       "      <td>12</td>\n",
       "      <td>27</td>\n",
       "      <td>18</td>\n",
       "      <td>15</td>\n",
       "      <td>78</td>\n",
       "      <td>41972</td>\n",
       "      <td>3226</td>\n",
       "      <td>3028</td>\n",
       "      <td>...</td>\n",
       "      <td>22</td>\n",
       "      <td>15</td>\n",
       "      <td>39</td>\n",
       "      <td>37</td>\n",
       "      <td>158</td>\n",
       "      <td>45</td>\n",
       "      <td>79</td>\n",
       "      <td>5</td>\n",
       "      <td>4</td>\n",
       "      <td>0</td>\n",
       "    </tr>\n",
       "  </tbody>\n",
       "</table>\n",
       "<p>5 rows × 37 columns</p>\n",
       "</div>"
      ],
      "text/plain": [
       "       4G_rat  par_year  par_month  par_day  par_hour  par_min  \\\n",
       "9585        0      2018         12       28         3       35   \n",
       "9437        1      2018         12        6         6       45   \n",
       "34849       1      2018         12       16         9       60   \n",
       "4391        1      2018         12       14        15       15   \n",
       "8467        0      2018         12       27        18       15   \n",
       "\n",
       "       subscriber_count  web_browsing_total_bytes  video_total_bytes  \\\n",
       "9585                240                      8247              50541   \n",
       "9437                446                     57350              12960   \n",
       "34849               151                     25753                134   \n",
       "4391                 53                      1224               1496   \n",
       "8467                 78                     41972               3226   \n",
       "\n",
       "       social_ntwrking_bytes     ...      speedtest_total_bytes  \\\n",
       "9585                   12671     ...                        475   \n",
       "9437                    5458     ...                         16   \n",
       "34849                    247     ...                         28   \n",
       "4391                     429     ...                         19   \n",
       "8467                    3028     ...                         22   \n",
       "\n",
       "       email_total_bytes  weather_total_bytes  media_total_bytes  \\\n",
       "9585                  41                   21                186   \n",
       "9437                  14                    4                 54   \n",
       "34849                 34                   27                 10   \n",
       "4391                  67                    6                 10   \n",
       "8467                  15                   39                 37   \n",
       "\n",
       "       mms_total_bytes  others_total_bytes  beam_direction  cell_range  tilt  \\\n",
       "9585                68                 491              99           4     3   \n",
       "9437                13                  19              83           6     5   \n",
       "34849              165                 200              94           3     2   \n",
       "4391               101                  17              73           7     3   \n",
       "8467               158                  45              79           5     4   \n",
       "\n",
       "       ran_vendor  \n",
       "9585            1  \n",
       "9437            0  \n",
       "34849           2  \n",
       "4391            1  \n",
       "8467            0  \n",
       "\n",
       "[5 rows x 37 columns]"
      ]
     },
     "execution_count": 80,
     "metadata": {},
     "output_type": "execute_result"
    }
   ],
   "source": [
    "train2.head()"
   ]
  },
  {
   "cell_type": "code",
   "execution_count": 81,
   "metadata": {
    "scrolled": true
   },
   "outputs": [
    {
     "data": {
      "text/plain": [
       "(3316, 37)"
      ]
     },
     "execution_count": 81,
     "metadata": {},
     "output_type": "execute_result"
    }
   ],
   "source": [
    "train2_1=train2[train2['subscriber_count']>2200]\n",
    "train2_1.shape"
   ]
  },
  {
   "cell_type": "code",
   "execution_count": 82,
   "metadata": {
    "collapsed": true
   },
   "outputs": [],
   "source": [
    "X_2_1=train2_1.values"
   ]
  },
  {
   "cell_type": "code",
   "execution_count": 83,
   "metadata": {},
   "outputs": [],
   "source": [
    "Y_2_1=Y_train2[train2['subscriber_count']>2200]"
   ]
  },
  {
   "cell_type": "code",
   "execution_count": 84,
   "metadata": {},
   "outputs": [],
   "source": [
    "X_2_1_train,X_2_1_val,Y_2_1_train,Y_2_1_val=train_test_split(X_2_1,Y_2_1,test_size=0.2)"
   ]
  },
  {
   "cell_type": "code",
   "execution_count": 85,
   "metadata": {},
   "outputs": [
    {
     "data": {
      "text/plain": [
       "0.8527699050557204"
      ]
     },
     "execution_count": 85,
     "metadata": {},
     "output_type": "execute_result"
    }
   ],
   "source": [
    "RFC_2_1=RandomForestClassifier(n_estimators=500)\n",
    "RFC_2_1.fit(X_2_1_train,Y_2_1_train)\n",
    "pred_2_1=RFC.predict(X_2_1_val)\n",
    "matthews_corrcoef(pred_2_1,Y_2_1_val)"
   ]
  },
  {
   "cell_type": "code",
   "execution_count": 86,
   "metadata": {},
   "outputs": [
    {
     "data": {
      "text/plain": [
       "(51676, 37)"
      ]
     },
     "execution_count": 86,
     "metadata": {},
     "output_type": "execute_result"
    }
   ],
   "source": [
    "train2_2=train2[train2['subscriber_count']<=2200]\n",
    "train2_2.shape"
   ]
  },
  {
   "cell_type": "code",
   "execution_count": 87,
   "metadata": {},
   "outputs": [],
   "source": [
    "X_2_2=train2_2.values"
   ]
  },
  {
   "cell_type": "code",
   "execution_count": 88,
   "metadata": {
    "collapsed": true
   },
   "outputs": [],
   "source": [
    "Y_2_2=Y_train2[train2['subscriber_count']<=2200]"
   ]
  },
  {
   "cell_type": "code",
   "execution_count": 89,
   "metadata": {
    "collapsed": true
   },
   "outputs": [],
   "source": [
    "X_2_2_train,X_2_2_val,Y_2_2_train,Y_2_2_val=train_test_split(X_2_2,Y_2_2,test_size=0.2)"
   ]
  },
  {
   "cell_type": "code",
   "execution_count": 90,
   "metadata": {},
   "outputs": [
    {
     "data": {
      "text/plain": [
       "0.8997645659827502"
      ]
     },
     "execution_count": 90,
     "metadata": {},
     "output_type": "execute_result"
    }
   ],
   "source": [
    "RFC_2_2=RandomForestClassifier(n_estimators=500)\n",
    "RFC_2_2.fit(X_2_2_train,Y_2_2_train)\n",
    "pred_2_2=RFC.predict(X_2_2_val)\n",
    "matthews_corrcoef(pred_2_2,Y_2_2_val)"
   ]
  },
  {
   "cell_type": "code",
   "execution_count": 101,
   "metadata": {},
   "outputs": [
    {
     "data": {
      "text/plain": [
       "(1323, 37)"
      ]
     },
     "execution_count": 101,
     "metadata": {},
     "output_type": "execute_result"
    }
   ],
   "source": [
    "val2_1=val2[val2['subscriber_count']>2200].values\n",
    "val2_1.shape"
   ]
  },
  {
   "cell_type": "code",
   "execution_count": 102,
   "metadata": {},
   "outputs": [],
   "source": [
    "Yval_2_1=Y_val2[val2['subscriber_count']>2200]"
   ]
  },
  {
   "cell_type": "code",
   "execution_count": 103,
   "metadata": {},
   "outputs": [
    {
     "data": {
      "text/plain": [
       "0.8401855096281062"
      ]
     },
     "execution_count": 103,
     "metadata": {},
     "output_type": "execute_result"
    }
   ],
   "source": [
    "pred_2_1=RFC.predict(val2_1)\n",
    "matthews_corrcoef(pred_2_1,Yval_2_1)"
   ]
  },
  {
   "cell_type": "code",
   "execution_count": 104,
   "metadata": {},
   "outputs": [
    {
     "data": {
      "text/plain": [
       "(22245, 37)"
      ]
     },
     "execution_count": 104,
     "metadata": {},
     "output_type": "execute_result"
    }
   ],
   "source": [
    "val2_2=val2[val2['subscriber_count']<=2200].values\n",
    "val2_2.shape"
   ]
  },
  {
   "cell_type": "code",
   "execution_count": 105,
   "metadata": {
    "collapsed": true
   },
   "outputs": [],
   "source": [
    "Yval_2_2=Y_val2[val2['subscriber_count']<=2200]"
   ]
  },
  {
   "cell_type": "code",
   "execution_count": 106,
   "metadata": {},
   "outputs": [
    {
     "data": {
      "text/plain": [
       "0.8996640932953339"
      ]
     },
     "execution_count": 106,
     "metadata": {},
     "output_type": "execute_result"
    }
   ],
   "source": [
    "pred_2_2=RFC.predict(val2_2)\n",
    "matthews_corrcoef(pred_2_2,Yval_2_2)"
   ]
  },
  {
   "cell_type": "code",
   "execution_count": 107,
   "metadata": {
    "collapsed": true
   },
   "outputs": [],
   "source": [
    "z=np.append(pred_2_1,pred_2_2)"
   ]
  },
  {
   "cell_type": "code",
   "execution_count": 108,
   "metadata": {
    "collapsed": true
   },
   "outputs": [],
   "source": [
    "z_ans=np.append(Yval_2_1,Yval_2_2)"
   ]
  },
  {
   "cell_type": "code",
   "execution_count": 109,
   "metadata": {},
   "outputs": [
    {
     "data": {
      "text/plain": [
       "0.89924007386208"
      ]
     },
     "execution_count": 109,
     "metadata": {},
     "output_type": "execute_result"
    }
   ],
   "source": [
    "matthews_corrcoef(z,z_ans)"
   ]
  },
  {
   "cell_type": "code",
   "execution_count": null,
   "metadata": {
    "collapsed": true
   },
   "outputs": [],
   "source": []
  }
 ],
 "metadata": {
  "kernelspec": {
   "display_name": "Python 3",
   "language": "python",
   "name": "python3"
  },
  "language_info": {
   "codemirror_mode": {
    "name": "ipython",
    "version": 3
   },
   "file_extension": ".py",
   "mimetype": "text/x-python",
   "name": "python",
   "nbconvert_exporter": "python",
   "pygments_lexer": "ipython3",
   "version": "3.7.0"
  }
 },
 "nbformat": 4,
 "nbformat_minor": 2
}
